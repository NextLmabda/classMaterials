{
 "cells": [
  {
   "cell_type": "code",
   "execution_count": 1,
   "metadata": {},
   "outputs": [
    {
     "data": {
      "text/plain": [
       "'Ebony'"
      ]
     },
     "execution_count": 1,
     "metadata": {},
     "output_type": "execute_result"
    }
   ],
   "source": [
    "'Ebony'"
   ]
  },
  {
   "cell_type": "code",
   "execution_count": 2,
   "metadata": {},
   "outputs": [],
   "source": [
    "name = 'Ebony'"
   ]
  },
  {
   "cell_type": "code",
   "execution_count": 3,
   "metadata": {},
   "outputs": [
    {
     "data": {
      "text/plain": [
       "'Ebony'"
      ]
     },
     "execution_count": 3,
     "metadata": {},
     "output_type": "execute_result"
    }
   ],
   "source": [
    "name"
   ]
  },
  {
   "cell_type": "code",
   "execution_count": 7,
   "metadata": {},
   "outputs": [],
   "source": [
    "student = {'Omolewa': 34, 'Shayo': 26}"
   ]
  },
  {
   "cell_type": "code",
   "execution_count": 8,
   "metadata": {},
   "outputs": [
    {
     "data": {
      "text/plain": [
       "dict"
      ]
     },
     "execution_count": 8,
     "metadata": {},
     "output_type": "execute_result"
    }
   ],
   "source": [
    "type(student)"
   ]
  },
  {
   "cell_type": "code",
   "execution_count": 9,
   "metadata": {},
   "outputs": [],
   "source": [
    "student['Shayo'] = 36"
   ]
  },
  {
   "cell_type": "code",
   "execution_count": 10,
   "metadata": {},
   "outputs": [
    {
     "data": {
      "text/plain": [
       "{'Omolewa': 34, 'Shayo': 36}"
      ]
     },
     "execution_count": 10,
     "metadata": {},
     "output_type": "execute_result"
    }
   ],
   "source": [
    "student"
   ]
  },
  {
   "cell_type": "code",
   "execution_count": 11,
   "metadata": {},
   "outputs": [],
   "source": [
    "student['Ihuoma'] = 16"
   ]
  },
  {
   "cell_type": "code",
   "execution_count": 12,
   "metadata": {},
   "outputs": [
    {
     "data": {
      "text/plain": [
       "{'Omolewa': 34, 'Shayo': 36, 'Ihuoma': 16}"
      ]
     },
     "execution_count": 12,
     "metadata": {},
     "output_type": "execute_result"
    }
   ],
   "source": [
    "student"
   ]
  },
  {
   "cell_type": "code",
   "execution_count": 13,
   "metadata": {},
   "outputs": [
    {
     "data": {
      "text/plain": [
       "dict_keys(['Omolewa', 'Shayo', 'Ihuoma'])"
      ]
     },
     "execution_count": 13,
     "metadata": {},
     "output_type": "execute_result"
    }
   ],
   "source": [
    "student.keys()"
   ]
  },
  {
   "cell_type": "code",
   "execution_count": 14,
   "metadata": {},
   "outputs": [
    {
     "data": {
      "text/plain": [
       "dict_values([34, 36, 16])"
      ]
     },
     "execution_count": 14,
     "metadata": {},
     "output_type": "execute_result"
    }
   ],
   "source": [
    "student.values()"
   ]
  },
  {
   "cell_type": "code",
   "execution_count": 16,
   "metadata": {},
   "outputs": [
    {
     "data": {
      "text/plain": [
       "{'O': None, 'm': None, 'o': None, 'l': None, 'e': None, 'w': None, 'a': None}"
      ]
     },
     "execution_count": 16,
     "metadata": {},
     "output_type": "execute_result"
    }
   ],
   "source": [
    "student.fromkeys('Omolewa')"
   ]
  },
  {
   "cell_type": "code",
   "execution_count": 18,
   "metadata": {},
   "outputs": [
    {
     "data": {
      "text/plain": [
       "34"
      ]
     },
     "execution_count": 18,
     "metadata": {},
     "output_type": "execute_result"
    }
   ],
   "source": [
    "list(student.values())[0]"
   ]
  },
  {
   "cell_type": "code",
   "execution_count": 19,
   "metadata": {},
   "outputs": [
    {
     "data": {
      "text/plain": [
       "{'Omolewa': 34, 'Shayo': 36, 'Ihuoma': 16}"
      ]
     },
     "execution_count": 19,
     "metadata": {},
     "output_type": "execute_result"
    }
   ],
   "source": [
    "student"
   ]
  },
  {
   "cell_type": "code",
   "execution_count": 23,
   "metadata": {},
   "outputs": [],
   "source": [
    "country = {'USA': ['GA', 'SC', 'FL', 'NY'], 'UK': ['London', 'MC', 'BR'], 'NIG': ['ABJ', 'LA']}"
   ]
  },
  {
   "cell_type": "code",
   "execution_count": 21,
   "metadata": {},
   "outputs": [
    {
     "data": {
      "text/plain": [
       "dict_keys(['USA', 'UK', 'NIG'])"
      ]
     },
     "execution_count": 21,
     "metadata": {},
     "output_type": "execute_result"
    }
   ],
   "source": [
    "country.keys()"
   ]
  },
  {
   "cell_type": "code",
   "execution_count": 22,
   "metadata": {},
   "outputs": [
    {
     "data": {
      "text/plain": [
       "dict_values([['GA', 'SC', 'FL', 'NY'], ['London', 'MC', 'BR'], ['ABJ', 'LA']])"
      ]
     },
     "execution_count": 22,
     "metadata": {},
     "output_type": "execute_result"
    }
   ],
   "source": [
    "country.values()"
   ]
  },
  {
   "cell_type": "code",
   "execution_count": 24,
   "metadata": {},
   "outputs": [
    {
     "data": {
      "text/plain": [
       "'MC'"
      ]
     },
     "execution_count": 24,
     "metadata": {},
     "output_type": "execute_result"
    }
   ],
   "source": [
    "# write a code that will print 'MC'\n",
    "country['UK'][1]"
   ]
  },
  {
   "cell_type": "code",
   "execution_count": 29,
   "metadata": {},
   "outputs": [
    {
     "data": {
      "text/plain": [
       "'MC'"
      ]
     },
     "execution_count": 29,
     "metadata": {},
     "output_type": "execute_result"
    }
   ],
   "source": [
    "country['UK'][1]"
   ]
  },
  {
   "cell_type": "code",
   "execution_count": 30,
   "metadata": {},
   "outputs": [
    {
     "data": {
      "text/plain": [
       "dict_values([['GA', 'SC', 'FL', 'NY'], ['London', 'MC', 'BR'], ['ABJ', 'LA']])"
      ]
     },
     "execution_count": 30,
     "metadata": {},
     "output_type": "execute_result"
    }
   ],
   "source": [
    "country.values()"
   ]
  },
  {
   "cell_type": "code",
   "execution_count": 31,
   "metadata": {},
   "outputs": [
    {
     "data": {
      "text/plain": [
       "[['GA', 'SC', 'FL', 'NY'], ['London', 'MC', 'BR'], ['ABJ', 'LA']]"
      ]
     },
     "execution_count": 31,
     "metadata": {},
     "output_type": "execute_result"
    }
   ],
   "source": [
    "list(country.values())"
   ]
  },
  {
   "cell_type": "code",
   "execution_count": 32,
   "metadata": {},
   "outputs": [
    {
     "data": {
      "text/plain": [
       "['London', 'MC', 'BR']"
      ]
     },
     "execution_count": 32,
     "metadata": {},
     "output_type": "execute_result"
    }
   ],
   "source": [
    "list(country.values())[1]"
   ]
  },
  {
   "cell_type": "code",
   "execution_count": 33,
   "metadata": {},
   "outputs": [
    {
     "data": {
      "text/plain": [
       "'MC'"
      ]
     },
     "execution_count": 33,
     "metadata": {},
     "output_type": "execute_result"
    }
   ],
   "source": [
    "list(country.values())[1][1]"
   ]
  },
  {
   "cell_type": "code",
   "execution_count": 34,
   "metadata": {},
   "outputs": [],
   "source": [
    "# Nested dictionary\n",
    "\n",
    "country = {'USA': {'GA': [' DG', 'ATL', 'SM'], 'FL': ['AB', 'BC']}, \n",
    "           'UK': {'LON': ['CA', 'BC', 'DC'], 'BIR': ['AB', 'ZX']},\n",
    "           'NIG': {'ABJ': ['MK', 'AR'], 'LAG': ['CS']}}"
   ]
  },
  {
   "cell_type": "code",
   "execution_count": null,
   "metadata": {},
   "outputs": [],
   "source": [
    ",\n",
    "  \"data\" : [ [ \"row-mfpy.gr8q.cpii\", \"00000000-0000-0000-9BCA-A8F3F8EB7F2F\", 0, 1541631506, null, 1541631506, null, \"{ }\", \"2015\", \"FINANCIAL ASSISTANCE FOR AGRICULTURE\", \"FINANCIAL ASSISTANCE FOR AGRICULTURE\", \"AGRICULTURAL LOAN DIVISION\", \"OTHER CURRENT EXPENSES\", null, \"0.00\", \"SPECIAL FUND\", null, \"VEHICLE\" ]\n",
    ", [ \"row-nxur_rd7v-f9af\", \"00000000-0000-0000-D041-27F9EF1551D6\", 0, 1541631506, null, 1541631506, null, \"{ }\", \"2015\", \"PLANT PEST AND DISEASE CONTROL\", \"PLANT PEST AND DISEASE CONTROL\", \"PLANT QUARANTINE BRANCH\", \"OTHER CURRENT EXPENSES\", null, \"0.00\", \"GENERAL FUND\", null, \"VEHICLES\" ]\n",
    ", [ \"row-jbz7~6y43-jzvn\", \"00000000-0000-0000-843A-4C2E44AED8C4\", 0, 1541631506, null, 1541631506, null, \"{ }\", \"2015\", \"PLANT PEST AND DISEASE CONTROL\", \"PLANT PEST AND DISEASE CONTROL\", \"PLANT QUARANTINE BRANCH\", \"OTHER CURRENT EXPENSES\", null, \"0.00\", \"GENERAL FUND\", null, \"VEHICLE\" ]\n",
    ", [ \"row-jv75.dgib_rv8w\", \"00000000-0000-0000-AFFB-6A20BDA58C34\", 0, 1541631506, null, 1541631506, null, \"{ }\", \"2015\", \"PLANT PEST AND DISEASE CONTROL\", \"PLANT PEST AND DISEASE CONTROL\", \"PLANT QUARANTINE BRANCH\", \"OTHER CURRENT EXPENSES\", null, \"0.00\", \"GENERAL FUND\", null, \"VEHICLE\" ]\n",
    ", [ \"row-wbp7.8mza-jygc\", \"00000000-0000-0000-E7B5-F606CDA5B4AE\", 0, 1541631506, null, 1541631506, null, \"{ }\", \"2015\", \"PLANT PEST AND DISEASE CONTROL\", \"PLANT PEST AND DISEASE CONTROL\", \"PLANT QUARANTINE BRANCH\", \"OTHER CURRENT EXPENSES\", null, \"0.00\", \"GENERAL FUND\", null, \"SPORT UTILITY VEHICLE, 4WD\" ]\n",
    ", [ \"row-3s2a_mja5_zp7j\", \"00000000-0000-0000-9882-F6F644BAACA0\", 0, 1541631506, null, 1541631506, null, \"{ }\", \"2015\", \"PLANT PEST AND DISEASE CONTROL\", \"PLANT PEST AND DISEASE CONTROL\", \"PLANT QUARANTINE BRANCH\", \"OTHER CURRENT EXPENSES\", null, \"0.00\", \"GENERAL FUND\", null, \"SPORT UTILITY VEHICLE, 4WD\" ]\n",
    ", [ \"row-8qgm~j8zw_7s8z\", \"00000000-0000-0000-98B8-2CA55181A33A\", 0, 1541631506, null, 1541631506, null, \"{ }\", \"2015\", \"PLANT PEST AND DISEASE CONTROL\", \"PLANT PEST AND DISEASE CONTROL\", \"PLANT QUARANTINE BRANCH\", \"OTHER CURRENT EXPENSES\", null, \"0.00\", \"GENERAL FUND\", null, \"SPORT UTILITY VEHICLE, 4WD\" ]\n",
    ", [ \"row-66u3~yqye.cw8e\", \"00000000-0000-0000-5958-F66D3EC33EB1\", 0, 1541631506, null, 1541631506, null, \"{ }\", \"2015\", \"PLANT PEST AND DISEASE CONTROL\", \"PLANT PEST AND DISEASE CONTROL\", \"PLANT QUARANTINE BRANCH\", \"OTHER CURRENT EXPENSES\", null, \"0.00\", \"GENERAL FUND\", null, \"VAN\" ]\n",
    ", [ \"row-egs4_vr44~xegd\", \"00000000-0000-0000-2971-7BB85E45BB84\", 0, 1541631506, null, 1541631506, null, \"{ }\", \"2015\", \"PLANT PEST AND DISEASE CONTROL\", \"PLANT PEST AND DISEASE CONTROL\", \"PLANT QUARANTINE BRANCH\", \"OTHER CURRENT EXPENSES\", null, \"0.00\", \"GENERAL FUND\", null, \"VAN\" ]\n",
    ", [ \"row-h3gx-d64k~n52g\", \"00000000-0000-0000-C8A6-FE5222EBB789\", 0, 1541631506, null, 1541631506, null, \"{ }\", \"2015\", \"PLANT PEST AND DISEASE CONTROL\", \"PLANT PEST AND DISEASE CONTROL\", \"PLANT PEST CONTROL BRANCH - BIOCONTROL\", \"OTHER CURRENT EXPENSES\", null, \"0.00\", \"GENERAL FUND\", null, \"VEHICLE\" ]\n",
    ", [ \"row-9hip~nyfv.bavj\", \"00000000-0000-0000-9B52-5A8CAF0B4168\", 0, 1541631506, null, 1541631506, null, \"{ }\", \"2015\", \"PLANT PEST AND DISEASE CONTROL\", \"PLANT PEST AND DISEASE CONTROL\", \"PLANT PEST CONTROL BRANCH - BIOCONTROL\", \"OTHER CURRENT EXPENSES\", null, \"0.00\", \"FEDERAL FUNDS\", null, \"VEHICLE\" ]\n",
    ", [ \"row-pnh7~a8it.hs2m\", \"00000000-0000-0000-8044-44566BAE1F4D\", 0, 1541631506, null, 1541631506, null, \"{ }\", \"2015\", \"PLANT PEST AND DISEASE CONTROL\", \"PLANT PEST AND DISEASE CONTROL\", \"PLANT PEST CONTROL BRANCH - BIOCONTROL\", \"OTHER CURRENT EXPENSES\", null, \"0.00\", \"GENERAL FUND\", null, \"VEHICLE\" ]\n",
    ", [ \"row-bcpm_avnm~rzup\", \"00000000-0000-0000-EDF7-78BC3A84A0A5\", 0, 1541631506, null, 1541631506, null, \"{ }\", \"2015\", \"PLANT PEST AND DISEASE CONTROL\", \"PLANT PEST AND DISEASE CONTROL\", \"PLANT PEST CONTROL BRANCH - CHEM / MECH\", \"OTHER CURRENT EXPENSES\", null, \"0.00\", \"GENERAL FUND\", null, \"VEHICLE\" ]\n",
    ", [ \"row-yya5-qykb.a366\", \"00000000-0000-0000-F25E-38929A24FACA\", 0, 1541631506, null, 1541631506, null, \"{ }\", \"2015\", \"ANIMAL QUARANTINE\", \"ANIMAL QUARANTINE\", \"INSPECTION & QUARANTINE BRANCH\", \"OTHER CURRENT EXPENSES\", null, \"0.00\", \"SPECIAL FUND\", null, \"CARGO VAN, 1-TON\" ]\n",
    ", [ \"row-hrqn-xktw.42kb\", \"00000000-0000-0000-8722-DB012BA768DF\", 0, 1541631506, null, 1541631506, null, \"{ }\", \"2015\", \"ANIMAL QUARANTINE\", \"ANIMAL QUARANTINE\", \"INSPECTION & QUARANTINE BRANCH\", \"OTHER CURRENT EXPENSES\", null, \"0.00\", \"SPECIAL FUND\", null, \"SEDAN, INTERMEDIATE\" ]\n",
    ", [ \"row-f4a7-9tc2_h5xv\", \"00000000-0000-0000-8AE3-36B692833684\", 0, 1541631506, null, 1541631506, null, \"{ }\", \"2015\", \"ANIMAL DISEASE CONTROL\", \"ANIMAL DISEASE CONTROL\", \"ANIMAL INDUSTRY DIVISION ADMINISTRATION\", \"OTHER CURRENT EXPENSES\", null, \"0.00\", \"GENERAL FUND\", null, \"VEHICLE\" ]\n",
    ", [ \"row-5vkr_r35j.ahtj\", \"00000000-0000-0000-EACC-10FE013BC6F1\", 0, 1541631506, null, 1541631506, null, \"{ }\", \"2015\", \"ANIMAL DISEASE CONTROL\", \"ANIMAL DISEASE CONTROL\", \"LIVESTOCK DISEASE CONTROL BRANCH\", \"OTHER CURRENT EXPENSES\", null, \"0.00\", \"GENERAL FUND\", null, \"VEHICLE\" ]\n",
    ", [ \"row-ak3a.epqi-t35u\", \"00000000-0000-0000-6A70-0FE86978BF31\", 0, 1541631506, null, 1541631506, null, \"{ }\", \"2015\", \"ANIMAL DISEASE CONTROL\", \"ANIMAL DISEASE CONTROL\", \"LIVESTOCK DISEASE CONTROL BRANCH\", \"OTHER CURRENT EXPENSES\", null, \"0.00\", \"FEDERAL FUNDS\", null, \"MOTOR VEHICLE\" ]\n",
    ", [ \"row-pbwr_afvs.zkdu\", \"00000000-0000-0000-C066-ECFC6E482C49\", 0, 1541631506, null, 1541631506, null, \"{ }\", \"2015\", \"ANIMAL DISEASE CONTROL\", \"ANIMAL DISEASE CONTROL\", \"LIVESTOCK DISEASE CONTROL BRANCH\", \"OTHER CURRENT EXPENSES\", null, \"0.00\", \"FEDERAL FUNDS\", null, \"MOTOR VEHICLE\" ]\n",
    ", [ \"row-s9z6.cqx6_dp88\", \"00000000-0000-0000-31FC-D1763091AB62\", 0, 1541631506, null, 1541631506, null, \"{ }\", \"2015\", \"ANIMAL DISEASE CONTROL\", \"ANIMAL DISEASE CONTROL\", \"LIVESTOCK DISEASE CONTROL BRANCH\", \"OTHER CURRENT EXPENSES\", null, \"0.00\", \"FEDERAL FUNDS\", null, \"MOTOR VEHICLE\" ]\n",
    ", [ \"row-w3re.6r3i.k6v5\", \"00000000-0000-0000-10DD-EB87D726F68F\", 0, 1541631506, null, 1541631506, null, \"{ }\", \"2015\", \"ANIMAL DISEASE CONTROL\", \"ANIMAL DISEASE CONTROL\", \"LIVESTOCK DISEASE CONTROL BRANCH\", \"OTHER CURRENT EXPENSES\", null, \"0.00\", \"FEDERAL FUNDS\", null, \"MOTOR VEHICLE\" ]\n",
    ", [ \"row-axc7.ssjt.8nv8\", \"00000000-0000-0000-90A0-81FFC93AC847\", 0, 1541631506, null, 1541631506, null, \"{ }\", \"2015\", \"AGRICULTURAL RESOURCE MANAGEMENT\", \"AGRICULTURAL RESOURCE MANAGEMENT\", \"AGRICULTURAL RESOURCE MANAGEMENT DIVISION\", \"OTHER CURRENT EXPENSES\", null, \"0.00\", \"SPECIAL FUND\", null, \"VEHICLE\" ]\n",
    ", [ \"row-3fi5.emp3~fcuy\", \"00000000-0000-0000-B123-844E7D9BDB95\", 0, 1541631506, null, 1541631506, null, \"{ }\", \"2015\", \"AGRICULTURAL RESOURCE MANAGEMENT\", \"AGRICULTURAL RESOURCE MANAGEMENT\", \"AGRICULTURAL RESOURCE MANAGEMENT DIVISION\", \"OTHER CURRENT EXPENSES\", null, \"0.00\", \"SPECIAL FUND\", null, \"VEHICLE\" ]\n",
    ", [ \"row-ce4g_5wun_hhee\", \"00000000-0000-0000-A567-32EEB9A45312\", 0, 1541631506, null, 1541631506, null, \"{ }\", \"2015\", \"AGRICULTURAL RESOURCE MANAGEMENT\", \"AGRICULTURAL RESOURCE MANAGEMENT\", \"AGRICULTURAL RESOURCE MANAGEMENT DIVISION\", \"OTHER CURRENT EXPENSES\", null, \"35000.00\", \"REVOLVING FUNDS\", null, \"SUV- 4WD\" ]\n",
    ", [ \"row-7y4z~262x~e3b8\", \"00000000-0000-0000-F630-A23CD522AE63\", 0, 1541631506, null, 1541631506, null, \"{ }\", \"2015\", \"AGRICULTURAL RESOURCE MANAGEMENT\", \"AGRICULTURAL RESOURCE MANAGEMENT\", \"AGRICULTURAL RESOURCE MANAGEMENT DIVISION\", \"OTHER CURRENT EXPENSES\", null, \"35000.00\", \"REVOLVING FUNDS\", null, \"SUV- 4WD\" ]\n",
    ", [ \"row-pgju_v36i_jdk3\", \"00000000-0000-0000-308D-9E115AC0F889\", 0, 1541631506, null, 1541631506, null, \"{ }\", \"2015\", \"MKG INFO & DISTRIB SYSTEMS IMPROVEMT FOR AGR\", \"MKG INFO & DISTRIB SYSTEMS IMPROVEMT FOR AGR\", \"COMMODITIES BRANCH\", \"OTHER CURRENT EXPENSES\", null, \"0.00\", \"GENERAL FUND\", null, \"VEHICLES\" ]\n",
    ", [ \"row-f99t.futu-4xzd\", \"00000000-0000-0000-271E-752965C7477C\", 0, 1541631506, null, 1541631506, null, \"{ }\", \"2015\", \"MKG INFO & DISTRIB SYSTEMS IMPROVEMT FOR AGR\", \"MKG INFO & DISTRIB SYSTEMS IMPROVEMT FOR AGR\", \"COMMODITIES BRANCH\", \"OTHER CURRENT EXPENSES\", null, \"0.00\", \"REVOLVING FUNDS\", null, \"VEHICLE\" ]\n",
    ", [ \"row-j6dn_y2ef~eqpe\", \"00000000-0000-0000-1F61-20710216929B\", 0, 1541631506, null, 1541631506, null, \"{ }\", \"2015\", \"MKG INFO & DISTRIB SYSTEMS IMPROVEMT FOR AGR\", \"MKG INFO & DISTRIB SYSTEMS IMPROVEMT FOR AGR\", \"COMMODITIES BRANCH\", \"OTHER CURRENT EXPENSES\", null, \"0.00\", \"REVOLVING FUNDS\", null, \"VEHICLE\" ]\n",
    ", [ \"row-dzzb~crku-sb3p\", \"00000000-0000-0000-8403-87283B219449\", 0, 1541631506, null, 1541631506, null, \"{ }\", \"2015\", \"MKG INFO & DISTRIB SYSTEMS IMPROVEMT FOR AGR\", \"MKG INFO & DISTRIB SYSTEMS IMPROVEMT FOR AGR\", \"COMMODITIES BRANCH - MILK CONTROL\", \"OTHER CURRENT EXPENSES\", null, \"0.00\", \"SPECIAL FUND\", null, \"VEHICLE\" ]\n",
    ", [ \"row-dg8m-8stn.bf5y\", \"00000000-0000-0000-503B-507DA372B589\", 0, 1541631506, null, 1541631506, null, \"{ }\", \"2015\", \"AQUACULTURE DEVELOPMENT\", \"AQUACULTURE DEVELOPMENT\", \"AQUACULTURE DEVELOPMENT PROGRAM\", \"OTHER CURRENT EXPENSES\", null, \"0.00\", \"GENERAL FUND\", null, \"VEHICLE\" ]\n",
    ", [ \"row-57fw~cekj~ztm5\", \"00000000-0000-0000-6EA7-2B72AA5CC356\", 0, 1541631506, null, 1541631506, null, \"{ }\", \"2015\", \"AGRIBUSINESS DEVELOPMENT & RESEARCH\", \"AGRIBUSINESS DEVELOPMENT & RESEARCH\", \"AGRIBUSINESS DEVELOPMENT CORP.\", \"OTHER CURRENT EXPENSES\", null, \"0.00\", \"REVOLVING FUNDS\", null, \"VEHICLE\" ]\n",
    ", [ \"row-pc4n-he6p.p8cc\", \"00000000-0000-0000-B1A9-7598A5B1CCBD\", 0, 1541631506, null, 1541631506, null, \"{ }\", \"2015\", \"AGRIBUSINESS DEVELOPMENT & RESEARCH\", \"AGRIBUSINESS DEVELOPMENT & RESEARCH\", \"WAIAHOLE WATER SYSTEM\", \"OTHER CURRENT EXPENSES\", null, \"0.00\", \"REVOLVING FUNDS\", null, \"PICK-UP, 4X4\" ]\n",
    ", [ \"row-cmrm_svqg-a5d7\", \"00000000-0000-0000-D0A0-DA37988CE591\", 0, 1541631506, null, 1541631506, null, \"{ }\", \"2015\", \"AGRICULTURAL DEVELOPMENT & MARKETING\", \"AGRICULTURAL DEVELOPMENT & MARKETING\", \"HAWAII AGRICULTURAL STATISTICAL SERVICES BR.\", \"OTHER CURRENT EXPENSES\", null, \"0.00\", \"GENERAL FUND\", null, \"VEHICLE\" ]\n",
    ", [ \"row-8yjj-9iyq-stbr\", \"00000000-0000-0000-DBBD-D117FF883782\", 0, 1541631506, null, 1541631506, null, \"{ }\", \"2015\", \"AGRICULTURAL DEVELOPMENT & MARKETING\", \"AGRICULTURAL DEVELOPMENT & MARKETING\", \"MARKET DEVELOPMENT BRANCH\", \"OTHER CURRENT EXPENSES\", null, \"0.00\", \"GENERAL FUND\", null, \"VEHICLE\" ]\n",
    ", [ \"row-2bg2-ncje.mqdy\", \"00000000-0000-0000-6925-EBAB2413EE16\", 0, 1541631506, null, 1541631506, null, \"{ }\", \"2015\", \"GENERAL ADMINISTRATION FOR AGR\", \"GENERAL ADMINISTRATION FOR AGR\", \"DEPARTMENTAL ADMINISTRATION\", \"OTHER CURRENT EXPENSES\", null, \"0.00\", \"GENERAL FUND\", null, \"VEHICLE\" ]\n",
    ", [ \"row-5cz9.zvif.nkq6\", \"00000000-0000-0000-1F8A-772D245544A0\", 0, 1541631506, null, 1541631506, null, \"{ }\", \"2015\", \"MEASUREMENT STANDARDS\", \"MEASUREMENT STANDARDS\", \"MEASUREMENT STANDARDS BRANCH\", \"OTHER CURRENT EXPENSES\", null, \"0.00\", \"GENERAL FUND\", null, \"VEHICLE\" ]\n",
    ", [ \"row-m68a~vgsc_bny9\", \"00000000-0000-0000-2A00-C4E2020F1692\", 0, 1541631506, null, 1541631506, null, \"{ }\", \"2015\", \"MEASUREMENT STANDARDS\", \"MEASUREMENT STANDARDS\", \"MEASUREMENT STANDARDS BRANCH\", \"OTHER CURRENT EXPENSES\", null, \"25000.00\", \"SPECIAL FUND\", null, \"VAN\" ]\n",
    ", [ \"row-wwgd~tcgk-pvk7\", \"00000000-0000-0000-FD3C-3D49BCCAC3FE\", 0, 1541631506, null, 1541631506, null, \"{ }\", \"2015\", \"MEASUREMENT STANDARDS\", \"MEASUREMENT STANDARDS\", \"MEASUREMENT STANDARDS BRANCH\", \"OTHER CURRENT EXPENSES\", null, \"25000.00\", \"SPECIAL FUND\", null, \"VAN\" ]\n",
    ", [ \"row-hkqu-qmhb.h5g7\", \"00000000-0000-0000-DC3E-FD3BCE37A9BF\", 0, 1541631506, null, 1541631506, null, \"{ }\", \"2015\", \"MEASUREMENT STANDARDS\", \"MEASUREMENT STANDARDS\", \"MEASUREMENT STANDARDS BRANCH\", \"OTHER CURRENT EXPENSES\", null, \"30000.00\", \"SPECIAL FUND\", null, \"PICK-UP TRUCK\" ]\n",
    ", [ \"row-rwj3_ftt6~quwa\", \"00000000-0000-0000-3CFE-D1B07A9C0372\", 0, 1541631506, null, 1541631506, null, \"{ }\", \"2015\", \"PESTICIDES\", \"PESTICIDES\", \"PESTICIDE BRANCH\", \"OTHER CURRENT EXPENSES\", null, \"0.00\", \"FEDERAL FUNDS\", null, \"SEDAN, COMPACT\" ]\n",
    ", [ \"row-x6jc-4dv2_fkpu\", \"00000000-0000-0000-C12E-0AAAD07FD25E\", 0, 1541631506, null, 1541631506, null, \"{ }\", \"2015\", \"PESTICIDES\", \"PESTICIDES\", \"PESTICIDE BRANCH\", \"OTHER CURRENT EXPENSES\", null, \"0.00\", \"FEDERAL FUNDS\", null, \"SPORTS UTILITY, COMPACT\" ]\n",
    ", [ \"row-quuy-dz5m~ktrr\", \"00000000-0000-0000-26EF-154C3C7B036C\", 0, 1541631506, null, 1541631506, null, \"{ }\", \"2015\", \"PESTICIDES\", \"PESTICIDES\", \"PESTICIDE BRANCH\", \"OTHER CURRENT EXPENSES\", null, \"0.00\", \"REVOLVING FUNDS\", null, \"VEHICLE\" ]\n",
    " ]"
   ]
  },
  {
   "cell_type": "code",
   "execution_count": 2,
   "metadata": {},
   "outputs": [],
   "source": [
    "data = {\n",
    "  \"meta\" : {\n",
    "    \"view\" : {\n",
    "      \"id\" : \"usep-nua7\",\n",
    "      \"name\" : \"Sample DataSet\",\n",
    "      \"averageRating\" : 0,\n",
    "      \"createdAt\" : 1420748479,\n",
    "      \"description\" : \"For testing purposes only\",\n",
    "      \"displayType\" : \"table\",\n",
    "      \"downloadCount\" : 26951,\n",
    "      \"hideFromCatalog\" : False,\n",
    "      \"hideFromDataJson\" : False,\n",
    "      \"indexUpdatedAt\" : 1420751985,\n",
    "      \"newBackend\" : True,\n",
    "      \"numberOfComments\" : 0,\n",
    "      \"oid\" : 9864902,\n",
    "      \"provenance\" : \"official\",\n",
    "      \"publicationAppendEnabled\" : False,\n",
    "      \"publicationDate\" : 1420749334,\n",
    "      \"publicationGroup\" : 2080751,\n",
    "      \"publicationStage\" : \"published\",\n",
    "      \"rowsUpdatedAt\" : 1420749245,\n",
    "      \"rowsUpdatedBy\" : \"nczc-usar\",\n",
    "      \"tableId\" : 2080798,\n",
    "      \"totalTimesRated\" : 0,\n",
    "      \"viewCount\" : 550,\n",
    "      \"viewLastModified\" : 1420751956,\n",
    "      \"viewType\" : \"tabular\",\n",
    "      \"approvals\" : [ {\n",
    "        \"reviewedAt\" : 1420751954,\n",
    "        \"reviewedAutomatically\" : True,\n",
    "        \"state\" : \"approved\",\n",
    "        \"submissionId\" : 806720,\n",
    "        \"submissionObject\" : \"public_audience_request\",\n",
    "        \"submissionOutcome\" : \"change_audience\",\n",
    "        \"submittedAt\" : 1420751954,\n",
    "        \"workflowId\" : 2182,\n",
    "        \"submissionDetails\" : {\n",
    "          \"permissionType\" : \"READ\"\n",
    "        },\n",
    "        \"submissionOutcomeApplication\" : {\n",
    "          \"failureCount\" : 0,\n",
    "          \"status\" : \"success\"\n",
    "        },\n",
    "        \"submitter\" : {\n",
    "          \"id\" : \"nczc-usar\",\n",
    "          \"displayName\" : \"Darryl Lajola\"\n",
    "        }\n",
    "      } ],\n",
    "      \"columns\" : [ {\n",
    "        \"id\" : -1,\n",
    "        \"name\" : \"sid\",\n",
    "        \"dataTypeName\" : \"meta_data\",\n",
    "        \"fieldName\" : \":sid\",\n",
    "        \"position\" : 0,\n",
    "        \"renderTypeName\" : \"meta_data\",\n",
    "        \"format\" : { },\n",
    "        \"flags\" : [ \"hidden\" ]\n",
    "      }, {\n",
    "        \"id\" : -1,\n",
    "        \"name\" : \"id\",\n",
    "        \"dataTypeName\" : \"meta_data\",\n",
    "        \"fieldName\" : \":id\",\n",
    "        \"position\" : 0,\n",
    "        \"renderTypeName\" : \"meta_data\",\n",
    "        \"format\" : { },\n",
    "        \"flags\" : [ \"hidden\" ]\n",
    "      }, {\n",
    "        \"id\" : -1,\n",
    "        \"name\" : \"position\",\n",
    "        \"dataTypeName\" : \"meta_data\",\n",
    "        \"fieldName\" : \":position\",\n",
    "        \"position\" : 0,\n",
    "        \"renderTypeName\" : \"meta_data\",\n",
    "        \"format\" : { },\n",
    "        \"flags\" : [ \"hidden\" ]\n",
    "      }, {\n",
    "        \"id\" : -1,\n",
    "        \"name\" : \"created_at\",\n",
    "        \"dataTypeName\" : \"meta_data\",\n",
    "        \"fieldName\" : \":created_at\",\n",
    "        \"position\" : 0,\n",
    "        \"renderTypeName\" : \"meta_data\",\n",
    "        \"format\" : { },\n",
    "        \"flags\" : [ \"hidden\" ]\n",
    "      }, {\n",
    "        \"id\" : -1,\n",
    "        \"name\" : \"created_meta\",\n",
    "        \"dataTypeName\" : \"meta_data\",\n",
    "        \"fieldName\" : \":created_meta\",\n",
    "        \"position\" : 0,\n",
    "        \"renderTypeName\" : \"meta_data\",\n",
    "        \"format\" : { },\n",
    "        \"flags\" : [ \"hidden\" ]\n",
    "      }, {\n",
    "        \"id\" : -1,\n",
    "        \"name\" : \"updated_at\",\n",
    "        \"dataTypeName\" : \"meta_data\",\n",
    "        \"fieldName\" : \":updated_at\",\n",
    "        \"position\" : 0,\n",
    "        \"renderTypeName\" : \"meta_data\",\n",
    "        \"format\" : { },\n",
    "        \"flags\" : [ \"hidden\" ]\n",
    "      }, {\n",
    "        \"id\" : -1,\n",
    "        \"name\" : \"updated_meta\",\n",
    "        \"dataTypeName\" : \"meta_data\",\n",
    "        \"fieldName\" : \":updated_meta\",\n",
    "        \"position\" : 0,\n",
    "        \"renderTypeName\" : \"meta_data\",\n",
    "        \"format\" : { },\n",
    "        \"flags\" : [ \"hidden\" ]\n",
    "      }, {\n",
    "        \"id\" : -1,\n",
    "        \"name\" : \"meta\",\n",
    "        \"dataTypeName\" : \"meta_data\",\n",
    "        \"fieldName\" : \":meta\",\n",
    "        \"position\" : 0,\n",
    "        \"renderTypeName\" : \"meta_data\",\n",
    "        \"format\" : { },\n",
    "        \"flags\" : [ \"hidden\" ]\n",
    "      }, {\n",
    "        \"id\" : 183656833,\n",
    "        \"name\" : \"FISCAL YEAR\",\n",
    "        \"dataTypeName\" : \"text\",\n",
    "        \"fieldName\" : \"fiscal_year\",\n",
    "        \"position\" : 2,\n",
    "        \"rdfProperties\" : \"\",\n",
    "        \"renderTypeName\" : \"text\",\n",
    "        \"tableColumnId\" : 23866869,\n",
    "        \"width\" : 232,\n",
    "        \"cachedContents\" : {\n",
    "          \"non_null\" : 42,\n",
    "          \"largest\" : \"2015\",\n",
    "          \"null\" : 0,\n",
    "          \"top\" : [ {\n",
    "            \"item\" : \"2015\",\n",
    "            \"count\" : 20\n",
    "          } ],\n",
    "          \"smallest\" : \"2015\"\n",
    "        },\n",
    "        \"format\" : {\n",
    "          \"precisionStyle\" : \"standard\",\n",
    "          \"rdf\" : \"\",\n",
    "          \"noCommas\" : \"false\",\n",
    "          \"align\" : \"right\"\n",
    "        }\n",
    "      }, {\n",
    "        \"id\" : 183656834,\n",
    "        \"name\" : \"SERVICE\",\n",
    "        \"dataTypeName\" : \"text\",\n",
    "        \"fieldName\" : \"service\",\n",
    "        \"position\" : 3,\n",
    "        \"renderTypeName\" : \"text\",\n",
    "        \"tableColumnId\" : 23866870,\n",
    "        \"width\" : 184,\n",
    "        \"cachedContents\" : {\n",
    "          \"non_null\" : 42,\n",
    "          \"largest\" : \"PLANT PEST AND DISEASE CONTROL\",\n",
    "          \"null\" : 0,\n",
    "          \"top\" : [ {\n",
    "            \"item\" : \"FINANCIAL ASSISTANCE FOR AGRICULTURE\",\n",
    "            \"count\" : 20\n",
    "          }, {\n",
    "            \"item\" : \"PLANT PEST AND DISEASE CONTROL\",\n",
    "            \"count\" : 19\n",
    "          }, {\n",
    "            \"item\" : \"ANIMAL QUARANTINE\",\n",
    "            \"count\" : 18\n",
    "          }, {\n",
    "            \"item\" : \"ANIMAL DISEASE CONTROL\",\n",
    "            \"count\" : 17\n",
    "          }, {\n",
    "            \"item\" : \"AGRICULTURAL RESOURCE MANAGEMENT\",\n",
    "            \"count\" : 16\n",
    "          }, {\n",
    "            \"item\" : \"MKG INFO & DISTRIB SYSTEMS IMPROVEMT FOR AGR\",\n",
    "            \"count\" : 15\n",
    "          }, {\n",
    "            \"item\" : \"AQUACULTURE DEVELOPMENT\",\n",
    "            \"count\" : 14\n",
    "          }, {\n",
    "            \"item\" : \"AGRIBUSINESS DEVELOPMENT & RESEARCH\",\n",
    "            \"count\" : 13\n",
    "          }, {\n",
    "            \"item\" : \"AGRICULTURAL DEVELOPMENT & MARKETING\",\n",
    "            \"count\" : 12\n",
    "          }, {\n",
    "            \"item\" : \"GENERAL ADMINISTRATION FOR AGR\",\n",
    "            \"count\" : 11\n",
    "          }, {\n",
    "            \"item\" : \"MEASUREMENT STANDARDS\",\n",
    "            \"count\" : 10\n",
    "          }, {\n",
    "            \"item\" : \"PESTICIDES\",\n",
    "            \"count\" : 9\n",
    "          } ],\n",
    "          \"smallest\" : \"AGRIBUSINESS DEVELOPMENT & RESEARCH\"\n",
    "        },\n",
    "        \"format\" : { }\n",
    "      }, {\n",
    "        \"id\" : 183656835,\n",
    "        \"name\" : \"DEPARTMENT\",\n",
    "        \"dataTypeName\" : \"text\",\n",
    "        \"fieldName\" : \"department\",\n",
    "        \"position\" : 4,\n",
    "        \"renderTypeName\" : \"text\",\n",
    "        \"tableColumnId\" : 23866871,\n",
    "        \"width\" : 220,\n",
    "        \"cachedContents\" : {\n",
    "          \"non_null\" : 42,\n",
    "          \"largest\" : \"PLANT PEST AND DISEASE CONTROL\",\n",
    "          \"null\" : 0,\n",
    "          \"top\" : [ {\n",
    "            \"item\" : \"FINANCIAL ASSISTANCE FOR AGRICULTURE\",\n",
    "            \"count\" : 20\n",
    "          }, {\n",
    "            \"item\" : \"PLANT PEST AND DISEASE CONTROL\",\n",
    "            \"count\" : 19\n",
    "          }, {\n",
    "            \"item\" : \"ANIMAL QUARANTINE\",\n",
    "            \"count\" : 18\n",
    "          }, {\n",
    "            \"item\" : \"ANIMAL DISEASE CONTROL\",\n",
    "            \"count\" : 17\n",
    "          }, {\n",
    "            \"item\" : \"AGRICULTURAL RESOURCE MANAGEMENT\",\n",
    "            \"count\" : 16\n",
    "          }, {\n",
    "            \"item\" : \"MKG INFO & DISTRIB SYSTEMS IMPROVEMT FOR AGR\",\n",
    "            \"count\" : 15\n",
    "          }, {\n",
    "            \"item\" : \"AQUACULTURE DEVELOPMENT\",\n",
    "            \"count\" : 14\n",
    "          }, {\n",
    "            \"item\" : \"AGRIBUSINESS DEVELOPMENT & RESEARCH\",\n",
    "            \"count\" : 13\n",
    "          }, {\n",
    "            \"item\" : \"AGRICULTURAL DEVELOPMENT & MARKETING\",\n",
    "            \"count\" : 12\n",
    "          }, {\n",
    "            \"item\" : \"GENERAL ADMINISTRATION FOR AGR\",\n",
    "            \"count\" : 11\n",
    "          }, {\n",
    "            \"item\" : \"MEASUREMENT STANDARDS\",\n",
    "            \"count\" : 10\n",
    "          }, {\n",
    "            \"item\" : \"PESTICIDES\",\n",
    "            \"count\" : 9\n",
    "          } ],\n",
    "          \"smallest\" : \"AGRIBUSINESS DEVELOPMENT & RESEARCH\"\n",
    "        },\n",
    "        \"format\" : { }\n",
    "      }, {\n",
    "        \"id\" : 183656836,\n",
    "        \"name\" : \"PROGRAM\",\n",
    "        \"dataTypeName\" : \"text\",\n",
    "        \"fieldName\" : \"program\",\n",
    "        \"position\" : 5,\n",
    "        \"renderTypeName\" : \"text\",\n",
    "        \"tableColumnId\" : 23866872,\n",
    "        \"width\" : 184,\n",
    "        \"cachedContents\" : {\n",
    "          \"non_null\" : 42,\n",
    "          \"largest\" : \"WAIAHOLE WATER SYSTEM\",\n",
    "          \"null\" : 0,\n",
    "          \"top\" : [ {\n",
    "            \"item\" : \"AGRICULTURAL LOAN DIVISION\",\n",
    "            \"count\" : 20\n",
    "          }, {\n",
    "            \"item\" : \"PLANT QUARANTINE BRANCH\",\n",
    "            \"count\" : 19\n",
    "          }, {\n",
    "            \"item\" : \"PLANT PEST CONTROL BRANCH - BIOCONTROL\",\n",
    "            \"count\" : 18\n",
    "          }, {\n",
    "            \"item\" : \"PLANT PEST CONTROL BRANCH - CHEM / MECH\",\n",
    "            \"count\" : 17\n",
    "          }, {\n",
    "            \"item\" : \"INSPECTION & QUARANTINE BRANCH\",\n",
    "            \"count\" : 16\n",
    "          }, {\n",
    "            \"item\" : \"ANIMAL INDUSTRY DIVISION ADMINISTRATION\",\n",
    "            \"count\" : 15\n",
    "          }, {\n",
    "            \"item\" : \"LIVESTOCK DISEASE CONTROL BRANCH\",\n",
    "            \"count\" : 14\n",
    "          }, {\n",
    "            \"item\" : \"AGRICULTURAL RESOURCE MANAGEMENT DIVISION\",\n",
    "            \"count\" : 13\n",
    "          }, {\n",
    "            \"item\" : \"COMMODITIES BRANCH\",\n",
    "            \"count\" : 12\n",
    "          }, {\n",
    "            \"item\" : \"COMMODITIES BRANCH - MILK CONTROL\",\n",
    "            \"count\" : 11\n",
    "          }, {\n",
    "            \"item\" : \"AQUACULTURE DEVELOPMENT PROGRAM\",\n",
    "            \"count\" : 10\n",
    "          }, {\n",
    "            \"item\" : \"AGRIBUSINESS DEVELOPMENT CORP.\",\n",
    "            \"count\" : 9\n",
    "          }, {\n",
    "            \"item\" : \"WAIAHOLE WATER SYSTEM\",\n",
    "            \"count\" : 8\n",
    "          }, {\n",
    "            \"item\" : \"HAWAII AGRICULTURAL STATISTICAL SERVICES BR.\",\n",
    "            \"count\" : 7\n",
    "          }, {\n",
    "            \"item\" : \"MARKET DEVELOPMENT BRANCH\",\n",
    "            \"count\" : 6\n",
    "          }, {\n",
    "            \"item\" : \"DEPARTMENTAL ADMINISTRATION\",\n",
    "            \"count\" : 5\n",
    "          }, {\n",
    "            \"item\" : \"MEASUREMENT STANDARDS BRANCH\",\n",
    "            \"count\" : 4\n",
    "          }, {\n",
    "            \"item\" : \"PESTICIDE BRANCH\",\n",
    "            \"count\" : 3\n",
    "          } ],\n",
    "          \"smallest\" : \"AGRIBUSINESS DEVELOPMENT CORP.\"\n",
    "        },\n",
    "        \"format\" : { }\n",
    "      }, {\n",
    "        \"id\" : 183656837,\n",
    "        \"name\" : \"EXPENSE CATEGORY\",\n",
    "        \"dataTypeName\" : \"text\",\n",
    "        \"fieldName\" : \"expense_category\",\n",
    "        \"position\" : 6,\n",
    "        \"renderTypeName\" : \"text\",\n",
    "        \"tableColumnId\" : 23866873,\n",
    "        \"width\" : 292,\n",
    "        \"cachedContents\" : {\n",
    "          \"non_null\" : 42,\n",
    "          \"largest\" : \"OTHER CURRENT EXPENSES\",\n",
    "          \"null\" : 0,\n",
    "          \"top\" : [ {\n",
    "            \"item\" : \"OTHER CURRENT EXPENSES\",\n",
    "            \"count\" : 20\n",
    "          } ],\n",
    "          \"smallest\" : \"OTHER CURRENT EXPENSES\"\n",
    "        },\n",
    "        \"format\" : { }\n",
    "      }, {\n",
    "        \"id\" : 183656838,\n",
    "        \"name\" : \"RECEIVED AMOUNT\",\n",
    "        \"dataTypeName\" : \"text\",\n",
    "        \"fieldName\" : \"received_amount\",\n",
    "        \"position\" : 7,\n",
    "        \"renderTypeName\" : \"text\",\n",
    "        \"tableColumnId\" : 23866874,\n",
    "        \"width\" : 280,\n",
    "        \"cachedContents\" : {\n",
    "          \"non_null\" : 0,\n",
    "          \"null\" : 42\n",
    "        },\n",
    "        \"format\" : { }\n",
    "      }, {\n",
    "        \"id\" : 183656839,\n",
    "        \"name\" : \"APPROVED AMOUNT\",\n",
    "        \"dataTypeName\" : \"number\",\n",
    "        \"fieldName\" : \"approved_amount\",\n",
    "        \"position\" : 8,\n",
    "        \"renderTypeName\" : \"number\",\n",
    "        \"tableColumnId\" : 23866875,\n",
    "        \"width\" : 280,\n",
    "        \"cachedContents\" : {\n",
    "          \"non_null\" : 42,\n",
    "          \"average\" : \"3571.428571428571\",\n",
    "          \"largest\" : \"35000.00\",\n",
    "          \"null\" : 0,\n",
    "          \"top\" : [ {\n",
    "            \"item\" : \"0.00\",\n",
    "            \"count\" : 20\n",
    "          }, {\n",
    "            \"item\" : \"35000.00\",\n",
    "            \"count\" : 19\n",
    "          }, {\n",
    "            \"item\" : \"25000.00\",\n",
    "            \"count\" : 18\n",
    "          }, {\n",
    "            \"item\" : \"30000.00\",\n",
    "            \"count\" : 17\n",
    "          } ],\n",
    "          \"smallest\" : \"0.00\",\n",
    "          \"sum\" : \"150000.00\"\n",
    "        },\n",
    "        \"format\" : {\n",
    "          \"precisionStyle\" : \"currency\",\n",
    "          \"currencyStyle\" : \"USD\",\n",
    "          \"precision\" : \"2\"\n",
    "        }\n",
    "      }, {\n",
    "        \"id\" : 183656840,\n",
    "        \"name\" : \"FUND\",\n",
    "        \"dataTypeName\" : \"text\",\n",
    "        \"fieldName\" : \"fund\",\n",
    "        \"position\" : 9,\n",
    "        \"renderTypeName\" : \"text\",\n",
    "        \"tableColumnId\" : 23866876,\n",
    "        \"width\" : 148,\n",
    "        \"cachedContents\" : {\n",
    "          \"non_null\" : 42,\n",
    "          \"largest\" : \"SPECIAL FUND\",\n",
    "          \"null\" : 0,\n",
    "          \"top\" : [ {\n",
    "            \"item\" : \"SPECIAL FUND\",\n",
    "            \"count\" : 20\n",
    "          }, {\n",
    "            \"item\" : \"GENERAL FUND\",\n",
    "            \"count\" : 19\n",
    "          }, {\n",
    "            \"item\" : \"FEDERAL FUNDS\",\n",
    "            \"count\" : 18\n",
    "          }, {\n",
    "            \"item\" : \"REVOLVING FUNDS\",\n",
    "            \"count\" : 17\n",
    "          } ],\n",
    "          \"smallest\" : \"FEDERAL FUNDS\"\n",
    "        },\n",
    "        \"format\" : { }\n",
    "      }, {\n",
    "        \"id\" : 183656841,\n",
    "        \"name\" : \"FUND TYPE\",\n",
    "        \"dataTypeName\" : \"text\",\n",
    "        \"fieldName\" : \"fund_type\",\n",
    "        \"position\" : 10,\n",
    "        \"renderTypeName\" : \"text\",\n",
    "        \"tableColumnId\" : 23866877,\n",
    "        \"width\" : 208,\n",
    "        \"cachedContents\" : {\n",
    "          \"non_null\" : 0,\n",
    "          \"null\" : 42\n",
    "        },\n",
    "        \"format\" : { }\n",
    "      }, {\n",
    "        \"id\" : 183656842,\n",
    "        \"name\" : \"DESCRIPTION\",\n",
    "        \"dataTypeName\" : \"text\",\n",
    "        \"fieldName\" : \"description\",\n",
    "        \"position\" : 11,\n",
    "        \"renderTypeName\" : \"text\",\n",
    "        \"tableColumnId\" : 23866878,\n",
    "        \"width\" : 232,\n",
    "        \"cachedContents\" : {\n",
    "          \"non_null\" : 42,\n",
    "          \"largest\" : \"VEHICLES\",\n",
    "          \"null\" : 0,\n",
    "          \"top\" : [ {\n",
    "            \"item\" : \"VEHICLE\",\n",
    "            \"count\" : 20\n",
    "          }, {\n",
    "            \"item\" : \"VEHICLES\",\n",
    "            \"count\" : 19\n",
    "          }, {\n",
    "            \"item\" : \"SPORT UTILITY VEHICLE, 4WD\",\n",
    "            \"count\" : 18\n",
    "          }, {\n",
    "            \"item\" : \"VAN\",\n",
    "            \"count\" : 17\n",
    "          }, {\n",
    "            \"item\" : \"CARGO VAN, 1-TON\",\n",
    "            \"count\" : 16\n",
    "          }, {\n",
    "            \"item\" : \"SEDAN, INTERMEDIATE\",\n",
    "            \"count\" : 15\n",
    "          }, {\n",
    "            \"item\" : \"MOTOR VEHICLE\",\n",
    "            \"count\" : 14\n",
    "          }, {\n",
    "            \"item\" : \"SUV- 4WD\",\n",
    "            \"count\" : 13\n",
    "          }, {\n",
    "            \"item\" : \"PICK-UP, 4X4\",\n",
    "            \"count\" : 12\n",
    "          }, {\n",
    "            \"item\" : \"PICK-UP TRUCK\",\n",
    "            \"count\" : 11\n",
    "          }, {\n",
    "            \"item\" : \"SEDAN, COMPACT\",\n",
    "            \"count\" : 10\n",
    "          }, {\n",
    "            \"item\" : \"SPORTS UTILITY, COMPACT\",\n",
    "            \"count\" : 9\n",
    "          } ],\n",
    "          \"smallest\" : \"CARGO VAN, 1-TON\"\n",
    "        },\n",
    "        \"format\" : { }\n",
    "      } ],\n",
    "      \"grants\" : [ {\n",
    "        \"inherited\" : False,\n",
    "        \"type\" : \"viewer\",\n",
    "        \"flags\" : [ \"public\" ]\n",
    "      } ],\n",
    "      \"metadata\" : {\n",
    "        \"custom_fields\" : {\n",
    "          \"Data Reference\" : {\n",
    "            \"Reference for Technical Information\" : \"\",\n",
    "            \"Frequency\" : \"\",\n",
    "            \"Date Updated\" : \"\",\n",
    "            \"Date Released\" : \"\",\n",
    "            \"Period of Coverage\" : \"\",\n",
    "            \"Unit of Analysis\" : \"\",\n",
    "            \"Data dictionary/variable list\" : \"\"\n",
    "          },\n",
    "          \"Hawaii Line of Business\" : {\n",
    "            \"Division name\" : \"\",\n",
    "            \"Line of Business\" : \"\",\n",
    "            \"Division shortname, acronym\" : \"\",\n",
    "            \"Department Agency short name, acronym\" : \"\",\n",
    "            \"State of Hawaii Data Book Category\" : \"\",\n",
    "            \"Department/Agency\" : \"\"\n",
    "          },\n",
    "          \"Terms of Use Acknowledgement\" : {\n",
    "            \"I agree by uploading this dataset that it contains no private information, and adheres to the data.hawaii.gov terms of use.\" : \"yes\"\n",
    "          }\n",
    "        },\n",
    "        \"availableDisplayTypes\" : [ \"table\", \"fatrow\", \"page\" ],\n",
    "        \"renderTypeConfig\" : {\n",
    "          \"visible\" : {\n",
    "            \"table\" : True\n",
    "          }\n",
    "        }\n",
    "      },\n",
    "      \"owner\" : {\n",
    "        \"id\" : \"nczc-usar\",\n",
    "        \"displayName\" : \"Darryl Lajola\",\n",
    "        \"screenName\" : \"Darryl Lajola\",\n",
    "        \"type\" : \"interactive\",\n",
    "        \"userSegment\" : \"site_member\",\n",
    "        \"flags\" : [ \"mayBeStoriesCoOwner\" ]\n",
    "      },\n",
    "      \"query\" : { },\n",
    "      \"rights\" : [ \"read\" ],\n",
    "      \"tableAuthor\" : {\n",
    "        \"id\" : \"nczc-usar\",\n",
    "        \"displayName\" : \"Darryl Lajola\",\n",
    "        \"screenName\" : \"Darryl Lajola\",\n",
    "        \"type\" : \"interactive\",\n",
    "        \"userSegment\" : \"site_member\",\n",
    "        \"flags\" : [ \"mayBeStoriesCoOwner\" ]\n",
    "      },\n",
    "      \"flags\" : [ \"default\", \"restorable\", \"restorePossibleForType\" ]\n",
    "    }\n",
    "  }\n",
    "}"
   ]
  },
  {
   "cell_type": "code",
   "execution_count": 3,
   "metadata": {},
   "outputs": [
    {
     "data": {
      "text/plain": [
       "dict_keys(['meta'])"
      ]
     },
     "execution_count": 3,
     "metadata": {},
     "output_type": "execute_result"
    }
   ],
   "source": [
    "data.keys()"
   ]
  },
  {
   "cell_type": "code",
   "execution_count": 4,
   "metadata": {},
   "outputs": [
    {
     "data": {
      "text/plain": [
       "{'view': {'id': 'usep-nua7',\n",
       "  'name': 'Sample DataSet',\n",
       "  'averageRating': 0,\n",
       "  'createdAt': 1420748479,\n",
       "  'description': 'For testing purposes only',\n",
       "  'displayType': 'table',\n",
       "  'downloadCount': 26951,\n",
       "  'hideFromCatalog': False,\n",
       "  'hideFromDataJson': False,\n",
       "  'indexUpdatedAt': 1420751985,\n",
       "  'newBackend': True,\n",
       "  'numberOfComments': 0,\n",
       "  'oid': 9864902,\n",
       "  'provenance': 'official',\n",
       "  'publicationAppendEnabled': False,\n",
       "  'publicationDate': 1420749334,\n",
       "  'publicationGroup': 2080751,\n",
       "  'publicationStage': 'published',\n",
       "  'rowsUpdatedAt': 1420749245,\n",
       "  'rowsUpdatedBy': 'nczc-usar',\n",
       "  'tableId': 2080798,\n",
       "  'totalTimesRated': 0,\n",
       "  'viewCount': 550,\n",
       "  'viewLastModified': 1420751956,\n",
       "  'viewType': 'tabular',\n",
       "  'approvals': [{'reviewedAt': 1420751954,\n",
       "    'reviewedAutomatically': True,\n",
       "    'state': 'approved',\n",
       "    'submissionId': 806720,\n",
       "    'submissionObject': 'public_audience_request',\n",
       "    'submissionOutcome': 'change_audience',\n",
       "    'submittedAt': 1420751954,\n",
       "    'workflowId': 2182,\n",
       "    'submissionDetails': {'permissionType': 'READ'},\n",
       "    'submissionOutcomeApplication': {'failureCount': 0, 'status': 'success'},\n",
       "    'submitter': {'id': 'nczc-usar', 'displayName': 'Darryl Lajola'}}],\n",
       "  'columns': [{'id': -1,\n",
       "    'name': 'sid',\n",
       "    'dataTypeName': 'meta_data',\n",
       "    'fieldName': ':sid',\n",
       "    'position': 0,\n",
       "    'renderTypeName': 'meta_data',\n",
       "    'format': {},\n",
       "    'flags': ['hidden']},\n",
       "   {'id': -1,\n",
       "    'name': 'id',\n",
       "    'dataTypeName': 'meta_data',\n",
       "    'fieldName': ':id',\n",
       "    'position': 0,\n",
       "    'renderTypeName': 'meta_data',\n",
       "    'format': {},\n",
       "    'flags': ['hidden']},\n",
       "   {'id': -1,\n",
       "    'name': 'position',\n",
       "    'dataTypeName': 'meta_data',\n",
       "    'fieldName': ':position',\n",
       "    'position': 0,\n",
       "    'renderTypeName': 'meta_data',\n",
       "    'format': {},\n",
       "    'flags': ['hidden']},\n",
       "   {'id': -1,\n",
       "    'name': 'created_at',\n",
       "    'dataTypeName': 'meta_data',\n",
       "    'fieldName': ':created_at',\n",
       "    'position': 0,\n",
       "    'renderTypeName': 'meta_data',\n",
       "    'format': {},\n",
       "    'flags': ['hidden']},\n",
       "   {'id': -1,\n",
       "    'name': 'created_meta',\n",
       "    'dataTypeName': 'meta_data',\n",
       "    'fieldName': ':created_meta',\n",
       "    'position': 0,\n",
       "    'renderTypeName': 'meta_data',\n",
       "    'format': {},\n",
       "    'flags': ['hidden']},\n",
       "   {'id': -1,\n",
       "    'name': 'updated_at',\n",
       "    'dataTypeName': 'meta_data',\n",
       "    'fieldName': ':updated_at',\n",
       "    'position': 0,\n",
       "    'renderTypeName': 'meta_data',\n",
       "    'format': {},\n",
       "    'flags': ['hidden']},\n",
       "   {'id': -1,\n",
       "    'name': 'updated_meta',\n",
       "    'dataTypeName': 'meta_data',\n",
       "    'fieldName': ':updated_meta',\n",
       "    'position': 0,\n",
       "    'renderTypeName': 'meta_data',\n",
       "    'format': {},\n",
       "    'flags': ['hidden']},\n",
       "   {'id': -1,\n",
       "    'name': 'meta',\n",
       "    'dataTypeName': 'meta_data',\n",
       "    'fieldName': ':meta',\n",
       "    'position': 0,\n",
       "    'renderTypeName': 'meta_data',\n",
       "    'format': {},\n",
       "    'flags': ['hidden']},\n",
       "   {'id': 183656833,\n",
       "    'name': 'FISCAL YEAR',\n",
       "    'dataTypeName': 'text',\n",
       "    'fieldName': 'fiscal_year',\n",
       "    'position': 2,\n",
       "    'rdfProperties': '',\n",
       "    'renderTypeName': 'text',\n",
       "    'tableColumnId': 23866869,\n",
       "    'width': 232,\n",
       "    'cachedContents': {'non_null': 42,\n",
       "     'largest': '2015',\n",
       "     'null': 0,\n",
       "     'top': [{'item': '2015', 'count': 20}],\n",
       "     'smallest': '2015'},\n",
       "    'format': {'precisionStyle': 'standard',\n",
       "     'rdf': '',\n",
       "     'noCommas': 'false',\n",
       "     'align': 'right'}},\n",
       "   {'id': 183656834,\n",
       "    'name': 'SERVICE',\n",
       "    'dataTypeName': 'text',\n",
       "    'fieldName': 'service',\n",
       "    'position': 3,\n",
       "    'renderTypeName': 'text',\n",
       "    'tableColumnId': 23866870,\n",
       "    'width': 184,\n",
       "    'cachedContents': {'non_null': 42,\n",
       "     'largest': 'PLANT PEST AND DISEASE CONTROL',\n",
       "     'null': 0,\n",
       "     'top': [{'item': 'FINANCIAL ASSISTANCE FOR AGRICULTURE', 'count': 20},\n",
       "      {'item': 'PLANT PEST AND DISEASE CONTROL', 'count': 19},\n",
       "      {'item': 'ANIMAL QUARANTINE', 'count': 18},\n",
       "      {'item': 'ANIMAL DISEASE CONTROL', 'count': 17},\n",
       "      {'item': 'AGRICULTURAL RESOURCE MANAGEMENT', 'count': 16},\n",
       "      {'item': 'MKG INFO & DISTRIB SYSTEMS IMPROVEMT FOR AGR', 'count': 15},\n",
       "      {'item': 'AQUACULTURE DEVELOPMENT', 'count': 14},\n",
       "      {'item': 'AGRIBUSINESS DEVELOPMENT & RESEARCH', 'count': 13},\n",
       "      {'item': 'AGRICULTURAL DEVELOPMENT & MARKETING', 'count': 12},\n",
       "      {'item': 'GENERAL ADMINISTRATION FOR AGR', 'count': 11},\n",
       "      {'item': 'MEASUREMENT STANDARDS', 'count': 10},\n",
       "      {'item': 'PESTICIDES', 'count': 9}],\n",
       "     'smallest': 'AGRIBUSINESS DEVELOPMENT & RESEARCH'},\n",
       "    'format': {}},\n",
       "   {'id': 183656835,\n",
       "    'name': 'DEPARTMENT',\n",
       "    'dataTypeName': 'text',\n",
       "    'fieldName': 'department',\n",
       "    'position': 4,\n",
       "    'renderTypeName': 'text',\n",
       "    'tableColumnId': 23866871,\n",
       "    'width': 220,\n",
       "    'cachedContents': {'non_null': 42,\n",
       "     'largest': 'PLANT PEST AND DISEASE CONTROL',\n",
       "     'null': 0,\n",
       "     'top': [{'item': 'FINANCIAL ASSISTANCE FOR AGRICULTURE', 'count': 20},\n",
       "      {'item': 'PLANT PEST AND DISEASE CONTROL', 'count': 19},\n",
       "      {'item': 'ANIMAL QUARANTINE', 'count': 18},\n",
       "      {'item': 'ANIMAL DISEASE CONTROL', 'count': 17},\n",
       "      {'item': 'AGRICULTURAL RESOURCE MANAGEMENT', 'count': 16},\n",
       "      {'item': 'MKG INFO & DISTRIB SYSTEMS IMPROVEMT FOR AGR', 'count': 15},\n",
       "      {'item': 'AQUACULTURE DEVELOPMENT', 'count': 14},\n",
       "      {'item': 'AGRIBUSINESS DEVELOPMENT & RESEARCH', 'count': 13},\n",
       "      {'item': 'AGRICULTURAL DEVELOPMENT & MARKETING', 'count': 12},\n",
       "      {'item': 'GENERAL ADMINISTRATION FOR AGR', 'count': 11},\n",
       "      {'item': 'MEASUREMENT STANDARDS', 'count': 10},\n",
       "      {'item': 'PESTICIDES', 'count': 9}],\n",
       "     'smallest': 'AGRIBUSINESS DEVELOPMENT & RESEARCH'},\n",
       "    'format': {}},\n",
       "   {'id': 183656836,\n",
       "    'name': 'PROGRAM',\n",
       "    'dataTypeName': 'text',\n",
       "    'fieldName': 'program',\n",
       "    'position': 5,\n",
       "    'renderTypeName': 'text',\n",
       "    'tableColumnId': 23866872,\n",
       "    'width': 184,\n",
       "    'cachedContents': {'non_null': 42,\n",
       "     'largest': 'WAIAHOLE WATER SYSTEM',\n",
       "     'null': 0,\n",
       "     'top': [{'item': 'AGRICULTURAL LOAN DIVISION', 'count': 20},\n",
       "      {'item': 'PLANT QUARANTINE BRANCH', 'count': 19},\n",
       "      {'item': 'PLANT PEST CONTROL BRANCH - BIOCONTROL', 'count': 18},\n",
       "      {'item': 'PLANT PEST CONTROL BRANCH - CHEM / MECH', 'count': 17},\n",
       "      {'item': 'INSPECTION & QUARANTINE BRANCH', 'count': 16},\n",
       "      {'item': 'ANIMAL INDUSTRY DIVISION ADMINISTRATION', 'count': 15},\n",
       "      {'item': 'LIVESTOCK DISEASE CONTROL BRANCH', 'count': 14},\n",
       "      {'item': 'AGRICULTURAL RESOURCE MANAGEMENT DIVISION', 'count': 13},\n",
       "      {'item': 'COMMODITIES BRANCH', 'count': 12},\n",
       "      {'item': 'COMMODITIES BRANCH - MILK CONTROL', 'count': 11},\n",
       "      {'item': 'AQUACULTURE DEVELOPMENT PROGRAM', 'count': 10},\n",
       "      {'item': 'AGRIBUSINESS DEVELOPMENT CORP.', 'count': 9},\n",
       "      {'item': 'WAIAHOLE WATER SYSTEM', 'count': 8},\n",
       "      {'item': 'HAWAII AGRICULTURAL STATISTICAL SERVICES BR.', 'count': 7},\n",
       "      {'item': 'MARKET DEVELOPMENT BRANCH', 'count': 6},\n",
       "      {'item': 'DEPARTMENTAL ADMINISTRATION', 'count': 5},\n",
       "      {'item': 'MEASUREMENT STANDARDS BRANCH', 'count': 4},\n",
       "      {'item': 'PESTICIDE BRANCH', 'count': 3}],\n",
       "     'smallest': 'AGRIBUSINESS DEVELOPMENT CORP.'},\n",
       "    'format': {}},\n",
       "   {'id': 183656837,\n",
       "    'name': 'EXPENSE CATEGORY',\n",
       "    'dataTypeName': 'text',\n",
       "    'fieldName': 'expense_category',\n",
       "    'position': 6,\n",
       "    'renderTypeName': 'text',\n",
       "    'tableColumnId': 23866873,\n",
       "    'width': 292,\n",
       "    'cachedContents': {'non_null': 42,\n",
       "     'largest': 'OTHER CURRENT EXPENSES',\n",
       "     'null': 0,\n",
       "     'top': [{'item': 'OTHER CURRENT EXPENSES', 'count': 20}],\n",
       "     'smallest': 'OTHER CURRENT EXPENSES'},\n",
       "    'format': {}},\n",
       "   {'id': 183656838,\n",
       "    'name': 'RECEIVED AMOUNT',\n",
       "    'dataTypeName': 'text',\n",
       "    'fieldName': 'received_amount',\n",
       "    'position': 7,\n",
       "    'renderTypeName': 'text',\n",
       "    'tableColumnId': 23866874,\n",
       "    'width': 280,\n",
       "    'cachedContents': {'non_null': 0, 'null': 42},\n",
       "    'format': {}},\n",
       "   {'id': 183656839,\n",
       "    'name': 'APPROVED AMOUNT',\n",
       "    'dataTypeName': 'number',\n",
       "    'fieldName': 'approved_amount',\n",
       "    'position': 8,\n",
       "    'renderTypeName': 'number',\n",
       "    'tableColumnId': 23866875,\n",
       "    'width': 280,\n",
       "    'cachedContents': {'non_null': 42,\n",
       "     'average': '3571.428571428571',\n",
       "     'largest': '35000.00',\n",
       "     'null': 0,\n",
       "     'top': [{'item': '0.00', 'count': 20},\n",
       "      {'item': '35000.00', 'count': 19},\n",
       "      {'item': '25000.00', 'count': 18},\n",
       "      {'item': '30000.00', 'count': 17}],\n",
       "     'smallest': '0.00',\n",
       "     'sum': '150000.00'},\n",
       "    'format': {'precisionStyle': 'currency',\n",
       "     'currencyStyle': 'USD',\n",
       "     'precision': '2'}},\n",
       "   {'id': 183656840,\n",
       "    'name': 'FUND',\n",
       "    'dataTypeName': 'text',\n",
       "    'fieldName': 'fund',\n",
       "    'position': 9,\n",
       "    'renderTypeName': 'text',\n",
       "    'tableColumnId': 23866876,\n",
       "    'width': 148,\n",
       "    'cachedContents': {'non_null': 42,\n",
       "     'largest': 'SPECIAL FUND',\n",
       "     'null': 0,\n",
       "     'top': [{'item': 'SPECIAL FUND', 'count': 20},\n",
       "      {'item': 'GENERAL FUND', 'count': 19},\n",
       "      {'item': 'FEDERAL FUNDS', 'count': 18},\n",
       "      {'item': 'REVOLVING FUNDS', 'count': 17}],\n",
       "     'smallest': 'FEDERAL FUNDS'},\n",
       "    'format': {}},\n",
       "   {'id': 183656841,\n",
       "    'name': 'FUND TYPE',\n",
       "    'dataTypeName': 'text',\n",
       "    'fieldName': 'fund_type',\n",
       "    'position': 10,\n",
       "    'renderTypeName': 'text',\n",
       "    'tableColumnId': 23866877,\n",
       "    'width': 208,\n",
       "    'cachedContents': {'non_null': 0, 'null': 42},\n",
       "    'format': {}},\n",
       "   {'id': 183656842,\n",
       "    'name': 'DESCRIPTION',\n",
       "    'dataTypeName': 'text',\n",
       "    'fieldName': 'description',\n",
       "    'position': 11,\n",
       "    'renderTypeName': 'text',\n",
       "    'tableColumnId': 23866878,\n",
       "    'width': 232,\n",
       "    'cachedContents': {'non_null': 42,\n",
       "     'largest': 'VEHICLES',\n",
       "     'null': 0,\n",
       "     'top': [{'item': 'VEHICLE', 'count': 20},\n",
       "      {'item': 'VEHICLES', 'count': 19},\n",
       "      {'item': 'SPORT UTILITY VEHICLE, 4WD', 'count': 18},\n",
       "      {'item': 'VAN', 'count': 17},\n",
       "      {'item': 'CARGO VAN, 1-TON', 'count': 16},\n",
       "      {'item': 'SEDAN, INTERMEDIATE', 'count': 15},\n",
       "      {'item': 'MOTOR VEHICLE', 'count': 14},\n",
       "      {'item': 'SUV- 4WD', 'count': 13},\n",
       "      {'item': 'PICK-UP, 4X4', 'count': 12},\n",
       "      {'item': 'PICK-UP TRUCK', 'count': 11},\n",
       "      {'item': 'SEDAN, COMPACT', 'count': 10},\n",
       "      {'item': 'SPORTS UTILITY, COMPACT', 'count': 9}],\n",
       "     'smallest': 'CARGO VAN, 1-TON'},\n",
       "    'format': {}}],\n",
       "  'grants': [{'inherited': False, 'type': 'viewer', 'flags': ['public']}],\n",
       "  'metadata': {'custom_fields': {'Data Reference': {'Reference for Technical Information': '',\n",
       "     'Frequency': '',\n",
       "     'Date Updated': '',\n",
       "     'Date Released': '',\n",
       "     'Period of Coverage': '',\n",
       "     'Unit of Analysis': '',\n",
       "     'Data dictionary/variable list': ''},\n",
       "    'Hawaii Line of Business': {'Division name': '',\n",
       "     'Line of Business': '',\n",
       "     'Division shortname, acronym': '',\n",
       "     'Department Agency short name, acronym': '',\n",
       "     'State of Hawaii Data Book Category': '',\n",
       "     'Department/Agency': ''},\n",
       "    'Terms of Use Acknowledgement': {'I agree by uploading this dataset that it contains no private information, and adheres to the data.hawaii.gov terms of use.': 'yes'}},\n",
       "   'availableDisplayTypes': ['table', 'fatrow', 'page'],\n",
       "   'renderTypeConfig': {'visible': {'table': True}}},\n",
       "  'owner': {'id': 'nczc-usar',\n",
       "   'displayName': 'Darryl Lajola',\n",
       "   'screenName': 'Darryl Lajola',\n",
       "   'type': 'interactive',\n",
       "   'userSegment': 'site_member',\n",
       "   'flags': ['mayBeStoriesCoOwner']},\n",
       "  'query': {},\n",
       "  'rights': ['read'],\n",
       "  'tableAuthor': {'id': 'nczc-usar',\n",
       "   'displayName': 'Darryl Lajola',\n",
       "   'screenName': 'Darryl Lajola',\n",
       "   'type': 'interactive',\n",
       "   'userSegment': 'site_member',\n",
       "   'flags': ['mayBeStoriesCoOwner']},\n",
       "  'flags': ['default', 'restorable', 'restorePossibleForType']}}"
      ]
     },
     "execution_count": 4,
     "metadata": {},
     "output_type": "execute_result"
    }
   ],
   "source": [
    "data['meta']"
   ]
  },
  {
   "cell_type": "code",
   "execution_count": 5,
   "metadata": {},
   "outputs": [
    {
     "data": {
      "text/plain": [
       "dict_keys(['view'])"
      ]
     },
     "execution_count": 5,
     "metadata": {},
     "output_type": "execute_result"
    }
   ],
   "source": [
    "data['meta'].keys()"
   ]
  },
  {
   "cell_type": "code",
   "execution_count": 6,
   "metadata": {},
   "outputs": [
    {
     "data": {
      "text/plain": [
       "{'id': 'usep-nua7',\n",
       " 'name': 'Sample DataSet',\n",
       " 'averageRating': 0,\n",
       " 'createdAt': 1420748479,\n",
       " 'description': 'For testing purposes only',\n",
       " 'displayType': 'table',\n",
       " 'downloadCount': 26951,\n",
       " 'hideFromCatalog': False,\n",
       " 'hideFromDataJson': False,\n",
       " 'indexUpdatedAt': 1420751985,\n",
       " 'newBackend': True,\n",
       " 'numberOfComments': 0,\n",
       " 'oid': 9864902,\n",
       " 'provenance': 'official',\n",
       " 'publicationAppendEnabled': False,\n",
       " 'publicationDate': 1420749334,\n",
       " 'publicationGroup': 2080751,\n",
       " 'publicationStage': 'published',\n",
       " 'rowsUpdatedAt': 1420749245,\n",
       " 'rowsUpdatedBy': 'nczc-usar',\n",
       " 'tableId': 2080798,\n",
       " 'totalTimesRated': 0,\n",
       " 'viewCount': 550,\n",
       " 'viewLastModified': 1420751956,\n",
       " 'viewType': 'tabular',\n",
       " 'approvals': [{'reviewedAt': 1420751954,\n",
       "   'reviewedAutomatically': True,\n",
       "   'state': 'approved',\n",
       "   'submissionId': 806720,\n",
       "   'submissionObject': 'public_audience_request',\n",
       "   'submissionOutcome': 'change_audience',\n",
       "   'submittedAt': 1420751954,\n",
       "   'workflowId': 2182,\n",
       "   'submissionDetails': {'permissionType': 'READ'},\n",
       "   'submissionOutcomeApplication': {'failureCount': 0, 'status': 'success'},\n",
       "   'submitter': {'id': 'nczc-usar', 'displayName': 'Darryl Lajola'}}],\n",
       " 'columns': [{'id': -1,\n",
       "   'name': 'sid',\n",
       "   'dataTypeName': 'meta_data',\n",
       "   'fieldName': ':sid',\n",
       "   'position': 0,\n",
       "   'renderTypeName': 'meta_data',\n",
       "   'format': {},\n",
       "   'flags': ['hidden']},\n",
       "  {'id': -1,\n",
       "   'name': 'id',\n",
       "   'dataTypeName': 'meta_data',\n",
       "   'fieldName': ':id',\n",
       "   'position': 0,\n",
       "   'renderTypeName': 'meta_data',\n",
       "   'format': {},\n",
       "   'flags': ['hidden']},\n",
       "  {'id': -1,\n",
       "   'name': 'position',\n",
       "   'dataTypeName': 'meta_data',\n",
       "   'fieldName': ':position',\n",
       "   'position': 0,\n",
       "   'renderTypeName': 'meta_data',\n",
       "   'format': {},\n",
       "   'flags': ['hidden']},\n",
       "  {'id': -1,\n",
       "   'name': 'created_at',\n",
       "   'dataTypeName': 'meta_data',\n",
       "   'fieldName': ':created_at',\n",
       "   'position': 0,\n",
       "   'renderTypeName': 'meta_data',\n",
       "   'format': {},\n",
       "   'flags': ['hidden']},\n",
       "  {'id': -1,\n",
       "   'name': 'created_meta',\n",
       "   'dataTypeName': 'meta_data',\n",
       "   'fieldName': ':created_meta',\n",
       "   'position': 0,\n",
       "   'renderTypeName': 'meta_data',\n",
       "   'format': {},\n",
       "   'flags': ['hidden']},\n",
       "  {'id': -1,\n",
       "   'name': 'updated_at',\n",
       "   'dataTypeName': 'meta_data',\n",
       "   'fieldName': ':updated_at',\n",
       "   'position': 0,\n",
       "   'renderTypeName': 'meta_data',\n",
       "   'format': {},\n",
       "   'flags': ['hidden']},\n",
       "  {'id': -1,\n",
       "   'name': 'updated_meta',\n",
       "   'dataTypeName': 'meta_data',\n",
       "   'fieldName': ':updated_meta',\n",
       "   'position': 0,\n",
       "   'renderTypeName': 'meta_data',\n",
       "   'format': {},\n",
       "   'flags': ['hidden']},\n",
       "  {'id': -1,\n",
       "   'name': 'meta',\n",
       "   'dataTypeName': 'meta_data',\n",
       "   'fieldName': ':meta',\n",
       "   'position': 0,\n",
       "   'renderTypeName': 'meta_data',\n",
       "   'format': {},\n",
       "   'flags': ['hidden']},\n",
       "  {'id': 183656833,\n",
       "   'name': 'FISCAL YEAR',\n",
       "   'dataTypeName': 'text',\n",
       "   'fieldName': 'fiscal_year',\n",
       "   'position': 2,\n",
       "   'rdfProperties': '',\n",
       "   'renderTypeName': 'text',\n",
       "   'tableColumnId': 23866869,\n",
       "   'width': 232,\n",
       "   'cachedContents': {'non_null': 42,\n",
       "    'largest': '2015',\n",
       "    'null': 0,\n",
       "    'top': [{'item': '2015', 'count': 20}],\n",
       "    'smallest': '2015'},\n",
       "   'format': {'precisionStyle': 'standard',\n",
       "    'rdf': '',\n",
       "    'noCommas': 'false',\n",
       "    'align': 'right'}},\n",
       "  {'id': 183656834,\n",
       "   'name': 'SERVICE',\n",
       "   'dataTypeName': 'text',\n",
       "   'fieldName': 'service',\n",
       "   'position': 3,\n",
       "   'renderTypeName': 'text',\n",
       "   'tableColumnId': 23866870,\n",
       "   'width': 184,\n",
       "   'cachedContents': {'non_null': 42,\n",
       "    'largest': 'PLANT PEST AND DISEASE CONTROL',\n",
       "    'null': 0,\n",
       "    'top': [{'item': 'FINANCIAL ASSISTANCE FOR AGRICULTURE', 'count': 20},\n",
       "     {'item': 'PLANT PEST AND DISEASE CONTROL', 'count': 19},\n",
       "     {'item': 'ANIMAL QUARANTINE', 'count': 18},\n",
       "     {'item': 'ANIMAL DISEASE CONTROL', 'count': 17},\n",
       "     {'item': 'AGRICULTURAL RESOURCE MANAGEMENT', 'count': 16},\n",
       "     {'item': 'MKG INFO & DISTRIB SYSTEMS IMPROVEMT FOR AGR', 'count': 15},\n",
       "     {'item': 'AQUACULTURE DEVELOPMENT', 'count': 14},\n",
       "     {'item': 'AGRIBUSINESS DEVELOPMENT & RESEARCH', 'count': 13},\n",
       "     {'item': 'AGRICULTURAL DEVELOPMENT & MARKETING', 'count': 12},\n",
       "     {'item': 'GENERAL ADMINISTRATION FOR AGR', 'count': 11},\n",
       "     {'item': 'MEASUREMENT STANDARDS', 'count': 10},\n",
       "     {'item': 'PESTICIDES', 'count': 9}],\n",
       "    'smallest': 'AGRIBUSINESS DEVELOPMENT & RESEARCH'},\n",
       "   'format': {}},\n",
       "  {'id': 183656835,\n",
       "   'name': 'DEPARTMENT',\n",
       "   'dataTypeName': 'text',\n",
       "   'fieldName': 'department',\n",
       "   'position': 4,\n",
       "   'renderTypeName': 'text',\n",
       "   'tableColumnId': 23866871,\n",
       "   'width': 220,\n",
       "   'cachedContents': {'non_null': 42,\n",
       "    'largest': 'PLANT PEST AND DISEASE CONTROL',\n",
       "    'null': 0,\n",
       "    'top': [{'item': 'FINANCIAL ASSISTANCE FOR AGRICULTURE', 'count': 20},\n",
       "     {'item': 'PLANT PEST AND DISEASE CONTROL', 'count': 19},\n",
       "     {'item': 'ANIMAL QUARANTINE', 'count': 18},\n",
       "     {'item': 'ANIMAL DISEASE CONTROL', 'count': 17},\n",
       "     {'item': 'AGRICULTURAL RESOURCE MANAGEMENT', 'count': 16},\n",
       "     {'item': 'MKG INFO & DISTRIB SYSTEMS IMPROVEMT FOR AGR', 'count': 15},\n",
       "     {'item': 'AQUACULTURE DEVELOPMENT', 'count': 14},\n",
       "     {'item': 'AGRIBUSINESS DEVELOPMENT & RESEARCH', 'count': 13},\n",
       "     {'item': 'AGRICULTURAL DEVELOPMENT & MARKETING', 'count': 12},\n",
       "     {'item': 'GENERAL ADMINISTRATION FOR AGR', 'count': 11},\n",
       "     {'item': 'MEASUREMENT STANDARDS', 'count': 10},\n",
       "     {'item': 'PESTICIDES', 'count': 9}],\n",
       "    'smallest': 'AGRIBUSINESS DEVELOPMENT & RESEARCH'},\n",
       "   'format': {}},\n",
       "  {'id': 183656836,\n",
       "   'name': 'PROGRAM',\n",
       "   'dataTypeName': 'text',\n",
       "   'fieldName': 'program',\n",
       "   'position': 5,\n",
       "   'renderTypeName': 'text',\n",
       "   'tableColumnId': 23866872,\n",
       "   'width': 184,\n",
       "   'cachedContents': {'non_null': 42,\n",
       "    'largest': 'WAIAHOLE WATER SYSTEM',\n",
       "    'null': 0,\n",
       "    'top': [{'item': 'AGRICULTURAL LOAN DIVISION', 'count': 20},\n",
       "     {'item': 'PLANT QUARANTINE BRANCH', 'count': 19},\n",
       "     {'item': 'PLANT PEST CONTROL BRANCH - BIOCONTROL', 'count': 18},\n",
       "     {'item': 'PLANT PEST CONTROL BRANCH - CHEM / MECH', 'count': 17},\n",
       "     {'item': 'INSPECTION & QUARANTINE BRANCH', 'count': 16},\n",
       "     {'item': 'ANIMAL INDUSTRY DIVISION ADMINISTRATION', 'count': 15},\n",
       "     {'item': 'LIVESTOCK DISEASE CONTROL BRANCH', 'count': 14},\n",
       "     {'item': 'AGRICULTURAL RESOURCE MANAGEMENT DIVISION', 'count': 13},\n",
       "     {'item': 'COMMODITIES BRANCH', 'count': 12},\n",
       "     {'item': 'COMMODITIES BRANCH - MILK CONTROL', 'count': 11},\n",
       "     {'item': 'AQUACULTURE DEVELOPMENT PROGRAM', 'count': 10},\n",
       "     {'item': 'AGRIBUSINESS DEVELOPMENT CORP.', 'count': 9},\n",
       "     {'item': 'WAIAHOLE WATER SYSTEM', 'count': 8},\n",
       "     {'item': 'HAWAII AGRICULTURAL STATISTICAL SERVICES BR.', 'count': 7},\n",
       "     {'item': 'MARKET DEVELOPMENT BRANCH', 'count': 6},\n",
       "     {'item': 'DEPARTMENTAL ADMINISTRATION', 'count': 5},\n",
       "     {'item': 'MEASUREMENT STANDARDS BRANCH', 'count': 4},\n",
       "     {'item': 'PESTICIDE BRANCH', 'count': 3}],\n",
       "    'smallest': 'AGRIBUSINESS DEVELOPMENT CORP.'},\n",
       "   'format': {}},\n",
       "  {'id': 183656837,\n",
       "   'name': 'EXPENSE CATEGORY',\n",
       "   'dataTypeName': 'text',\n",
       "   'fieldName': 'expense_category',\n",
       "   'position': 6,\n",
       "   'renderTypeName': 'text',\n",
       "   'tableColumnId': 23866873,\n",
       "   'width': 292,\n",
       "   'cachedContents': {'non_null': 42,\n",
       "    'largest': 'OTHER CURRENT EXPENSES',\n",
       "    'null': 0,\n",
       "    'top': [{'item': 'OTHER CURRENT EXPENSES', 'count': 20}],\n",
       "    'smallest': 'OTHER CURRENT EXPENSES'},\n",
       "   'format': {}},\n",
       "  {'id': 183656838,\n",
       "   'name': 'RECEIVED AMOUNT',\n",
       "   'dataTypeName': 'text',\n",
       "   'fieldName': 'received_amount',\n",
       "   'position': 7,\n",
       "   'renderTypeName': 'text',\n",
       "   'tableColumnId': 23866874,\n",
       "   'width': 280,\n",
       "   'cachedContents': {'non_null': 0, 'null': 42},\n",
       "   'format': {}},\n",
       "  {'id': 183656839,\n",
       "   'name': 'APPROVED AMOUNT',\n",
       "   'dataTypeName': 'number',\n",
       "   'fieldName': 'approved_amount',\n",
       "   'position': 8,\n",
       "   'renderTypeName': 'number',\n",
       "   'tableColumnId': 23866875,\n",
       "   'width': 280,\n",
       "   'cachedContents': {'non_null': 42,\n",
       "    'average': '3571.428571428571',\n",
       "    'largest': '35000.00',\n",
       "    'null': 0,\n",
       "    'top': [{'item': '0.00', 'count': 20},\n",
       "     {'item': '35000.00', 'count': 19},\n",
       "     {'item': '25000.00', 'count': 18},\n",
       "     {'item': '30000.00', 'count': 17}],\n",
       "    'smallest': '0.00',\n",
       "    'sum': '150000.00'},\n",
       "   'format': {'precisionStyle': 'currency',\n",
       "    'currencyStyle': 'USD',\n",
       "    'precision': '2'}},\n",
       "  {'id': 183656840,\n",
       "   'name': 'FUND',\n",
       "   'dataTypeName': 'text',\n",
       "   'fieldName': 'fund',\n",
       "   'position': 9,\n",
       "   'renderTypeName': 'text',\n",
       "   'tableColumnId': 23866876,\n",
       "   'width': 148,\n",
       "   'cachedContents': {'non_null': 42,\n",
       "    'largest': 'SPECIAL FUND',\n",
       "    'null': 0,\n",
       "    'top': [{'item': 'SPECIAL FUND', 'count': 20},\n",
       "     {'item': 'GENERAL FUND', 'count': 19},\n",
       "     {'item': 'FEDERAL FUNDS', 'count': 18},\n",
       "     {'item': 'REVOLVING FUNDS', 'count': 17}],\n",
       "    'smallest': 'FEDERAL FUNDS'},\n",
       "   'format': {}},\n",
       "  {'id': 183656841,\n",
       "   'name': 'FUND TYPE',\n",
       "   'dataTypeName': 'text',\n",
       "   'fieldName': 'fund_type',\n",
       "   'position': 10,\n",
       "   'renderTypeName': 'text',\n",
       "   'tableColumnId': 23866877,\n",
       "   'width': 208,\n",
       "   'cachedContents': {'non_null': 0, 'null': 42},\n",
       "   'format': {}},\n",
       "  {'id': 183656842,\n",
       "   'name': 'DESCRIPTION',\n",
       "   'dataTypeName': 'text',\n",
       "   'fieldName': 'description',\n",
       "   'position': 11,\n",
       "   'renderTypeName': 'text',\n",
       "   'tableColumnId': 23866878,\n",
       "   'width': 232,\n",
       "   'cachedContents': {'non_null': 42,\n",
       "    'largest': 'VEHICLES',\n",
       "    'null': 0,\n",
       "    'top': [{'item': 'VEHICLE', 'count': 20},\n",
       "     {'item': 'VEHICLES', 'count': 19},\n",
       "     {'item': 'SPORT UTILITY VEHICLE, 4WD', 'count': 18},\n",
       "     {'item': 'VAN', 'count': 17},\n",
       "     {'item': 'CARGO VAN, 1-TON', 'count': 16},\n",
       "     {'item': 'SEDAN, INTERMEDIATE', 'count': 15},\n",
       "     {'item': 'MOTOR VEHICLE', 'count': 14},\n",
       "     {'item': 'SUV- 4WD', 'count': 13},\n",
       "     {'item': 'PICK-UP, 4X4', 'count': 12},\n",
       "     {'item': 'PICK-UP TRUCK', 'count': 11},\n",
       "     {'item': 'SEDAN, COMPACT', 'count': 10},\n",
       "     {'item': 'SPORTS UTILITY, COMPACT', 'count': 9}],\n",
       "    'smallest': 'CARGO VAN, 1-TON'},\n",
       "   'format': {}}],\n",
       " 'grants': [{'inherited': False, 'type': 'viewer', 'flags': ['public']}],\n",
       " 'metadata': {'custom_fields': {'Data Reference': {'Reference for Technical Information': '',\n",
       "    'Frequency': '',\n",
       "    'Date Updated': '',\n",
       "    'Date Released': '',\n",
       "    'Period of Coverage': '',\n",
       "    'Unit of Analysis': '',\n",
       "    'Data dictionary/variable list': ''},\n",
       "   'Hawaii Line of Business': {'Division name': '',\n",
       "    'Line of Business': '',\n",
       "    'Division shortname, acronym': '',\n",
       "    'Department Agency short name, acronym': '',\n",
       "    'State of Hawaii Data Book Category': '',\n",
       "    'Department/Agency': ''},\n",
       "   'Terms of Use Acknowledgement': {'I agree by uploading this dataset that it contains no private information, and adheres to the data.hawaii.gov terms of use.': 'yes'}},\n",
       "  'availableDisplayTypes': ['table', 'fatrow', 'page'],\n",
       "  'renderTypeConfig': {'visible': {'table': True}}},\n",
       " 'owner': {'id': 'nczc-usar',\n",
       "  'displayName': 'Darryl Lajola',\n",
       "  'screenName': 'Darryl Lajola',\n",
       "  'type': 'interactive',\n",
       "  'userSegment': 'site_member',\n",
       "  'flags': ['mayBeStoriesCoOwner']},\n",
       " 'query': {},\n",
       " 'rights': ['read'],\n",
       " 'tableAuthor': {'id': 'nczc-usar',\n",
       "  'displayName': 'Darryl Lajola',\n",
       "  'screenName': 'Darryl Lajola',\n",
       "  'type': 'interactive',\n",
       "  'userSegment': 'site_member',\n",
       "  'flags': ['mayBeStoriesCoOwner']},\n",
       " 'flags': ['default', 'restorable', 'restorePossibleForType']}"
      ]
     },
     "execution_count": 6,
     "metadata": {},
     "output_type": "execute_result"
    }
   ],
   "source": [
    "data['meta']['view']"
   ]
  },
  {
   "cell_type": "code",
   "execution_count": 7,
   "metadata": {},
   "outputs": [
    {
     "data": {
      "text/plain": [
       "dict_keys(['id', 'name', 'averageRating', 'createdAt', 'description', 'displayType', 'downloadCount', 'hideFromCatalog', 'hideFromDataJson', 'indexUpdatedAt', 'newBackend', 'numberOfComments', 'oid', 'provenance', 'publicationAppendEnabled', 'publicationDate', 'publicationGroup', 'publicationStage', 'rowsUpdatedAt', 'rowsUpdatedBy', 'tableId', 'totalTimesRated', 'viewCount', 'viewLastModified', 'viewType', 'approvals', 'columns', 'grants', 'metadata', 'owner', 'query', 'rights', 'tableAuthor', 'flags'])"
      ]
     },
     "execution_count": 7,
     "metadata": {},
     "output_type": "execute_result"
    }
   ],
   "source": [
    "data['meta']['view'].keys()"
   ]
  },
  {
   "cell_type": "code",
   "execution_count": 8,
   "metadata": {},
   "outputs": [
    {
     "data": {
      "text/plain": [
       "{'custom_fields': {'Data Reference': {'Reference for Technical Information': '',\n",
       "   'Frequency': '',\n",
       "   'Date Updated': '',\n",
       "   'Date Released': '',\n",
       "   'Period of Coverage': '',\n",
       "   'Unit of Analysis': '',\n",
       "   'Data dictionary/variable list': ''},\n",
       "  'Hawaii Line of Business': {'Division name': '',\n",
       "   'Line of Business': '',\n",
       "   'Division shortname, acronym': '',\n",
       "   'Department Agency short name, acronym': '',\n",
       "   'State of Hawaii Data Book Category': '',\n",
       "   'Department/Agency': ''},\n",
       "  'Terms of Use Acknowledgement': {'I agree by uploading this dataset that it contains no private information, and adheres to the data.hawaii.gov terms of use.': 'yes'}},\n",
       " 'availableDisplayTypes': ['table', 'fatrow', 'page'],\n",
       " 'renderTypeConfig': {'visible': {'table': True}}}"
      ]
     },
     "execution_count": 8,
     "metadata": {},
     "output_type": "execute_result"
    }
   ],
   "source": [
    "data['meta']['view']['metadata']"
   ]
  },
  {
   "cell_type": "code",
   "execution_count": 9,
   "metadata": {},
   "outputs": [
    {
     "data": {
      "text/plain": [
       "dict_keys(['custom_fields', 'availableDisplayTypes', 'renderTypeConfig'])"
      ]
     },
     "execution_count": 9,
     "metadata": {},
     "output_type": "execute_result"
    }
   ],
   "source": [
    "data['meta']['view']['metadata'].keys()"
   ]
  },
  {
   "cell_type": "code",
   "execution_count": 10,
   "metadata": {},
   "outputs": [
    {
     "data": {
      "text/plain": [
       "{'Data Reference': {'Reference for Technical Information': '',\n",
       "  'Frequency': '',\n",
       "  'Date Updated': '',\n",
       "  'Date Released': '',\n",
       "  'Period of Coverage': '',\n",
       "  'Unit of Analysis': '',\n",
       "  'Data dictionary/variable list': ''},\n",
       " 'Hawaii Line of Business': {'Division name': '',\n",
       "  'Line of Business': '',\n",
       "  'Division shortname, acronym': '',\n",
       "  'Department Agency short name, acronym': '',\n",
       "  'State of Hawaii Data Book Category': '',\n",
       "  'Department/Agency': ''},\n",
       " 'Terms of Use Acknowledgement': {'I agree by uploading this dataset that it contains no private information, and adheres to the data.hawaii.gov terms of use.': 'yes'}}"
      ]
     },
     "execution_count": 10,
     "metadata": {},
     "output_type": "execute_result"
    }
   ],
   "source": [
    "data['meta']['view']['metadata']['custom_fields']"
   ]
  },
  {
   "cell_type": "code",
   "execution_count": 11,
   "metadata": {},
   "outputs": [
    {
     "data": {
      "text/plain": [
       "dict_keys(['Data Reference', 'Hawaii Line of Business', 'Terms of Use Acknowledgement'])"
      ]
     },
     "execution_count": 11,
     "metadata": {},
     "output_type": "execute_result"
    }
   ],
   "source": [
    "data['meta']['view']['metadata']['custom_fields'].keys()"
   ]
  },
  {
   "cell_type": "code",
   "execution_count": 12,
   "metadata": {},
   "outputs": [
    {
     "data": {
      "text/plain": [
       "{'I agree by uploading this dataset that it contains no private information, and adheres to the data.hawaii.gov terms of use.': 'yes'}"
      ]
     },
     "execution_count": 12,
     "metadata": {},
     "output_type": "execute_result"
    }
   ],
   "source": [
    "data['meta']['view']['metadata']['custom_fields']['Terms of Use Acknowledgement']"
   ]
  },
  {
   "cell_type": "code",
   "execution_count": 13,
   "metadata": {},
   "outputs": [
    {
     "data": {
      "text/plain": [
       "dict_keys(['I agree by uploading this dataset that it contains no private information, and adheres to the data.hawaii.gov terms of use.'])"
      ]
     },
     "execution_count": 13,
     "metadata": {},
     "output_type": "execute_result"
    }
   ],
   "source": [
    "data['meta']['view']['metadata']['custom_fields']['Terms of Use Acknowledgement'].keys()"
   ]
  },
  {
   "cell_type": "code",
   "execution_count": 14,
   "metadata": {},
   "outputs": [
    {
     "data": {
      "text/plain": [
       "['I agree by uploading this dataset that it contains no private information, and adheres to the data.hawaii.gov terms of use.']"
      ]
     },
     "execution_count": 14,
     "metadata": {},
     "output_type": "execute_result"
    }
   ],
   "source": [
    "list(data['meta']['view']['metadata']['custom_fields']['Terms of Use Acknowledgement'].keys())"
   ]
  },
  {
   "cell_type": "code",
   "execution_count": 18,
   "metadata": {},
   "outputs": [
    {
     "data": {
      "text/plain": [
       "'I AGREE BY UPLOADING THIS DATASET THAT IT CONTAINS NO PRIVATE INFORMATION, AND ADHERES TO THE DATA.HAWAII.GOV TERMS OF USE.'"
      ]
     },
     "execution_count": 18,
     "metadata": {},
     "output_type": "execute_result"
    }
   ],
   "source": [
    "list(data['meta']['view']['metadata']['custom_fields']['Terms of Use Acknowledgement'].keys())[0].upper()"
   ]
  },
  {
   "cell_type": "code",
   "execution_count": 16,
   "metadata": {},
   "outputs": [
    {
     "data": {
      "text/plain": [
       "['I',\n",
       " 'agree',\n",
       " 'by',\n",
       " 'uploading',\n",
       " 'this',\n",
       " 'dataset',\n",
       " 'that',\n",
       " 'it',\n",
       " 'contains',\n",
       " 'no',\n",
       " 'private',\n",
       " 'information,',\n",
       " 'and',\n",
       " 'adheres',\n",
       " 'to',\n",
       " 'the',\n",
       " 'data.hawaii.gov',\n",
       " 'terms',\n",
       " 'of',\n",
       " 'use.']"
      ]
     },
     "execution_count": 16,
     "metadata": {},
     "output_type": "execute_result"
    }
   ],
   "source": [
    "list(data['meta']['view']['metadata']['custom_fields']['Terms of Use Acknowledgement'].keys())[0].split()"
   ]
  },
  {
   "cell_type": "code",
   "execution_count": 17,
   "metadata": {},
   "outputs": [
    {
     "ename": "AttributeError",
     "evalue": "'list' object has no attribute 'upper'",
     "output_type": "error",
     "traceback": [
      "\u001b[1;31m---------------------------------------------------------------------------\u001b[0m",
      "\u001b[1;31mAttributeError\u001b[0m                            Traceback (most recent call last)",
      "\u001b[1;32m<ipython-input-17-f6c6c3e284e6>\u001b[0m in \u001b[0;36m<module>\u001b[1;34m\u001b[0m\n\u001b[1;32m----> 1\u001b[1;33m \u001b[0mlist\u001b[0m\u001b[1;33m(\u001b[0m\u001b[0mdata\u001b[0m\u001b[1;33m[\u001b[0m\u001b[1;34m'meta'\u001b[0m\u001b[1;33m]\u001b[0m\u001b[1;33m[\u001b[0m\u001b[1;34m'view'\u001b[0m\u001b[1;33m]\u001b[0m\u001b[1;33m[\u001b[0m\u001b[1;34m'metadata'\u001b[0m\u001b[1;33m]\u001b[0m\u001b[1;33m[\u001b[0m\u001b[1;34m'custom_fields'\u001b[0m\u001b[1;33m]\u001b[0m\u001b[1;33m[\u001b[0m\u001b[1;34m'Terms of Use Acknowledgement'\u001b[0m\u001b[1;33m]\u001b[0m\u001b[1;33m.\u001b[0m\u001b[0mkeys\u001b[0m\u001b[1;33m(\u001b[0m\u001b[1;33m)\u001b[0m\u001b[1;33m)\u001b[0m\u001b[1;33m[\u001b[0m\u001b[1;36m0\u001b[0m\u001b[1;33m]\u001b[0m\u001b[1;33m.\u001b[0m\u001b[0msplit\u001b[0m\u001b[1;33m(\u001b[0m\u001b[1;33m)\u001b[0m\u001b[1;33m.\u001b[0m\u001b[0mupper\u001b[0m\u001b[1;33m(\u001b[0m\u001b[1;33m)\u001b[0m\u001b[1;33m\u001b[0m\u001b[1;33m\u001b[0m\u001b[0m\n\u001b[0m",
      "\u001b[1;31mAttributeError\u001b[0m: 'list' object has no attribute 'upper'"
     ]
    }
   ],
   "source": [
    "list(data['meta']['view']['metadata']['custom_fields']['Terms of Use Acknowledgement'].keys())[0].split().upper()"
   ]
  },
  {
   "cell_type": "code",
   "execution_count": 41,
   "metadata": {},
   "outputs": [
    {
     "data": {
      "text/plain": [
       "dict_keys(['meta'])"
      ]
     },
     "execution_count": 41,
     "metadata": {},
     "output_type": "execute_result"
    }
   ],
   "source": [
    "data.keys()"
   ]
  },
  {
   "cell_type": "code",
   "execution_count": 42,
   "metadata": {},
   "outputs": [],
   "source": [
    "# \"FINANCIAL ASSISTANCE FOR AGRICULTURE\""
   ]
  },
  {
   "cell_type": "code",
   "execution_count": 43,
   "metadata": {},
   "outputs": [
    {
     "data": {
      "text/plain": [
       "dict_keys(['meta'])"
      ]
     },
     "execution_count": 43,
     "metadata": {},
     "output_type": "execute_result"
    }
   ],
   "source": [
    "data.keys()"
   ]
  },
  {
   "cell_type": "code",
   "execution_count": 44,
   "metadata": {},
   "outputs": [
    {
     "data": {
      "text/plain": [
       "{'view': {'id': 'usep-nua7',\n",
       "  'name': 'Sample DataSet',\n",
       "  'averageRating': 0,\n",
       "  'createdAt': 1420748479,\n",
       "  'description': 'For testing purposes only',\n",
       "  'displayType': 'table',\n",
       "  'downloadCount': 26951,\n",
       "  'hideFromCatalog': False,\n",
       "  'hideFromDataJson': False,\n",
       "  'indexUpdatedAt': 1420751985,\n",
       "  'newBackend': True,\n",
       "  'numberOfComments': 0,\n",
       "  'oid': 9864902,\n",
       "  'provenance': 'official',\n",
       "  'publicationAppendEnabled': False,\n",
       "  'publicationDate': 1420749334,\n",
       "  'publicationGroup': 2080751,\n",
       "  'publicationStage': 'published',\n",
       "  'rowsUpdatedAt': 1420749245,\n",
       "  'rowsUpdatedBy': 'nczc-usar',\n",
       "  'tableId': 2080798,\n",
       "  'totalTimesRated': 0,\n",
       "  'viewCount': 550,\n",
       "  'viewLastModified': 1420751956,\n",
       "  'viewType': 'tabular',\n",
       "  'approvals': [{'reviewedAt': 1420751954,\n",
       "    'reviewedAutomatically': True,\n",
       "    'state': 'approved',\n",
       "    'submissionId': 806720,\n",
       "    'submissionObject': 'public_audience_request',\n",
       "    'submissionOutcome': 'change_audience',\n",
       "    'submittedAt': 1420751954,\n",
       "    'workflowId': 2182,\n",
       "    'submissionDetails': {'permissionType': 'READ'},\n",
       "    'submissionOutcomeApplication': {'failureCount': 0, 'status': 'success'},\n",
       "    'submitter': {'id': 'nczc-usar', 'displayName': 'Darryl Lajola'}}],\n",
       "  'columns': [{'id': -1,\n",
       "    'name': 'sid',\n",
       "    'dataTypeName': 'meta_data',\n",
       "    'fieldName': ':sid',\n",
       "    'position': 0,\n",
       "    'renderTypeName': 'meta_data',\n",
       "    'format': {},\n",
       "    'flags': ['hidden']},\n",
       "   {'id': -1,\n",
       "    'name': 'id',\n",
       "    'dataTypeName': 'meta_data',\n",
       "    'fieldName': ':id',\n",
       "    'position': 0,\n",
       "    'renderTypeName': 'meta_data',\n",
       "    'format': {},\n",
       "    'flags': ['hidden']},\n",
       "   {'id': -1,\n",
       "    'name': 'position',\n",
       "    'dataTypeName': 'meta_data',\n",
       "    'fieldName': ':position',\n",
       "    'position': 0,\n",
       "    'renderTypeName': 'meta_data',\n",
       "    'format': {},\n",
       "    'flags': ['hidden']},\n",
       "   {'id': -1,\n",
       "    'name': 'created_at',\n",
       "    'dataTypeName': 'meta_data',\n",
       "    'fieldName': ':created_at',\n",
       "    'position': 0,\n",
       "    'renderTypeName': 'meta_data',\n",
       "    'format': {},\n",
       "    'flags': ['hidden']},\n",
       "   {'id': -1,\n",
       "    'name': 'created_meta',\n",
       "    'dataTypeName': 'meta_data',\n",
       "    'fieldName': ':created_meta',\n",
       "    'position': 0,\n",
       "    'renderTypeName': 'meta_data',\n",
       "    'format': {},\n",
       "    'flags': ['hidden']},\n",
       "   {'id': -1,\n",
       "    'name': 'updated_at',\n",
       "    'dataTypeName': 'meta_data',\n",
       "    'fieldName': ':updated_at',\n",
       "    'position': 0,\n",
       "    'renderTypeName': 'meta_data',\n",
       "    'format': {},\n",
       "    'flags': ['hidden']},\n",
       "   {'id': -1,\n",
       "    'name': 'updated_meta',\n",
       "    'dataTypeName': 'meta_data',\n",
       "    'fieldName': ':updated_meta',\n",
       "    'position': 0,\n",
       "    'renderTypeName': 'meta_data',\n",
       "    'format': {},\n",
       "    'flags': ['hidden']},\n",
       "   {'id': -1,\n",
       "    'name': 'meta',\n",
       "    'dataTypeName': 'meta_data',\n",
       "    'fieldName': ':meta',\n",
       "    'position': 0,\n",
       "    'renderTypeName': 'meta_data',\n",
       "    'format': {},\n",
       "    'flags': ['hidden']},\n",
       "   {'id': 183656833,\n",
       "    'name': 'FISCAL YEAR',\n",
       "    'dataTypeName': 'text',\n",
       "    'fieldName': 'fiscal_year',\n",
       "    'position': 2,\n",
       "    'rdfProperties': '',\n",
       "    'renderTypeName': 'text',\n",
       "    'tableColumnId': 23866869,\n",
       "    'width': 232,\n",
       "    'cachedContents': {'non_null': 42,\n",
       "     'largest': '2015',\n",
       "     'null': 0,\n",
       "     'top': [{'item': '2015', 'count': 20}],\n",
       "     'smallest': '2015'},\n",
       "    'format': {'precisionStyle': 'standard',\n",
       "     'rdf': '',\n",
       "     'noCommas': 'false',\n",
       "     'align': 'right'}},\n",
       "   {'id': 183656834,\n",
       "    'name': 'SERVICE',\n",
       "    'dataTypeName': 'text',\n",
       "    'fieldName': 'service',\n",
       "    'position': 3,\n",
       "    'renderTypeName': 'text',\n",
       "    'tableColumnId': 23866870,\n",
       "    'width': 184,\n",
       "    'cachedContents': {'non_null': 42,\n",
       "     'largest': 'PLANT PEST AND DISEASE CONTROL',\n",
       "     'null': 0,\n",
       "     'top': [{'item': 'FINANCIAL ASSISTANCE FOR AGRICULTURE', 'count': 20},\n",
       "      {'item': 'PLANT PEST AND DISEASE CONTROL', 'count': 19},\n",
       "      {'item': 'ANIMAL QUARANTINE', 'count': 18},\n",
       "      {'item': 'ANIMAL DISEASE CONTROL', 'count': 17},\n",
       "      {'item': 'AGRICULTURAL RESOURCE MANAGEMENT', 'count': 16},\n",
       "      {'item': 'MKG INFO & DISTRIB SYSTEMS IMPROVEMT FOR AGR', 'count': 15},\n",
       "      {'item': 'AQUACULTURE DEVELOPMENT', 'count': 14},\n",
       "      {'item': 'AGRIBUSINESS DEVELOPMENT & RESEARCH', 'count': 13},\n",
       "      {'item': 'AGRICULTURAL DEVELOPMENT & MARKETING', 'count': 12},\n",
       "      {'item': 'GENERAL ADMINISTRATION FOR AGR', 'count': 11},\n",
       "      {'item': 'MEASUREMENT STANDARDS', 'count': 10},\n",
       "      {'item': 'PESTICIDES', 'count': 9}],\n",
       "     'smallest': 'AGRIBUSINESS DEVELOPMENT & RESEARCH'},\n",
       "    'format': {}},\n",
       "   {'id': 183656835,\n",
       "    'name': 'DEPARTMENT',\n",
       "    'dataTypeName': 'text',\n",
       "    'fieldName': 'department',\n",
       "    'position': 4,\n",
       "    'renderTypeName': 'text',\n",
       "    'tableColumnId': 23866871,\n",
       "    'width': 220,\n",
       "    'cachedContents': {'non_null': 42,\n",
       "     'largest': 'PLANT PEST AND DISEASE CONTROL',\n",
       "     'null': 0,\n",
       "     'top': [{'item': 'FINANCIAL ASSISTANCE FOR AGRICULTURE', 'count': 20},\n",
       "      {'item': 'PLANT PEST AND DISEASE CONTROL', 'count': 19},\n",
       "      {'item': 'ANIMAL QUARANTINE', 'count': 18},\n",
       "      {'item': 'ANIMAL DISEASE CONTROL', 'count': 17},\n",
       "      {'item': 'AGRICULTURAL RESOURCE MANAGEMENT', 'count': 16},\n",
       "      {'item': 'MKG INFO & DISTRIB SYSTEMS IMPROVEMT FOR AGR', 'count': 15},\n",
       "      {'item': 'AQUACULTURE DEVELOPMENT', 'count': 14},\n",
       "      {'item': 'AGRIBUSINESS DEVELOPMENT & RESEARCH', 'count': 13},\n",
       "      {'item': 'AGRICULTURAL DEVELOPMENT & MARKETING', 'count': 12},\n",
       "      {'item': 'GENERAL ADMINISTRATION FOR AGR', 'count': 11},\n",
       "      {'item': 'MEASUREMENT STANDARDS', 'count': 10},\n",
       "      {'item': 'PESTICIDES', 'count': 9}],\n",
       "     'smallest': 'AGRIBUSINESS DEVELOPMENT & RESEARCH'},\n",
       "    'format': {}},\n",
       "   {'id': 183656836,\n",
       "    'name': 'PROGRAM',\n",
       "    'dataTypeName': 'text',\n",
       "    'fieldName': 'program',\n",
       "    'position': 5,\n",
       "    'renderTypeName': 'text',\n",
       "    'tableColumnId': 23866872,\n",
       "    'width': 184,\n",
       "    'cachedContents': {'non_null': 42,\n",
       "     'largest': 'WAIAHOLE WATER SYSTEM',\n",
       "     'null': 0,\n",
       "     'top': [{'item': 'AGRICULTURAL LOAN DIVISION', 'count': 20},\n",
       "      {'item': 'PLANT QUARANTINE BRANCH', 'count': 19},\n",
       "      {'item': 'PLANT PEST CONTROL BRANCH - BIOCONTROL', 'count': 18},\n",
       "      {'item': 'PLANT PEST CONTROL BRANCH - CHEM / MECH', 'count': 17},\n",
       "      {'item': 'INSPECTION & QUARANTINE BRANCH', 'count': 16},\n",
       "      {'item': 'ANIMAL INDUSTRY DIVISION ADMINISTRATION', 'count': 15},\n",
       "      {'item': 'LIVESTOCK DISEASE CONTROL BRANCH', 'count': 14},\n",
       "      {'item': 'AGRICULTURAL RESOURCE MANAGEMENT DIVISION', 'count': 13},\n",
       "      {'item': 'COMMODITIES BRANCH', 'count': 12},\n",
       "      {'item': 'COMMODITIES BRANCH - MILK CONTROL', 'count': 11},\n",
       "      {'item': 'AQUACULTURE DEVELOPMENT PROGRAM', 'count': 10},\n",
       "      {'item': 'AGRIBUSINESS DEVELOPMENT CORP.', 'count': 9},\n",
       "      {'item': 'WAIAHOLE WATER SYSTEM', 'count': 8},\n",
       "      {'item': 'HAWAII AGRICULTURAL STATISTICAL SERVICES BR.', 'count': 7},\n",
       "      {'item': 'MARKET DEVELOPMENT BRANCH', 'count': 6},\n",
       "      {'item': 'DEPARTMENTAL ADMINISTRATION', 'count': 5},\n",
       "      {'item': 'MEASUREMENT STANDARDS BRANCH', 'count': 4},\n",
       "      {'item': 'PESTICIDE BRANCH', 'count': 3}],\n",
       "     'smallest': 'AGRIBUSINESS DEVELOPMENT CORP.'},\n",
       "    'format': {}},\n",
       "   {'id': 183656837,\n",
       "    'name': 'EXPENSE CATEGORY',\n",
       "    'dataTypeName': 'text',\n",
       "    'fieldName': 'expense_category',\n",
       "    'position': 6,\n",
       "    'renderTypeName': 'text',\n",
       "    'tableColumnId': 23866873,\n",
       "    'width': 292,\n",
       "    'cachedContents': {'non_null': 42,\n",
       "     'largest': 'OTHER CURRENT EXPENSES',\n",
       "     'null': 0,\n",
       "     'top': [{'item': 'OTHER CURRENT EXPENSES', 'count': 20}],\n",
       "     'smallest': 'OTHER CURRENT EXPENSES'},\n",
       "    'format': {}},\n",
       "   {'id': 183656838,\n",
       "    'name': 'RECEIVED AMOUNT',\n",
       "    'dataTypeName': 'text',\n",
       "    'fieldName': 'received_amount',\n",
       "    'position': 7,\n",
       "    'renderTypeName': 'text',\n",
       "    'tableColumnId': 23866874,\n",
       "    'width': 280,\n",
       "    'cachedContents': {'non_null': 0, 'null': 42},\n",
       "    'format': {}},\n",
       "   {'id': 183656839,\n",
       "    'name': 'APPROVED AMOUNT',\n",
       "    'dataTypeName': 'number',\n",
       "    'fieldName': 'approved_amount',\n",
       "    'position': 8,\n",
       "    'renderTypeName': 'number',\n",
       "    'tableColumnId': 23866875,\n",
       "    'width': 280,\n",
       "    'cachedContents': {'non_null': 42,\n",
       "     'average': '3571.428571428571',\n",
       "     'largest': '35000.00',\n",
       "     'null': 0,\n",
       "     'top': [{'item': '0.00', 'count': 20},\n",
       "      {'item': '35000.00', 'count': 19},\n",
       "      {'item': '25000.00', 'count': 18},\n",
       "      {'item': '30000.00', 'count': 17}],\n",
       "     'smallest': '0.00',\n",
       "     'sum': '150000.00'},\n",
       "    'format': {'precisionStyle': 'currency',\n",
       "     'currencyStyle': 'USD',\n",
       "     'precision': '2'}},\n",
       "   {'id': 183656840,\n",
       "    'name': 'FUND',\n",
       "    'dataTypeName': 'text',\n",
       "    'fieldName': 'fund',\n",
       "    'position': 9,\n",
       "    'renderTypeName': 'text',\n",
       "    'tableColumnId': 23866876,\n",
       "    'width': 148,\n",
       "    'cachedContents': {'non_null': 42,\n",
       "     'largest': 'SPECIAL FUND',\n",
       "     'null': 0,\n",
       "     'top': [{'item': 'SPECIAL FUND', 'count': 20},\n",
       "      {'item': 'GENERAL FUND', 'count': 19},\n",
       "      {'item': 'FEDERAL FUNDS', 'count': 18},\n",
       "      {'item': 'REVOLVING FUNDS', 'count': 17}],\n",
       "     'smallest': 'FEDERAL FUNDS'},\n",
       "    'format': {}},\n",
       "   {'id': 183656841,\n",
       "    'name': 'FUND TYPE',\n",
       "    'dataTypeName': 'text',\n",
       "    'fieldName': 'fund_type',\n",
       "    'position': 10,\n",
       "    'renderTypeName': 'text',\n",
       "    'tableColumnId': 23866877,\n",
       "    'width': 208,\n",
       "    'cachedContents': {'non_null': 0, 'null': 42},\n",
       "    'format': {}},\n",
       "   {'id': 183656842,\n",
       "    'name': 'DESCRIPTION',\n",
       "    'dataTypeName': 'text',\n",
       "    'fieldName': 'description',\n",
       "    'position': 11,\n",
       "    'renderTypeName': 'text',\n",
       "    'tableColumnId': 23866878,\n",
       "    'width': 232,\n",
       "    'cachedContents': {'non_null': 42,\n",
       "     'largest': 'VEHICLES',\n",
       "     'null': 0,\n",
       "     'top': [{'item': 'VEHICLE', 'count': 20},\n",
       "      {'item': 'VEHICLES', 'count': 19},\n",
       "      {'item': 'SPORT UTILITY VEHICLE, 4WD', 'count': 18},\n",
       "      {'item': 'VAN', 'count': 17},\n",
       "      {'item': 'CARGO VAN, 1-TON', 'count': 16},\n",
       "      {'item': 'SEDAN, INTERMEDIATE', 'count': 15},\n",
       "      {'item': 'MOTOR VEHICLE', 'count': 14},\n",
       "      {'item': 'SUV- 4WD', 'count': 13},\n",
       "      {'item': 'PICK-UP, 4X4', 'count': 12},\n",
       "      {'item': 'PICK-UP TRUCK', 'count': 11},\n",
       "      {'item': 'SEDAN, COMPACT', 'count': 10},\n",
       "      {'item': 'SPORTS UTILITY, COMPACT', 'count': 9}],\n",
       "     'smallest': 'CARGO VAN, 1-TON'},\n",
       "    'format': {}}],\n",
       "  'grants': [{'inherited': False, 'type': 'viewer', 'flags': ['public']}],\n",
       "  'metadata': {'custom_fields': {'Data Reference': {'Reference for Technical Information': '',\n",
       "     'Frequency': '',\n",
       "     'Date Updated': '',\n",
       "     'Date Released': '',\n",
       "     'Period of Coverage': '',\n",
       "     'Unit of Analysis': '',\n",
       "     'Data dictionary/variable list': ''},\n",
       "    'Hawaii Line of Business': {'Division name': '',\n",
       "     'Line of Business': '',\n",
       "     'Division shortname, acronym': '',\n",
       "     'Department Agency short name, acronym': '',\n",
       "     'State of Hawaii Data Book Category': '',\n",
       "     'Department/Agency': ''},\n",
       "    'Terms of Use Acknowledgement': {'I agree by uploading this dataset that it contains no private information, and adheres to the data.hawaii.gov terms of use.': 'yes'}},\n",
       "   'availableDisplayTypes': ['table', 'fatrow', 'page'],\n",
       "   'renderTypeConfig': {'visible': {'table': True}}},\n",
       "  'owner': {'id': 'nczc-usar',\n",
       "   'displayName': 'Darryl Lajola',\n",
       "   'screenName': 'Darryl Lajola',\n",
       "   'type': 'interactive',\n",
       "   'userSegment': 'site_member',\n",
       "   'flags': ['mayBeStoriesCoOwner']},\n",
       "  'query': {},\n",
       "  'rights': ['read'],\n",
       "  'tableAuthor': {'id': 'nczc-usar',\n",
       "   'displayName': 'Darryl Lajola',\n",
       "   'screenName': 'Darryl Lajola',\n",
       "   'type': 'interactive',\n",
       "   'userSegment': 'site_member',\n",
       "   'flags': ['mayBeStoriesCoOwner']},\n",
       "  'flags': ['default', 'restorable', 'restorePossibleForType']}}"
      ]
     },
     "execution_count": 44,
     "metadata": {},
     "output_type": "execute_result"
    }
   ],
   "source": [
    "data['meta']"
   ]
  },
  {
   "cell_type": "code",
   "execution_count": 46,
   "metadata": {},
   "outputs": [
    {
     "data": {
      "text/plain": [
       "dict_keys(['view'])"
      ]
     },
     "execution_count": 46,
     "metadata": {},
     "output_type": "execute_result"
    }
   ],
   "source": [
    "data['meta'].keys()"
   ]
  },
  {
   "cell_type": "code",
   "execution_count": 47,
   "metadata": {},
   "outputs": [
    {
     "data": {
      "text/plain": [
       "{'id': 'usep-nua7',\n",
       " 'name': 'Sample DataSet',\n",
       " 'averageRating': 0,\n",
       " 'createdAt': 1420748479,\n",
       " 'description': 'For testing purposes only',\n",
       " 'displayType': 'table',\n",
       " 'downloadCount': 26951,\n",
       " 'hideFromCatalog': False,\n",
       " 'hideFromDataJson': False,\n",
       " 'indexUpdatedAt': 1420751985,\n",
       " 'newBackend': True,\n",
       " 'numberOfComments': 0,\n",
       " 'oid': 9864902,\n",
       " 'provenance': 'official',\n",
       " 'publicationAppendEnabled': False,\n",
       " 'publicationDate': 1420749334,\n",
       " 'publicationGroup': 2080751,\n",
       " 'publicationStage': 'published',\n",
       " 'rowsUpdatedAt': 1420749245,\n",
       " 'rowsUpdatedBy': 'nczc-usar',\n",
       " 'tableId': 2080798,\n",
       " 'totalTimesRated': 0,\n",
       " 'viewCount': 550,\n",
       " 'viewLastModified': 1420751956,\n",
       " 'viewType': 'tabular',\n",
       " 'approvals': [{'reviewedAt': 1420751954,\n",
       "   'reviewedAutomatically': True,\n",
       "   'state': 'approved',\n",
       "   'submissionId': 806720,\n",
       "   'submissionObject': 'public_audience_request',\n",
       "   'submissionOutcome': 'change_audience',\n",
       "   'submittedAt': 1420751954,\n",
       "   'workflowId': 2182,\n",
       "   'submissionDetails': {'permissionType': 'READ'},\n",
       "   'submissionOutcomeApplication': {'failureCount': 0, 'status': 'success'},\n",
       "   'submitter': {'id': 'nczc-usar', 'displayName': 'Darryl Lajola'}}],\n",
       " 'columns': [{'id': -1,\n",
       "   'name': 'sid',\n",
       "   'dataTypeName': 'meta_data',\n",
       "   'fieldName': ':sid',\n",
       "   'position': 0,\n",
       "   'renderTypeName': 'meta_data',\n",
       "   'format': {},\n",
       "   'flags': ['hidden']},\n",
       "  {'id': -1,\n",
       "   'name': 'id',\n",
       "   'dataTypeName': 'meta_data',\n",
       "   'fieldName': ':id',\n",
       "   'position': 0,\n",
       "   'renderTypeName': 'meta_data',\n",
       "   'format': {},\n",
       "   'flags': ['hidden']},\n",
       "  {'id': -1,\n",
       "   'name': 'position',\n",
       "   'dataTypeName': 'meta_data',\n",
       "   'fieldName': ':position',\n",
       "   'position': 0,\n",
       "   'renderTypeName': 'meta_data',\n",
       "   'format': {},\n",
       "   'flags': ['hidden']},\n",
       "  {'id': -1,\n",
       "   'name': 'created_at',\n",
       "   'dataTypeName': 'meta_data',\n",
       "   'fieldName': ':created_at',\n",
       "   'position': 0,\n",
       "   'renderTypeName': 'meta_data',\n",
       "   'format': {},\n",
       "   'flags': ['hidden']},\n",
       "  {'id': -1,\n",
       "   'name': 'created_meta',\n",
       "   'dataTypeName': 'meta_data',\n",
       "   'fieldName': ':created_meta',\n",
       "   'position': 0,\n",
       "   'renderTypeName': 'meta_data',\n",
       "   'format': {},\n",
       "   'flags': ['hidden']},\n",
       "  {'id': -1,\n",
       "   'name': 'updated_at',\n",
       "   'dataTypeName': 'meta_data',\n",
       "   'fieldName': ':updated_at',\n",
       "   'position': 0,\n",
       "   'renderTypeName': 'meta_data',\n",
       "   'format': {},\n",
       "   'flags': ['hidden']},\n",
       "  {'id': -1,\n",
       "   'name': 'updated_meta',\n",
       "   'dataTypeName': 'meta_data',\n",
       "   'fieldName': ':updated_meta',\n",
       "   'position': 0,\n",
       "   'renderTypeName': 'meta_data',\n",
       "   'format': {},\n",
       "   'flags': ['hidden']},\n",
       "  {'id': -1,\n",
       "   'name': 'meta',\n",
       "   'dataTypeName': 'meta_data',\n",
       "   'fieldName': ':meta',\n",
       "   'position': 0,\n",
       "   'renderTypeName': 'meta_data',\n",
       "   'format': {},\n",
       "   'flags': ['hidden']},\n",
       "  {'id': 183656833,\n",
       "   'name': 'FISCAL YEAR',\n",
       "   'dataTypeName': 'text',\n",
       "   'fieldName': 'fiscal_year',\n",
       "   'position': 2,\n",
       "   'rdfProperties': '',\n",
       "   'renderTypeName': 'text',\n",
       "   'tableColumnId': 23866869,\n",
       "   'width': 232,\n",
       "   'cachedContents': {'non_null': 42,\n",
       "    'largest': '2015',\n",
       "    'null': 0,\n",
       "    'top': [{'item': '2015', 'count': 20}],\n",
       "    'smallest': '2015'},\n",
       "   'format': {'precisionStyle': 'standard',\n",
       "    'rdf': '',\n",
       "    'noCommas': 'false',\n",
       "    'align': 'right'}},\n",
       "  {'id': 183656834,\n",
       "   'name': 'SERVICE',\n",
       "   'dataTypeName': 'text',\n",
       "   'fieldName': 'service',\n",
       "   'position': 3,\n",
       "   'renderTypeName': 'text',\n",
       "   'tableColumnId': 23866870,\n",
       "   'width': 184,\n",
       "   'cachedContents': {'non_null': 42,\n",
       "    'largest': 'PLANT PEST AND DISEASE CONTROL',\n",
       "    'null': 0,\n",
       "    'top': [{'item': 'FINANCIAL ASSISTANCE FOR AGRICULTURE', 'count': 20},\n",
       "     {'item': 'PLANT PEST AND DISEASE CONTROL', 'count': 19},\n",
       "     {'item': 'ANIMAL QUARANTINE', 'count': 18},\n",
       "     {'item': 'ANIMAL DISEASE CONTROL', 'count': 17},\n",
       "     {'item': 'AGRICULTURAL RESOURCE MANAGEMENT', 'count': 16},\n",
       "     {'item': 'MKG INFO & DISTRIB SYSTEMS IMPROVEMT FOR AGR', 'count': 15},\n",
       "     {'item': 'AQUACULTURE DEVELOPMENT', 'count': 14},\n",
       "     {'item': 'AGRIBUSINESS DEVELOPMENT & RESEARCH', 'count': 13},\n",
       "     {'item': 'AGRICULTURAL DEVELOPMENT & MARKETING', 'count': 12},\n",
       "     {'item': 'GENERAL ADMINISTRATION FOR AGR', 'count': 11},\n",
       "     {'item': 'MEASUREMENT STANDARDS', 'count': 10},\n",
       "     {'item': 'PESTICIDES', 'count': 9}],\n",
       "    'smallest': 'AGRIBUSINESS DEVELOPMENT & RESEARCH'},\n",
       "   'format': {}},\n",
       "  {'id': 183656835,\n",
       "   'name': 'DEPARTMENT',\n",
       "   'dataTypeName': 'text',\n",
       "   'fieldName': 'department',\n",
       "   'position': 4,\n",
       "   'renderTypeName': 'text',\n",
       "   'tableColumnId': 23866871,\n",
       "   'width': 220,\n",
       "   'cachedContents': {'non_null': 42,\n",
       "    'largest': 'PLANT PEST AND DISEASE CONTROL',\n",
       "    'null': 0,\n",
       "    'top': [{'item': 'FINANCIAL ASSISTANCE FOR AGRICULTURE', 'count': 20},\n",
       "     {'item': 'PLANT PEST AND DISEASE CONTROL', 'count': 19},\n",
       "     {'item': 'ANIMAL QUARANTINE', 'count': 18},\n",
       "     {'item': 'ANIMAL DISEASE CONTROL', 'count': 17},\n",
       "     {'item': 'AGRICULTURAL RESOURCE MANAGEMENT', 'count': 16},\n",
       "     {'item': 'MKG INFO & DISTRIB SYSTEMS IMPROVEMT FOR AGR', 'count': 15},\n",
       "     {'item': 'AQUACULTURE DEVELOPMENT', 'count': 14},\n",
       "     {'item': 'AGRIBUSINESS DEVELOPMENT & RESEARCH', 'count': 13},\n",
       "     {'item': 'AGRICULTURAL DEVELOPMENT & MARKETING', 'count': 12},\n",
       "     {'item': 'GENERAL ADMINISTRATION FOR AGR', 'count': 11},\n",
       "     {'item': 'MEASUREMENT STANDARDS', 'count': 10},\n",
       "     {'item': 'PESTICIDES', 'count': 9}],\n",
       "    'smallest': 'AGRIBUSINESS DEVELOPMENT & RESEARCH'},\n",
       "   'format': {}},\n",
       "  {'id': 183656836,\n",
       "   'name': 'PROGRAM',\n",
       "   'dataTypeName': 'text',\n",
       "   'fieldName': 'program',\n",
       "   'position': 5,\n",
       "   'renderTypeName': 'text',\n",
       "   'tableColumnId': 23866872,\n",
       "   'width': 184,\n",
       "   'cachedContents': {'non_null': 42,\n",
       "    'largest': 'WAIAHOLE WATER SYSTEM',\n",
       "    'null': 0,\n",
       "    'top': [{'item': 'AGRICULTURAL LOAN DIVISION', 'count': 20},\n",
       "     {'item': 'PLANT QUARANTINE BRANCH', 'count': 19},\n",
       "     {'item': 'PLANT PEST CONTROL BRANCH - BIOCONTROL', 'count': 18},\n",
       "     {'item': 'PLANT PEST CONTROL BRANCH - CHEM / MECH', 'count': 17},\n",
       "     {'item': 'INSPECTION & QUARANTINE BRANCH', 'count': 16},\n",
       "     {'item': 'ANIMAL INDUSTRY DIVISION ADMINISTRATION', 'count': 15},\n",
       "     {'item': 'LIVESTOCK DISEASE CONTROL BRANCH', 'count': 14},\n",
       "     {'item': 'AGRICULTURAL RESOURCE MANAGEMENT DIVISION', 'count': 13},\n",
       "     {'item': 'COMMODITIES BRANCH', 'count': 12},\n",
       "     {'item': 'COMMODITIES BRANCH - MILK CONTROL', 'count': 11},\n",
       "     {'item': 'AQUACULTURE DEVELOPMENT PROGRAM', 'count': 10},\n",
       "     {'item': 'AGRIBUSINESS DEVELOPMENT CORP.', 'count': 9},\n",
       "     {'item': 'WAIAHOLE WATER SYSTEM', 'count': 8},\n",
       "     {'item': 'HAWAII AGRICULTURAL STATISTICAL SERVICES BR.', 'count': 7},\n",
       "     {'item': 'MARKET DEVELOPMENT BRANCH', 'count': 6},\n",
       "     {'item': 'DEPARTMENTAL ADMINISTRATION', 'count': 5},\n",
       "     {'item': 'MEASUREMENT STANDARDS BRANCH', 'count': 4},\n",
       "     {'item': 'PESTICIDE BRANCH', 'count': 3}],\n",
       "    'smallest': 'AGRIBUSINESS DEVELOPMENT CORP.'},\n",
       "   'format': {}},\n",
       "  {'id': 183656837,\n",
       "   'name': 'EXPENSE CATEGORY',\n",
       "   'dataTypeName': 'text',\n",
       "   'fieldName': 'expense_category',\n",
       "   'position': 6,\n",
       "   'renderTypeName': 'text',\n",
       "   'tableColumnId': 23866873,\n",
       "   'width': 292,\n",
       "   'cachedContents': {'non_null': 42,\n",
       "    'largest': 'OTHER CURRENT EXPENSES',\n",
       "    'null': 0,\n",
       "    'top': [{'item': 'OTHER CURRENT EXPENSES', 'count': 20}],\n",
       "    'smallest': 'OTHER CURRENT EXPENSES'},\n",
       "   'format': {}},\n",
       "  {'id': 183656838,\n",
       "   'name': 'RECEIVED AMOUNT',\n",
       "   'dataTypeName': 'text',\n",
       "   'fieldName': 'received_amount',\n",
       "   'position': 7,\n",
       "   'renderTypeName': 'text',\n",
       "   'tableColumnId': 23866874,\n",
       "   'width': 280,\n",
       "   'cachedContents': {'non_null': 0, 'null': 42},\n",
       "   'format': {}},\n",
       "  {'id': 183656839,\n",
       "   'name': 'APPROVED AMOUNT',\n",
       "   'dataTypeName': 'number',\n",
       "   'fieldName': 'approved_amount',\n",
       "   'position': 8,\n",
       "   'renderTypeName': 'number',\n",
       "   'tableColumnId': 23866875,\n",
       "   'width': 280,\n",
       "   'cachedContents': {'non_null': 42,\n",
       "    'average': '3571.428571428571',\n",
       "    'largest': '35000.00',\n",
       "    'null': 0,\n",
       "    'top': [{'item': '0.00', 'count': 20},\n",
       "     {'item': '35000.00', 'count': 19},\n",
       "     {'item': '25000.00', 'count': 18},\n",
       "     {'item': '30000.00', 'count': 17}],\n",
       "    'smallest': '0.00',\n",
       "    'sum': '150000.00'},\n",
       "   'format': {'precisionStyle': 'currency',\n",
       "    'currencyStyle': 'USD',\n",
       "    'precision': '2'}},\n",
       "  {'id': 183656840,\n",
       "   'name': 'FUND',\n",
       "   'dataTypeName': 'text',\n",
       "   'fieldName': 'fund',\n",
       "   'position': 9,\n",
       "   'renderTypeName': 'text',\n",
       "   'tableColumnId': 23866876,\n",
       "   'width': 148,\n",
       "   'cachedContents': {'non_null': 42,\n",
       "    'largest': 'SPECIAL FUND',\n",
       "    'null': 0,\n",
       "    'top': [{'item': 'SPECIAL FUND', 'count': 20},\n",
       "     {'item': 'GENERAL FUND', 'count': 19},\n",
       "     {'item': 'FEDERAL FUNDS', 'count': 18},\n",
       "     {'item': 'REVOLVING FUNDS', 'count': 17}],\n",
       "    'smallest': 'FEDERAL FUNDS'},\n",
       "   'format': {}},\n",
       "  {'id': 183656841,\n",
       "   'name': 'FUND TYPE',\n",
       "   'dataTypeName': 'text',\n",
       "   'fieldName': 'fund_type',\n",
       "   'position': 10,\n",
       "   'renderTypeName': 'text',\n",
       "   'tableColumnId': 23866877,\n",
       "   'width': 208,\n",
       "   'cachedContents': {'non_null': 0, 'null': 42},\n",
       "   'format': {}},\n",
       "  {'id': 183656842,\n",
       "   'name': 'DESCRIPTION',\n",
       "   'dataTypeName': 'text',\n",
       "   'fieldName': 'description',\n",
       "   'position': 11,\n",
       "   'renderTypeName': 'text',\n",
       "   'tableColumnId': 23866878,\n",
       "   'width': 232,\n",
       "   'cachedContents': {'non_null': 42,\n",
       "    'largest': 'VEHICLES',\n",
       "    'null': 0,\n",
       "    'top': [{'item': 'VEHICLE', 'count': 20},\n",
       "     {'item': 'VEHICLES', 'count': 19},\n",
       "     {'item': 'SPORT UTILITY VEHICLE, 4WD', 'count': 18},\n",
       "     {'item': 'VAN', 'count': 17},\n",
       "     {'item': 'CARGO VAN, 1-TON', 'count': 16},\n",
       "     {'item': 'SEDAN, INTERMEDIATE', 'count': 15},\n",
       "     {'item': 'MOTOR VEHICLE', 'count': 14},\n",
       "     {'item': 'SUV- 4WD', 'count': 13},\n",
       "     {'item': 'PICK-UP, 4X4', 'count': 12},\n",
       "     {'item': 'PICK-UP TRUCK', 'count': 11},\n",
       "     {'item': 'SEDAN, COMPACT', 'count': 10},\n",
       "     {'item': 'SPORTS UTILITY, COMPACT', 'count': 9}],\n",
       "    'smallest': 'CARGO VAN, 1-TON'},\n",
       "   'format': {}}],\n",
       " 'grants': [{'inherited': False, 'type': 'viewer', 'flags': ['public']}],\n",
       " 'metadata': {'custom_fields': {'Data Reference': {'Reference for Technical Information': '',\n",
       "    'Frequency': '',\n",
       "    'Date Updated': '',\n",
       "    'Date Released': '',\n",
       "    'Period of Coverage': '',\n",
       "    'Unit of Analysis': '',\n",
       "    'Data dictionary/variable list': ''},\n",
       "   'Hawaii Line of Business': {'Division name': '',\n",
       "    'Line of Business': '',\n",
       "    'Division shortname, acronym': '',\n",
       "    'Department Agency short name, acronym': '',\n",
       "    'State of Hawaii Data Book Category': '',\n",
       "    'Department/Agency': ''},\n",
       "   'Terms of Use Acknowledgement': {'I agree by uploading this dataset that it contains no private information, and adheres to the data.hawaii.gov terms of use.': 'yes'}},\n",
       "  'availableDisplayTypes': ['table', 'fatrow', 'page'],\n",
       "  'renderTypeConfig': {'visible': {'table': True}}},\n",
       " 'owner': {'id': 'nczc-usar',\n",
       "  'displayName': 'Darryl Lajola',\n",
       "  'screenName': 'Darryl Lajola',\n",
       "  'type': 'interactive',\n",
       "  'userSegment': 'site_member',\n",
       "  'flags': ['mayBeStoriesCoOwner']},\n",
       " 'query': {},\n",
       " 'rights': ['read'],\n",
       " 'tableAuthor': {'id': 'nczc-usar',\n",
       "  'displayName': 'Darryl Lajola',\n",
       "  'screenName': 'Darryl Lajola',\n",
       "  'type': 'interactive',\n",
       "  'userSegment': 'site_member',\n",
       "  'flags': ['mayBeStoriesCoOwner']},\n",
       " 'flags': ['default', 'restorable', 'restorePossibleForType']}"
      ]
     },
     "execution_count": 47,
     "metadata": {},
     "output_type": "execute_result"
    }
   ],
   "source": [
    "data['meta']['view']"
   ]
  },
  {
   "cell_type": "code",
   "execution_count": 19,
   "metadata": {},
   "outputs": [
    {
     "data": {
      "text/plain": [
       "dict_keys(['id', 'name', 'averageRating', 'createdAt', 'description', 'displayType', 'downloadCount', 'hideFromCatalog', 'hideFromDataJson', 'indexUpdatedAt', 'newBackend', 'numberOfComments', 'oid', 'provenance', 'publicationAppendEnabled', 'publicationDate', 'publicationGroup', 'publicationStage', 'rowsUpdatedAt', 'rowsUpdatedBy', 'tableId', 'totalTimesRated', 'viewCount', 'viewLastModified', 'viewType', 'approvals', 'columns', 'grants', 'metadata', 'owner', 'query', 'rights', 'tableAuthor', 'flags'])"
      ]
     },
     "execution_count": 19,
     "metadata": {},
     "output_type": "execute_result"
    }
   ],
   "source": [
    "data['meta']['view'].keys()"
   ]
  },
  {
   "cell_type": "code",
   "execution_count": 49,
   "metadata": {},
   "outputs": [
    {
     "data": {
      "text/plain": [
       "[{'id': -1,\n",
       "  'name': 'sid',\n",
       "  'dataTypeName': 'meta_data',\n",
       "  'fieldName': ':sid',\n",
       "  'position': 0,\n",
       "  'renderTypeName': 'meta_data',\n",
       "  'format': {},\n",
       "  'flags': ['hidden']},\n",
       " {'id': -1,\n",
       "  'name': 'id',\n",
       "  'dataTypeName': 'meta_data',\n",
       "  'fieldName': ':id',\n",
       "  'position': 0,\n",
       "  'renderTypeName': 'meta_data',\n",
       "  'format': {},\n",
       "  'flags': ['hidden']},\n",
       " {'id': -1,\n",
       "  'name': 'position',\n",
       "  'dataTypeName': 'meta_data',\n",
       "  'fieldName': ':position',\n",
       "  'position': 0,\n",
       "  'renderTypeName': 'meta_data',\n",
       "  'format': {},\n",
       "  'flags': ['hidden']},\n",
       " {'id': -1,\n",
       "  'name': 'created_at',\n",
       "  'dataTypeName': 'meta_data',\n",
       "  'fieldName': ':created_at',\n",
       "  'position': 0,\n",
       "  'renderTypeName': 'meta_data',\n",
       "  'format': {},\n",
       "  'flags': ['hidden']},\n",
       " {'id': -1,\n",
       "  'name': 'created_meta',\n",
       "  'dataTypeName': 'meta_data',\n",
       "  'fieldName': ':created_meta',\n",
       "  'position': 0,\n",
       "  'renderTypeName': 'meta_data',\n",
       "  'format': {},\n",
       "  'flags': ['hidden']},\n",
       " {'id': -1,\n",
       "  'name': 'updated_at',\n",
       "  'dataTypeName': 'meta_data',\n",
       "  'fieldName': ':updated_at',\n",
       "  'position': 0,\n",
       "  'renderTypeName': 'meta_data',\n",
       "  'format': {},\n",
       "  'flags': ['hidden']},\n",
       " {'id': -1,\n",
       "  'name': 'updated_meta',\n",
       "  'dataTypeName': 'meta_data',\n",
       "  'fieldName': ':updated_meta',\n",
       "  'position': 0,\n",
       "  'renderTypeName': 'meta_data',\n",
       "  'format': {},\n",
       "  'flags': ['hidden']},\n",
       " {'id': -1,\n",
       "  'name': 'meta',\n",
       "  'dataTypeName': 'meta_data',\n",
       "  'fieldName': ':meta',\n",
       "  'position': 0,\n",
       "  'renderTypeName': 'meta_data',\n",
       "  'format': {},\n",
       "  'flags': ['hidden']},\n",
       " {'id': 183656833,\n",
       "  'name': 'FISCAL YEAR',\n",
       "  'dataTypeName': 'text',\n",
       "  'fieldName': 'fiscal_year',\n",
       "  'position': 2,\n",
       "  'rdfProperties': '',\n",
       "  'renderTypeName': 'text',\n",
       "  'tableColumnId': 23866869,\n",
       "  'width': 232,\n",
       "  'cachedContents': {'non_null': 42,\n",
       "   'largest': '2015',\n",
       "   'null': 0,\n",
       "   'top': [{'item': '2015', 'count': 20}],\n",
       "   'smallest': '2015'},\n",
       "  'format': {'precisionStyle': 'standard',\n",
       "   'rdf': '',\n",
       "   'noCommas': 'false',\n",
       "   'align': 'right'}},\n",
       " {'id': 183656834,\n",
       "  'name': 'SERVICE',\n",
       "  'dataTypeName': 'text',\n",
       "  'fieldName': 'service',\n",
       "  'position': 3,\n",
       "  'renderTypeName': 'text',\n",
       "  'tableColumnId': 23866870,\n",
       "  'width': 184,\n",
       "  'cachedContents': {'non_null': 42,\n",
       "   'largest': 'PLANT PEST AND DISEASE CONTROL',\n",
       "   'null': 0,\n",
       "   'top': [{'item': 'FINANCIAL ASSISTANCE FOR AGRICULTURE', 'count': 20},\n",
       "    {'item': 'PLANT PEST AND DISEASE CONTROL', 'count': 19},\n",
       "    {'item': 'ANIMAL QUARANTINE', 'count': 18},\n",
       "    {'item': 'ANIMAL DISEASE CONTROL', 'count': 17},\n",
       "    {'item': 'AGRICULTURAL RESOURCE MANAGEMENT', 'count': 16},\n",
       "    {'item': 'MKG INFO & DISTRIB SYSTEMS IMPROVEMT FOR AGR', 'count': 15},\n",
       "    {'item': 'AQUACULTURE DEVELOPMENT', 'count': 14},\n",
       "    {'item': 'AGRIBUSINESS DEVELOPMENT & RESEARCH', 'count': 13},\n",
       "    {'item': 'AGRICULTURAL DEVELOPMENT & MARKETING', 'count': 12},\n",
       "    {'item': 'GENERAL ADMINISTRATION FOR AGR', 'count': 11},\n",
       "    {'item': 'MEASUREMENT STANDARDS', 'count': 10},\n",
       "    {'item': 'PESTICIDES', 'count': 9}],\n",
       "   'smallest': 'AGRIBUSINESS DEVELOPMENT & RESEARCH'},\n",
       "  'format': {}},\n",
       " {'id': 183656835,\n",
       "  'name': 'DEPARTMENT',\n",
       "  'dataTypeName': 'text',\n",
       "  'fieldName': 'department',\n",
       "  'position': 4,\n",
       "  'renderTypeName': 'text',\n",
       "  'tableColumnId': 23866871,\n",
       "  'width': 220,\n",
       "  'cachedContents': {'non_null': 42,\n",
       "   'largest': 'PLANT PEST AND DISEASE CONTROL',\n",
       "   'null': 0,\n",
       "   'top': [{'item': 'FINANCIAL ASSISTANCE FOR AGRICULTURE', 'count': 20},\n",
       "    {'item': 'PLANT PEST AND DISEASE CONTROL', 'count': 19},\n",
       "    {'item': 'ANIMAL QUARANTINE', 'count': 18},\n",
       "    {'item': 'ANIMAL DISEASE CONTROL', 'count': 17},\n",
       "    {'item': 'AGRICULTURAL RESOURCE MANAGEMENT', 'count': 16},\n",
       "    {'item': 'MKG INFO & DISTRIB SYSTEMS IMPROVEMT FOR AGR', 'count': 15},\n",
       "    {'item': 'AQUACULTURE DEVELOPMENT', 'count': 14},\n",
       "    {'item': 'AGRIBUSINESS DEVELOPMENT & RESEARCH', 'count': 13},\n",
       "    {'item': 'AGRICULTURAL DEVELOPMENT & MARKETING', 'count': 12},\n",
       "    {'item': 'GENERAL ADMINISTRATION FOR AGR', 'count': 11},\n",
       "    {'item': 'MEASUREMENT STANDARDS', 'count': 10},\n",
       "    {'item': 'PESTICIDES', 'count': 9}],\n",
       "   'smallest': 'AGRIBUSINESS DEVELOPMENT & RESEARCH'},\n",
       "  'format': {}},\n",
       " {'id': 183656836,\n",
       "  'name': 'PROGRAM',\n",
       "  'dataTypeName': 'text',\n",
       "  'fieldName': 'program',\n",
       "  'position': 5,\n",
       "  'renderTypeName': 'text',\n",
       "  'tableColumnId': 23866872,\n",
       "  'width': 184,\n",
       "  'cachedContents': {'non_null': 42,\n",
       "   'largest': 'WAIAHOLE WATER SYSTEM',\n",
       "   'null': 0,\n",
       "   'top': [{'item': 'AGRICULTURAL LOAN DIVISION', 'count': 20},\n",
       "    {'item': 'PLANT QUARANTINE BRANCH', 'count': 19},\n",
       "    {'item': 'PLANT PEST CONTROL BRANCH - BIOCONTROL', 'count': 18},\n",
       "    {'item': 'PLANT PEST CONTROL BRANCH - CHEM / MECH', 'count': 17},\n",
       "    {'item': 'INSPECTION & QUARANTINE BRANCH', 'count': 16},\n",
       "    {'item': 'ANIMAL INDUSTRY DIVISION ADMINISTRATION', 'count': 15},\n",
       "    {'item': 'LIVESTOCK DISEASE CONTROL BRANCH', 'count': 14},\n",
       "    {'item': 'AGRICULTURAL RESOURCE MANAGEMENT DIVISION', 'count': 13},\n",
       "    {'item': 'COMMODITIES BRANCH', 'count': 12},\n",
       "    {'item': 'COMMODITIES BRANCH - MILK CONTROL', 'count': 11},\n",
       "    {'item': 'AQUACULTURE DEVELOPMENT PROGRAM', 'count': 10},\n",
       "    {'item': 'AGRIBUSINESS DEVELOPMENT CORP.', 'count': 9},\n",
       "    {'item': 'WAIAHOLE WATER SYSTEM', 'count': 8},\n",
       "    {'item': 'HAWAII AGRICULTURAL STATISTICAL SERVICES BR.', 'count': 7},\n",
       "    {'item': 'MARKET DEVELOPMENT BRANCH', 'count': 6},\n",
       "    {'item': 'DEPARTMENTAL ADMINISTRATION', 'count': 5},\n",
       "    {'item': 'MEASUREMENT STANDARDS BRANCH', 'count': 4},\n",
       "    {'item': 'PESTICIDE BRANCH', 'count': 3}],\n",
       "   'smallest': 'AGRIBUSINESS DEVELOPMENT CORP.'},\n",
       "  'format': {}},\n",
       " {'id': 183656837,\n",
       "  'name': 'EXPENSE CATEGORY',\n",
       "  'dataTypeName': 'text',\n",
       "  'fieldName': 'expense_category',\n",
       "  'position': 6,\n",
       "  'renderTypeName': 'text',\n",
       "  'tableColumnId': 23866873,\n",
       "  'width': 292,\n",
       "  'cachedContents': {'non_null': 42,\n",
       "   'largest': 'OTHER CURRENT EXPENSES',\n",
       "   'null': 0,\n",
       "   'top': [{'item': 'OTHER CURRENT EXPENSES', 'count': 20}],\n",
       "   'smallest': 'OTHER CURRENT EXPENSES'},\n",
       "  'format': {}},\n",
       " {'id': 183656838,\n",
       "  'name': 'RECEIVED AMOUNT',\n",
       "  'dataTypeName': 'text',\n",
       "  'fieldName': 'received_amount',\n",
       "  'position': 7,\n",
       "  'renderTypeName': 'text',\n",
       "  'tableColumnId': 23866874,\n",
       "  'width': 280,\n",
       "  'cachedContents': {'non_null': 0, 'null': 42},\n",
       "  'format': {}},\n",
       " {'id': 183656839,\n",
       "  'name': 'APPROVED AMOUNT',\n",
       "  'dataTypeName': 'number',\n",
       "  'fieldName': 'approved_amount',\n",
       "  'position': 8,\n",
       "  'renderTypeName': 'number',\n",
       "  'tableColumnId': 23866875,\n",
       "  'width': 280,\n",
       "  'cachedContents': {'non_null': 42,\n",
       "   'average': '3571.428571428571',\n",
       "   'largest': '35000.00',\n",
       "   'null': 0,\n",
       "   'top': [{'item': '0.00', 'count': 20},\n",
       "    {'item': '35000.00', 'count': 19},\n",
       "    {'item': '25000.00', 'count': 18},\n",
       "    {'item': '30000.00', 'count': 17}],\n",
       "   'smallest': '0.00',\n",
       "   'sum': '150000.00'},\n",
       "  'format': {'precisionStyle': 'currency',\n",
       "   'currencyStyle': 'USD',\n",
       "   'precision': '2'}},\n",
       " {'id': 183656840,\n",
       "  'name': 'FUND',\n",
       "  'dataTypeName': 'text',\n",
       "  'fieldName': 'fund',\n",
       "  'position': 9,\n",
       "  'renderTypeName': 'text',\n",
       "  'tableColumnId': 23866876,\n",
       "  'width': 148,\n",
       "  'cachedContents': {'non_null': 42,\n",
       "   'largest': 'SPECIAL FUND',\n",
       "   'null': 0,\n",
       "   'top': [{'item': 'SPECIAL FUND', 'count': 20},\n",
       "    {'item': 'GENERAL FUND', 'count': 19},\n",
       "    {'item': 'FEDERAL FUNDS', 'count': 18},\n",
       "    {'item': 'REVOLVING FUNDS', 'count': 17}],\n",
       "   'smallest': 'FEDERAL FUNDS'},\n",
       "  'format': {}},\n",
       " {'id': 183656841,\n",
       "  'name': 'FUND TYPE',\n",
       "  'dataTypeName': 'text',\n",
       "  'fieldName': 'fund_type',\n",
       "  'position': 10,\n",
       "  'renderTypeName': 'text',\n",
       "  'tableColumnId': 23866877,\n",
       "  'width': 208,\n",
       "  'cachedContents': {'non_null': 0, 'null': 42},\n",
       "  'format': {}},\n",
       " {'id': 183656842,\n",
       "  'name': 'DESCRIPTION',\n",
       "  'dataTypeName': 'text',\n",
       "  'fieldName': 'description',\n",
       "  'position': 11,\n",
       "  'renderTypeName': 'text',\n",
       "  'tableColumnId': 23866878,\n",
       "  'width': 232,\n",
       "  'cachedContents': {'non_null': 42,\n",
       "   'largest': 'VEHICLES',\n",
       "   'null': 0,\n",
       "   'top': [{'item': 'VEHICLE', 'count': 20},\n",
       "    {'item': 'VEHICLES', 'count': 19},\n",
       "    {'item': 'SPORT UTILITY VEHICLE, 4WD', 'count': 18},\n",
       "    {'item': 'VAN', 'count': 17},\n",
       "    {'item': 'CARGO VAN, 1-TON', 'count': 16},\n",
       "    {'item': 'SEDAN, INTERMEDIATE', 'count': 15},\n",
       "    {'item': 'MOTOR VEHICLE', 'count': 14},\n",
       "    {'item': 'SUV- 4WD', 'count': 13},\n",
       "    {'item': 'PICK-UP, 4X4', 'count': 12},\n",
       "    {'item': 'PICK-UP TRUCK', 'count': 11},\n",
       "    {'item': 'SEDAN, COMPACT', 'count': 10},\n",
       "    {'item': 'SPORTS UTILITY, COMPACT', 'count': 9}],\n",
       "   'smallest': 'CARGO VAN, 1-TON'},\n",
       "  'format': {}}]"
      ]
     },
     "execution_count": 49,
     "metadata": {},
     "output_type": "execute_result"
    }
   ],
   "source": [
    "data['meta']['view']['columns']"
   ]
  },
  {
   "cell_type": "code",
   "execution_count": 50,
   "metadata": {},
   "outputs": [
    {
     "data": {
      "text/plain": [
       "{'id': 183656834,\n",
       " 'name': 'SERVICE',\n",
       " 'dataTypeName': 'text',\n",
       " 'fieldName': 'service',\n",
       " 'position': 3,\n",
       " 'renderTypeName': 'text',\n",
       " 'tableColumnId': 23866870,\n",
       " 'width': 184,\n",
       " 'cachedContents': {'non_null': 42,\n",
       "  'largest': 'PLANT PEST AND DISEASE CONTROL',\n",
       "  'null': 0,\n",
       "  'top': [{'item': 'FINANCIAL ASSISTANCE FOR AGRICULTURE', 'count': 20},\n",
       "   {'item': 'PLANT PEST AND DISEASE CONTROL', 'count': 19},\n",
       "   {'item': 'ANIMAL QUARANTINE', 'count': 18},\n",
       "   {'item': 'ANIMAL DISEASE CONTROL', 'count': 17},\n",
       "   {'item': 'AGRICULTURAL RESOURCE MANAGEMENT', 'count': 16},\n",
       "   {'item': 'MKG INFO & DISTRIB SYSTEMS IMPROVEMT FOR AGR', 'count': 15},\n",
       "   {'item': 'AQUACULTURE DEVELOPMENT', 'count': 14},\n",
       "   {'item': 'AGRIBUSINESS DEVELOPMENT & RESEARCH', 'count': 13},\n",
       "   {'item': 'AGRICULTURAL DEVELOPMENT & MARKETING', 'count': 12},\n",
       "   {'item': 'GENERAL ADMINISTRATION FOR AGR', 'count': 11},\n",
       "   {'item': 'MEASUREMENT STANDARDS', 'count': 10},\n",
       "   {'item': 'PESTICIDES', 'count': 9}],\n",
       "  'smallest': 'AGRIBUSINESS DEVELOPMENT & RESEARCH'},\n",
       " 'format': {}}"
      ]
     },
     "execution_count": 50,
     "metadata": {},
     "output_type": "execute_result"
    }
   ],
   "source": [
    "data['meta']['view']['columns'][9]"
   ]
  },
  {
   "cell_type": "code",
   "execution_count": 51,
   "metadata": {},
   "outputs": [
    {
     "data": {
      "text/plain": [
       "dict_keys(['id', 'name', 'dataTypeName', 'fieldName', 'position', 'renderTypeName', 'tableColumnId', 'width', 'cachedContents', 'format'])"
      ]
     },
     "execution_count": 51,
     "metadata": {},
     "output_type": "execute_result"
    }
   ],
   "source": [
    "data['meta']['view']['columns'][9].keys()"
   ]
  },
  {
   "cell_type": "code",
   "execution_count": 52,
   "metadata": {},
   "outputs": [
    {
     "data": {
      "text/plain": [
       "{'non_null': 42,\n",
       " 'largest': 'PLANT PEST AND DISEASE CONTROL',\n",
       " 'null': 0,\n",
       " 'top': [{'item': 'FINANCIAL ASSISTANCE FOR AGRICULTURE', 'count': 20},\n",
       "  {'item': 'PLANT PEST AND DISEASE CONTROL', 'count': 19},\n",
       "  {'item': 'ANIMAL QUARANTINE', 'count': 18},\n",
       "  {'item': 'ANIMAL DISEASE CONTROL', 'count': 17},\n",
       "  {'item': 'AGRICULTURAL RESOURCE MANAGEMENT', 'count': 16},\n",
       "  {'item': 'MKG INFO & DISTRIB SYSTEMS IMPROVEMT FOR AGR', 'count': 15},\n",
       "  {'item': 'AQUACULTURE DEVELOPMENT', 'count': 14},\n",
       "  {'item': 'AGRIBUSINESS DEVELOPMENT & RESEARCH', 'count': 13},\n",
       "  {'item': 'AGRICULTURAL DEVELOPMENT & MARKETING', 'count': 12},\n",
       "  {'item': 'GENERAL ADMINISTRATION FOR AGR', 'count': 11},\n",
       "  {'item': 'MEASUREMENT STANDARDS', 'count': 10},\n",
       "  {'item': 'PESTICIDES', 'count': 9}],\n",
       " 'smallest': 'AGRIBUSINESS DEVELOPMENT & RESEARCH'}"
      ]
     },
     "execution_count": 52,
     "metadata": {},
     "output_type": "execute_result"
    }
   ],
   "source": [
    "data['meta']['view']['columns'][9]['cachedContents']"
   ]
  },
  {
   "cell_type": "code",
   "execution_count": 53,
   "metadata": {},
   "outputs": [
    {
     "data": {
      "text/plain": [
       "dict_keys(['non_null', 'largest', 'null', 'top', 'smallest'])"
      ]
     },
     "execution_count": 53,
     "metadata": {},
     "output_type": "execute_result"
    }
   ],
   "source": [
    "data['meta']['view']['columns'][9]['cachedContents'].keys()"
   ]
  },
  {
   "cell_type": "code",
   "execution_count": 54,
   "metadata": {},
   "outputs": [
    {
     "data": {
      "text/plain": [
       "[{'item': 'FINANCIAL ASSISTANCE FOR AGRICULTURE', 'count': 20},\n",
       " {'item': 'PLANT PEST AND DISEASE CONTROL', 'count': 19},\n",
       " {'item': 'ANIMAL QUARANTINE', 'count': 18},\n",
       " {'item': 'ANIMAL DISEASE CONTROL', 'count': 17},\n",
       " {'item': 'AGRICULTURAL RESOURCE MANAGEMENT', 'count': 16},\n",
       " {'item': 'MKG INFO & DISTRIB SYSTEMS IMPROVEMT FOR AGR', 'count': 15},\n",
       " {'item': 'AQUACULTURE DEVELOPMENT', 'count': 14},\n",
       " {'item': 'AGRIBUSINESS DEVELOPMENT & RESEARCH', 'count': 13},\n",
       " {'item': 'AGRICULTURAL DEVELOPMENT & MARKETING', 'count': 12},\n",
       " {'item': 'GENERAL ADMINISTRATION FOR AGR', 'count': 11},\n",
       " {'item': 'MEASUREMENT STANDARDS', 'count': 10},\n",
       " {'item': 'PESTICIDES', 'count': 9}]"
      ]
     },
     "execution_count": 54,
     "metadata": {},
     "output_type": "execute_result"
    }
   ],
   "source": [
    "data['meta']['view']['columns'][9]['cachedContents']['top']"
   ]
  },
  {
   "cell_type": "code",
   "execution_count": 55,
   "metadata": {},
   "outputs": [
    {
     "data": {
      "text/plain": [
       "{'item': 'FINANCIAL ASSISTANCE FOR AGRICULTURE', 'count': 20}"
      ]
     },
     "execution_count": 55,
     "metadata": {},
     "output_type": "execute_result"
    }
   ],
   "source": [
    "data['meta']['view']['columns'][9]['cachedContents']['top'][0]"
   ]
  },
  {
   "cell_type": "code",
   "execution_count": 56,
   "metadata": {},
   "outputs": [
    {
     "data": {
      "text/plain": [
       "'FINANCIAL ASSISTANCE FOR AGRICULTURE'"
      ]
     },
     "execution_count": 56,
     "metadata": {},
     "output_type": "execute_result"
    }
   ],
   "source": [
    "data['meta']['view']['columns'][9]['cachedContents']['top'][0]['item']"
   ]
  },
  {
   "cell_type": "markdown",
   "metadata": {},
   "source": [
    "### Dictionary comprehension"
   ]
  },
  {
   "cell_type": "code",
   "execution_count": 43,
   "metadata": {},
   "outputs": [],
   "source": [
    "name = ['Shayo', 'Omolewa', 'Dimeji', 'Ihuoma']\n",
    "numbers = [10, 20, 33, 50]"
   ]
  },
  {
   "cell_type": "code",
   "execution_count": 44,
   "metadata": {},
   "outputs": [],
   "source": [
    "name_numbers = {}\n",
    "for ind in range(len(name)):\n",
    "    name_numbers[name[ind]] = numbers[ind]    "
   ]
  },
  {
   "cell_type": "code",
   "execution_count": 45,
   "metadata": {},
   "outputs": [
    {
     "data": {
      "text/plain": [
       "{'Shayo': 10, 'Omolewa': 20, 'Dimeji': 33, 'Ihuoma': 50}"
      ]
     },
     "execution_count": 45,
     "metadata": {},
     "output_type": "execute_result"
    }
   ],
   "source": [
    "name_numbers"
   ]
  },
  {
   "cell_type": "code",
   "execution_count": 46,
   "metadata": {},
   "outputs": [
    {
     "data": {
      "text/plain": [
       "{'Shayo': 10, 'Omolewa': 20, 'Dimeji': 33, 'Ihuoma': 50}"
      ]
     },
     "execution_count": 46,
     "metadata": {},
     "output_type": "execute_result"
    }
   ],
   "source": [
    "{name[index]: numbers[index] for index in range(len(name))} # Dictionary Coprehension"
   ]
  },
  {
   "cell_type": "code",
   "execution_count": 47,
   "metadata": {},
   "outputs": [
    {
     "data": {
      "text/plain": [
       "{'Omolewa': 20, 'Dimeji': 33, 'Ihuoma': 50}"
      ]
     },
     "execution_count": 47,
     "metadata": {},
     "output_type": "execute_result"
    }
   ],
   "source": [
    "{name[index]: numbers[index] for index in range(len(name)) if name[index] != 'Shayo'}"
   ]
  },
  {
   "cell_type": "code",
   "execution_count": 48,
   "metadata": {},
   "outputs": [
    {
     "data": {
      "text/plain": [
       "{'Shayo': 10, 'Omolewa': 20, 'Ihuoma': 50}"
      ]
     },
     "execution_count": 48,
     "metadata": {},
     "output_type": "execute_result"
    }
   ],
   "source": [
    "{name[index]: numbers[index] for index in range(len(name)) if numbers[index] % 2 == 0}"
   ]
  },
  {
   "cell_type": "code",
   "execution_count": 50,
   "metadata": {},
   "outputs": [
    {
     "data": {
      "text/plain": [
       "False"
      ]
     },
     "execution_count": 50,
     "metadata": {},
     "output_type": "execute_result"
    }
   ],
   "source": [
    "34 % 2 != 0"
   ]
  },
  {
   "cell_type": "code",
   "execution_count": 51,
   "metadata": {},
   "outputs": [
    {
     "data": {
      "text/plain": [
       "3"
      ]
     },
     "execution_count": 51,
     "metadata": {},
     "output_type": "execute_result"
    }
   ],
   "source": [
    "True + True + True"
   ]
  },
  {
   "cell_type": "code",
   "execution_count": 52,
   "metadata": {},
   "outputs": [
    {
     "data": {
      "text/plain": [
       "'OmolewaOmolewaOmolewa'"
      ]
     },
     "execution_count": 52,
     "metadata": {},
     "output_type": "execute_result"
    }
   ],
   "source": [
    "'Omolewa' * 3"
   ]
  },
  {
   "cell_type": "code",
   "execution_count": 54,
   "metadata": {},
   "outputs": [
    {
     "data": {
      "text/plain": [
       "'Omolewa Adaramola'"
      ]
     },
     "execution_count": 54,
     "metadata": {},
     "output_type": "execute_result"
    }
   ],
   "source": [
    "'Omolewa' + ' ' + 'Adaramola' # Concatenation"
   ]
  },
  {
   "cell_type": "code",
   "execution_count": null,
   "metadata": {},
   "outputs": [],
   "source": []
  },
  {
   "cell_type": "code",
   "execution_count": null,
   "metadata": {},
   "outputs": [],
   "source": []
  },
  {
   "cell_type": "code",
   "execution_count": null,
   "metadata": {},
   "outputs": [],
   "source": []
  },
  {
   "cell_type": "code",
   "execution_count": null,
   "metadata": {},
   "outputs": [],
   "source": [
    "name_numbers.update[]"
   ]
  },
  {
   "cell_type": "code",
   "execution_count": 24,
   "metadata": {},
   "outputs": [],
   "source": [
    "games = {}"
   ]
  },
  {
   "cell_type": "code",
   "execution_count": 25,
   "metadata": {},
   "outputs": [],
   "source": [
    "games['football'] = 20"
   ]
  },
  {
   "cell_type": "code",
   "execution_count": 26,
   "metadata": {},
   "outputs": [
    {
     "data": {
      "text/plain": [
       "{'football': 20}"
      ]
     },
     "execution_count": 26,
     "metadata": {},
     "output_type": "execute_result"
    }
   ],
   "source": [
    "games"
   ]
  },
  {
   "cell_type": "code",
   "execution_count": 27,
   "metadata": {},
   "outputs": [],
   "source": [
    "games['football'] = 100"
   ]
  },
  {
   "cell_type": "code",
   "execution_count": 28,
   "metadata": {},
   "outputs": [
    {
     "data": {
      "text/plain": [
       "{'football': 100}"
      ]
     },
     "execution_count": 28,
     "metadata": {},
     "output_type": "execute_result"
    }
   ],
   "source": [
    "games"
   ]
  },
  {
   "cell_type": "code",
   "execution_count": 29,
   "metadata": {},
   "outputs": [],
   "source": [
    "games['Soccer'] = 200"
   ]
  },
  {
   "cell_type": "code",
   "execution_count": 30,
   "metadata": {},
   "outputs": [
    {
     "data": {
      "text/plain": [
       "{'football': 100, 'Soccer': 200}"
      ]
     },
     "execution_count": 30,
     "metadata": {},
     "output_type": "execute_result"
    }
   ],
   "source": [
    "games"
   ]
  },
  {
   "cell_type": "code",
   "execution_count": null,
   "metadata": {},
   "outputs": [],
   "source": []
  }
 ],
 "metadata": {
  "kernelspec": {
   "display_name": "Python 3",
   "language": "python",
   "name": "python3"
  },
  "language_info": {
   "codemirror_mode": {
    "name": "ipython",
    "version": 3
   },
   "file_extension": ".py",
   "mimetype": "text/x-python",
   "name": "python",
   "nbconvert_exporter": "python",
   "pygments_lexer": "ipython3",
   "version": "3.7.6"
  }
 },
 "nbformat": 4,
 "nbformat_minor": 4
}
