{
 "cells": [
  {
   "cell_type": "code",
   "execution_count": 4,
   "metadata": {},
   "outputs": [
    {
     "name": "stdout",
     "output_type": "stream",
     "text": [
      "I am going to school tomorrow\n",
      "      and I will branch at Shola's House\n",
      "      Ask Question\n",
      "Asked 2 years, 1 month ago\n",
      "Active 2 years, 1 month ago\n",
      "Viewed 3k times\n",
      "\n",
      "1\n",
      "\n",
      "\n",
      "1\n",
      "I have the following data frame:\n",
      "\n",
      "Date     Value1   Value2\n",
      "01-01-01     01       01\n",
      "02-01-01     02       00\n",
      "03-01-01     03       01\n",
      "04-01-01     04      101\n",
      "On this data frame I would like to select just the rows having Value2==0 and Value2>=100\n",
      "\n",
      "For that, I use the following command:\n",
      "\n",
      "data.loc[(data['Value2'] == 0) & (data['Value2'] >= 100)]\n",
      "Which return me an empty DataFrame. I don't really understand why because when I used separately:\n",
      "\n",
      "data.loc[(data['Value2'] == 0)]\n",
      "or:\n",
      "\n",
      "data.loc[(data['Value2'] >= 100)\n",
      "It returns the corrected values. Does anyone knows how to implement this 2 conditions selection?\n",
      "\n",
      "python pandas loc\n",
      "share  improve this question  follow \n"
     ]
    }
   ],
   "source": [
    "with open('davidgoestoschool.txt') as file_object:\n",
    "    contents = file_object.read()\n",
    "print(contents)"
   ]
  },
  {
   "cell_type": "code",
   "execution_count": 5,
   "metadata": {},
   "outputs": [],
   "source": [
    "name = '  Shola'"
   ]
  },
  {
   "cell_type": "code",
   "execution_count": 6,
   "metadata": {},
   "outputs": [
    {
     "name": "stdout",
     "output_type": "stream",
     "text": [
      "  Shola\n"
     ]
    }
   ],
   "source": [
    "print(name.lstriprstrip())"
   ]
  },
  {
   "cell_type": "code",
   "execution_count": 7,
   "metadata": {},
   "outputs": [
    {
     "data": {
      "text/plain": [
       "'  Shola'"
      ]
     },
     "execution_count": 7,
     "metadata": {},
     "output_type": "execute_result"
    }
   ],
   "source": [
    "name"
   ]
  },
  {
   "cell_type": "code",
   "execution_count": 9,
   "metadata": {},
   "outputs": [
    {
     "name": "stdout",
     "output_type": "stream",
     "text": [
      "I am going to school tomorrow\n",
      "       and I will branch at Shola's House\n",
      "       Ask Question\n",
      " Asked 2 years, 1 month ago\n",
      " Active 2 years, 1 month ago\n",
      " Viewed 3k times\n",
      " \n",
      " 1\n",
      " \n",
      " \n",
      " 1\n",
      " I have the following data frame:\n",
      " \n",
      " Date     Value1   Value2\n",
      " 01-01-01     01       01\n",
      " 02-01-01     02       00\n",
      " 03-01-01     03       01\n",
      " 04-01-01     04      101\n",
      " On this data frame I would like to select just the rows having Value2==0 and Value2>=100\n",
      " \n",
      " For that, I use the following command:\n",
      " \n",
      " data.loc[(data['Value2'] == 0) & (data['Value2'] >= 100)]\n",
      " Which return me an empty DataFrame. I don't really understand why because when I used separately:\n",
      " \n",
      " data.loc[(data['Value2'] == 0)]\n",
      " or:\n",
      " \n",
      " data.loc[(data['Value2'] >= 100)\n",
      " It returns the corrected values. Does anyone knows how to implement this 2 conditions selection?\n",
      " \n",
      " python pandas loc\n",
      " share  improve this question  follow  "
     ]
    }
   ],
   "source": [
    "filename = 'davidgoestoschool.txt'\n",
    "\n",
    "with open(filename) as file_object:\n",
    "    for line in file_object:\n",
    "        print(line, end = ' ')"
   ]
  },
  {
   "cell_type": "code",
   "execution_count": 10,
   "metadata": {},
   "outputs": [],
   "source": [
    "text = 'My name is Bukola Omolewa and I love Cats and Dogs and I am in the same class with Shola and Akeem'\n",
    "filename = 'AkeemShola.txt'\n",
    "\n",
    "with open(filename, 'w') as file_object:\n",
    "    file_object.write(text)"
   ]
  },
  {
   "cell_type": "code",
   "execution_count": 11,
   "metadata": {},
   "outputs": [],
   "source": [
    "text2 = '\\nAlso am a Machine Learning Engineer and currently working with Bank of America'\n",
    "\n",
    "with open(filename, 'a') as file_object:\n",
    "    file_object.write(text2)"
   ]
  },
  {
   "cell_type": "code",
   "execution_count": 13,
   "metadata": {},
   "outputs": [],
   "source": [
    "text2 = 'Also am a Machine Learning Engineer and currently working with Bank of America'\n",
    "\n",
    "with open(filename, 'w') as file_object:\n",
    "    file_object.write(text2)"
   ]
  },
  {
   "cell_type": "code",
   "execution_count": 15,
   "metadata": {},
   "outputs": [
    {
     "name": "stdout",
     "output_type": "stream",
     "text": [
      "Also am a Machine Learning Engineer and currently working with Bank of America\n"
     ]
    }
   ],
   "source": [
    "with open('AkeemShola.txt') as file_object:\n",
    "    contents = file_object.read()\n",
    "print(contents)"
   ]
  },
  {
   "cell_type": "code",
   "execution_count": 16,
   "metadata": {},
   "outputs": [
    {
     "data": {
      "text/plain": [
       "'Also am a Machine Learning Engineer and currently working with Bank of America'"
      ]
     },
     "execution_count": 16,
     "metadata": {},
     "output_type": "execute_result"
    }
   ],
   "source": [
    "contents"
   ]
  },
  {
   "cell_type": "code",
   "execution_count": 17,
   "metadata": {},
   "outputs": [
    {
     "data": {
      "text/plain": [
       "['Also',\n",
       " 'am',\n",
       " 'a',\n",
       " 'Machine',\n",
       " 'Learning',\n",
       " 'Engineer',\n",
       " 'and',\n",
       " 'currently',\n",
       " 'working',\n",
       " 'with',\n",
       " 'Bank',\n",
       " 'of',\n",
       " 'America']"
      ]
     },
     "execution_count": 17,
     "metadata": {},
     "output_type": "execute_result"
    }
   ],
   "source": [
    "contents.split()"
   ]
  },
  {
   "cell_type": "code",
   "execution_count": 21,
   "metadata": {},
   "outputs": [],
   "source": [
    "def div(divisor, dividend):\n",
    "    if dividend == 0:\n",
    "        return 'Not Divisible'\n",
    "    else:\n",
    "        return divisor / dividend"
   ]
  },
  {
   "cell_type": "code",
   "execution_count": 22,
   "metadata": {},
   "outputs": [
    {
     "data": {
      "text/plain": [
       "2.0"
      ]
     },
     "execution_count": 22,
     "metadata": {},
     "output_type": "execute_result"
    }
   ],
   "source": [
    "div(4, 2)"
   ]
  },
  {
   "cell_type": "code",
   "execution_count": 23,
   "metadata": {},
   "outputs": [
    {
     "data": {
      "text/plain": [
       "'Not Divisible'"
      ]
     },
     "execution_count": 23,
     "metadata": {},
     "output_type": "execute_result"
    }
   ],
   "source": [
    "div(4, 0)"
   ]
  },
  {
   "cell_type": "code",
   "execution_count": 24,
   "metadata": {},
   "outputs": [],
   "source": [
    "def div(divisor, dividend):\n",
    "    return divisor / dividend"
   ]
  },
  {
   "cell_type": "code",
   "execution_count": 25,
   "metadata": {},
   "outputs": [
    {
     "ename": "ZeroDivisionError",
     "evalue": "division by zero",
     "output_type": "error",
     "traceback": [
      "\u001b[1;31m---------------------------------------------------------------------------\u001b[0m",
      "\u001b[1;31mZeroDivisionError\u001b[0m                         Traceback (most recent call last)",
      "\u001b[1;32m<ipython-input-25-06960aa2c672>\u001b[0m in \u001b[0;36m<module>\u001b[1;34m\u001b[0m\n\u001b[1;32m----> 1\u001b[1;33m \u001b[0mdiv\u001b[0m\u001b[1;33m(\u001b[0m\u001b[1;36m3\u001b[0m\u001b[1;33m,\u001b[0m \u001b[1;36m0\u001b[0m\u001b[1;33m)\u001b[0m\u001b[1;33m\u001b[0m\u001b[1;33m\u001b[0m\u001b[0m\n\u001b[0m",
      "\u001b[1;32m<ipython-input-24-8be1ad17c411>\u001b[0m in \u001b[0;36mdiv\u001b[1;34m(divisor, dividend)\u001b[0m\n\u001b[0;32m      1\u001b[0m \u001b[1;32mdef\u001b[0m \u001b[0mdiv\u001b[0m\u001b[1;33m(\u001b[0m\u001b[0mdivisor\u001b[0m\u001b[1;33m,\u001b[0m \u001b[0mdividend\u001b[0m\u001b[1;33m)\u001b[0m\u001b[1;33m:\u001b[0m\u001b[1;33m\u001b[0m\u001b[1;33m\u001b[0m\u001b[0m\n\u001b[1;32m----> 2\u001b[1;33m     \u001b[1;32mreturn\u001b[0m \u001b[0mdivisor\u001b[0m \u001b[1;33m/\u001b[0m \u001b[0mdividend\u001b[0m\u001b[1;33m\u001b[0m\u001b[1;33m\u001b[0m\u001b[0m\n\u001b[0m",
      "\u001b[1;31mZeroDivisionError\u001b[0m: division by zero"
     ]
    }
   ],
   "source": [
    "div(3, 0)"
   ]
  },
  {
   "cell_type": "code",
   "execution_count": 30,
   "metadata": {},
   "outputs": [],
   "source": [
    "def div(divisor, dividend):\n",
    "    try:\n",
    "        return divisor / dividend\n",
    "    except ZeroDivisionError:\n",
    "        return 'Not Divisible'"
   ]
  },
  {
   "cell_type": "code",
   "execution_count": 31,
   "metadata": {},
   "outputs": [
    {
     "data": {
      "text/plain": [
       "'Not Divisible'"
      ]
     },
     "execution_count": 31,
     "metadata": {},
     "output_type": "execute_result"
    }
   ],
   "source": [
    "div(3, 0)"
   ]
  },
  {
   "cell_type": "code",
   "execution_count": null,
   "metadata": {},
   "outputs": [],
   "source": []
  }
 ],
 "metadata": {
  "kernelspec": {
   "display_name": "Python 3",
   "language": "python",
   "name": "python3"
  },
  "language_info": {
   "codemirror_mode": {
    "name": "ipython",
    "version": 3
   },
   "file_extension": ".py",
   "mimetype": "text/x-python",
   "name": "python",
   "nbconvert_exporter": "python",
   "pygments_lexer": "ipython3",
   "version": "3.7.6"
  }
 },
 "nbformat": 4,
 "nbformat_minor": 4
}
