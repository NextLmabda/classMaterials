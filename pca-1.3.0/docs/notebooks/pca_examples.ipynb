{
  "nbformat": 4,
  "nbformat_minor": 0,
  "metadata": {
    "colab": {
      "name": "pca_examples.ipynb",
      "provenance": [],
      "collapsed_sections": []
    },
    "kernelspec": {
      "name": "python3",
      "display_name": "Python 3"
    }
  },
  "cells": [
    {
      "cell_type": "markdown",
      "metadata": {
        "id": "I4ZKIel8sR_t",
        "colab_type": "text"
      },
      "source": [
        "**pca** is a python package to perform Principal Component Analysis and to create insightful plots. The core of PCA is build on sklearn functionality to find maximum compatibility when combining with other packages.\n",
        "\n",
        "But this package can do a lot more. Besides the regular pca, it can also perform **SparsePCA**, and **TruncatedSVD**. Depending on your input data, the best approach will be choosen.\n",
        "\n",
        "Other functionalities are:\n",
        "  * **Biplot** to plot the loadings\n",
        "  * Determine the **explained variance**\n",
        "  * Extract the best performing **features**\n",
        "  * Scatter plot with the **loadings**\n",
        "  * Outlier detection using **Hotelling T2 and/or SPE/Dmodx**\n",
        "\n",
        "This notebook will show some examples.\n",
        "\n",
        "More information can be found here:\n",
        "\n",
        "* [github pca](https://github.com/erdogant/pca)\n",
        "\n"
      ]
    },
    {
      "cell_type": "code",
      "metadata": {
        "id": "8tMFZEZXsSrs",
        "colab_type": "code",
        "colab": {}
      },
      "source": [
        "!pip install pca"
      ],
      "execution_count": null,
      "outputs": []
    },
    {
      "cell_type": "markdown",
      "metadata": {
        "id": "ABKzMyoMia9i",
        "colab_type": "text"
      },
      "source": [
        "Lets check the version"
      ]
    },
    {
      "cell_type": "code",
      "metadata": {
        "id": "B7_gxhf8t0JX",
        "colab_type": "code",
        "colab": {}
      },
      "source": [
        "import pca\n",
        "print(pca.__version__)"
      ],
      "execution_count": null,
      "outputs": []
    },
    {
      "cell_type": "markdown",
      "metadata": {
        "id": "VmRLPpcat3V1",
        "colab_type": "text"
      },
      "source": [
        "Import the pca library"
      ]
    },
    {
      "cell_type": "code",
      "metadata": {
        "id": "3IOnt3cvUiyk",
        "colab_type": "code",
        "colab": {}
      },
      "source": [
        "from pca import pca\n",
        "import numpy as np\n",
        "import pandas as pd"
      ],
      "execution_count": null,
      "outputs": []
    },
    {
      "cell_type": "markdown",
      "metadata": {
        "id": "CXqS2mJmitMq",
        "colab_type": "text"
      },
      "source": [
        "Here we will create a random dataset."
      ]
    },
    {
      "cell_type": "code",
      "metadata": {
        "id": "06YMCo-5VQUn",
        "colab_type": "code",
        "colab": {}
      },
      "source": [
        "# Dataset\n",
        "from sklearn.datasets import load_iris\n",
        "X = pd.DataFrame(data=load_iris().data, columns=load_iris().feature_names, index=load_iris().target)"
      ],
      "execution_count": null,
      "outputs": []
    },
    {
      "cell_type": "markdown",
      "metadata": {
        "id": "ov_qrD4EqHnZ",
        "colab_type": "text"
      },
      "source": [
        "Initialize using specified parameters. The parameters here are the default parameters."
      ]
    },
    {
      "cell_type": "code",
      "metadata": {
        "id": "aGdGm13-qBc6",
        "colab_type": "code",
        "colab": {}
      },
      "source": [
        "# Initialize\n",
        "model = pca(n_components=3, normalize=True)"
      ],
      "execution_count": null,
      "outputs": []
    },
    {
      "cell_type": "code",
      "metadata": {
        "id": "onShR48_oxpu",
        "colab_type": "code",
        "colab": {}
      },
      "source": [
        "# Fit transform\n",
        "out = model.fit_transform(X)"
      ],
      "execution_count": null,
      "outputs": []
    },
    {
      "cell_type": "code",
      "metadata": {
        "id": "RqcjkClVqYk-",
        "colab_type": "code",
        "colab": {}
      },
      "source": [
        "# Make plot with only the directions (no scatter)\n",
        "fig, ax = model.biplot(label=True, legend=False)"
      ],
      "execution_count": null,
      "outputs": []
    },
    {
      "cell_type": "code",
      "metadata": {
        "id": "3EY6pCNhqTmM",
        "colab_type": "code",
        "colab": {}
      },
      "source": [
        "# Make plot with only the directions (no scatter)\n",
        "fig, ax = model.biplot(cmap=None, label=False, legend=False)"
      ],
      "execution_count": null,
      "outputs": []
    },
    {
      "cell_type": "markdown",
      "metadata": {
        "id": "FgKkh_RIqoLS",
        "colab_type": "text"
      },
      "source": [
        ""
      ]
    },
    {
      "cell_type": "code",
      "metadata": {
        "id": "k35xuMjG1F_t",
        "colab_type": "code",
        "colab": {}
      },
      "source": [
        "from pca import pca\n",
        "# Load example data\n",
        "from sklearn.datasets import load_iris\n",
        "X = pd.DataFrame(data=load_iris().data, columns=load_iris().feature_names, index=load_iris().target)"
      ],
      "execution_count": null,
      "outputs": []
    },
    {
      "cell_type": "code",
      "metadata": {
        "id": "VVOygC691Lj8",
        "colab_type": "code",
        "colab": {}
      },
      "source": [
        "# Initialize\n",
        "model = pca(n_components=3)\n",
        "# Fit using PCA\n",
        "results = model.fit_transform(X)"
      ],
      "execution_count": null,
      "outputs": []
    },
    {
      "cell_type": "code",
      "metadata": {
        "id": "CoKvvGuA1M2B",
        "colab_type": "code",
        "colab": {}
      },
      "source": [
        "# Make plots\n",
        "fig, ax = model.scatter()\n",
        "fig, ax = model.plot()\n",
        "fig, ax = model.biplot()\n",
        "fig, ax = model.biplot(SPE=True, hotellingt2=True)\n"
      ],
      "execution_count": null,
      "outputs": []
    },
    {
      "cell_type": "code",
      "metadata": {
        "id": "-Fx6-Mur1N5z",
        "colab_type": "code",
        "colab": {}
      },
      "source": [
        "# 3D plots\n",
        "fig, ax = model.scatter3d()\n",
        "fig, ax = model.biplot3d()\n",
        "fig, ax = model.biplot3d(SPE=True, hotellingt2=True)"
      ],
      "execution_count": null,
      "outputs": []
    },
    {
      "cell_type": "code",
      "metadata": {
        "id": "KctWuKka1O26",
        "colab_type": "code",
        "colab": {}
      },
      "source": [
        "# Normalize out PCs\n",
        "X_norm = model.norm(X)"
      ],
      "execution_count": null,
      "outputs": []
    },
    {
      "cell_type": "code",
      "metadata": {
        "id": "4FZyUxsF1PQ0",
        "colab_type": "code",
        "colab": {}
      },
      "source": [
        "print(X_norm)"
      ],
      "execution_count": null,
      "outputs": []
    }
  ]
}