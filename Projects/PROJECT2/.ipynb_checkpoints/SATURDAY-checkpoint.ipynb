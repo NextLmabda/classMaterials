{
 "cells": [
  {
   "cell_type": "markdown",
   "metadata": {},
   "source": [
    "##### Bank Customers Survey - Marketing for Term Deposit\n",
    "Classifying whether or not a customer opted for term deposit"
   ]
  },
  {
   "cell_type": "markdown",
   "metadata": {},
   "source": [
    "##### Customer_Segmentation"
   ]
  },
  {
   "cell_type": "markdown",
   "metadata": {},
   "source": [
    "##### Parkinson's Disease (PD) classification\n",
    "Features are extracted from speech recordings of Parkinson's Disease patients\n",
    "\n",
    "\n",
    "\n",
    "Context\n",
    "\n",
    "This dataset is collected from UCI Machine Learning Repository through the following link: https://archive.ics.uci.edu/ml/datasets/Parkinson%27s+Disease+Classification#\n",
    "\n",
    "Data Set Information:\n",
    "\n",
    "The data used in this study were gathered from 188 patients with PD (107 men and 81 women) with ages ranging from 33 to 87 (65.1Â±10.9) at the Department of Neurology in CerrahpaÅŸa Faculty of Medicine, Istanbul University. The control group consists of 64 healthy individuals (23 men and 41 women) with ages varying between 41 and 82 (61.1Â±8.9). During the data collection process, the microphone is set to 44.1 KHz and following the physicianâ€™s examination, the sustained phonation of the vowel /a/ was collected from each subject with three repetitions.\n",
    "\n",
    "Attribute Information:\n",
    "\n",
    "Various speech signal processing algorithms including Time Frequency Features, Mel Frequency Cepstral Coefficients (MFCCs), Wavelet Transform based Features, Vocal Fold Features and TWQT features have been applied to the speech recordings of Parkinson's Disease (PD) patients to extract clinically useful information for PD assessment.\n",
    "\n",
    "Citation Request:\n",
    "\n",
    "If you use this dataset, please cite: Sakar, C.O., Serbes, G., Gunduz, A., Tunc, H.C., Nizam, H., Sakar, B.E., Tutuncu, M., Aydin, T., Isenkul, M.E. and Apaydin, H., 2018. A comparative analysis of speech signal processing algorithms for Parkinsonâ€™s disease classification and the use of the tunable Q-factor wavelet transform. Applied Soft Computing, DOI: [Web Link] https://doi.org/10.1016/j.asoc.2018.10.022"
   ]
  },
  {
   "cell_type": "markdown",
   "metadata": {},
   "source": [
    "#### Fertility Data Set\n",
    "Predict if Normal or altered\n",
    "\n",
    "Abstract: 100 volunteers provide a semen sample analyzed according to the WHO 2010 criteria. Sperm concentration are related to socio-demographic data, environmental factors, health status, and life habits\n",
    "\n",
    "Data Set Characteristics:\n",
    "\n",
    "Multivariate\n",
    "\n",
    "Number of Instances:\n",
    "\n",
    "100\n",
    "\n",
    "Area:\n",
    "\n",
    "Life\n",
    "\n",
    "Attribute Characteristics:\n",
    "\n",
    "Real\n",
    "\n",
    "Number of Attributes:\n",
    "\n",
    "10\n",
    "\n",
    "Date Donated\n",
    "\n",
    "2013-01-17\n",
    "\n",
    "Associated Tasks:\n",
    "\n",
    "Classification, Regression\n",
    "\n",
    "Missing Values?\n",
    "\n",
    "N/A\n",
    "\n",
    "Number of Web Hits:\n",
    "\n",
    "128756\n",
    "\n",
    "Source:\n",
    "David Gil,\n",
    "dgil '@' dtic.ua.es,\n",
    "Lucentia Research Group, Department of Computer Technology, University of Alicante\n",
    "\n",
    "Jose Luis Girela,\n",
    "girela '@' ua.es,\n",
    "Department of Biotechnology, University of Alicante\n",
    "\n",
    "*Attribute Information:*\n",
    "Season in which the analysis was performed. 1) winter, 2) spring, 3) Summer, 4) fall. (-1, -0.33, 0.33, 1)\n",
    "\n",
    "Age at the time of analysis. 18-36 (0, 1)\n",
    "\n",
    "Childish diseases (ie , chicken pox, measles, mumps, polio) 1) yes, 2) no. (0, 1)\n",
    "\n",
    "Accident or serious trauma 1) yes, 2) no. (0, 1)\n",
    "\n",
    "Surgical intervention 1) yes, 2) no. (0, 1)\n",
    "\n",
    "High fevers in the last year 1) less than three months ago, 2) more than three months ago, 3) no. (-1, 0, 1)\n",
    "\n",
    "Frequency of alcohol consumption 1) several times a day, 2) every day, 3) several times a week, 4) once a week, 5) hardly ever or never (0, 1)\n",
    "\n",
    "Smoking habit 1) never, 2) occasional 3) daily. (-1, 0, 1)\n",
    "\n",
    "Number of hours spent sitting per day ene-16 (0, 1)\n",
    "\n",
    "Output: Diagnosis normal (N), altered (O)"
   ]
  },
  {
   "cell_type": "code",
   "execution_count": null,
   "metadata": {},
   "outputs": [],
   "source": []
  }
 ],
 "metadata": {
  "kernelspec": {
   "display_name": "Python 3",
   "language": "python",
   "name": "python3"
  },
  "language_info": {
   "codemirror_mode": {
    "name": "ipython",
    "version": 3
   },
   "file_extension": ".py",
   "mimetype": "text/x-python",
   "name": "python",
   "nbconvert_exporter": "python",
   "pygments_lexer": "ipython3",
   "version": "3.7.6"
  }
 },
 "nbformat": 4,
 "nbformat_minor": 2
}
