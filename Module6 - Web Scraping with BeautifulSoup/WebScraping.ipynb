{
 "cells": [
  {
   "cell_type": "code",
   "execution_count": 2,
   "metadata": {},
   "outputs": [],
   "source": [
    "import requests"
   ]
  },
  {
   "cell_type": "code",
   "execution_count": 12,
   "metadata": {},
   "outputs": [],
   "source": [
    "import requests_cache"
   ]
  },
  {
   "cell_type": "code",
   "execution_count": 13,
   "metadata": {},
   "outputs": [],
   "source": [
    "requests_cache.install_cache('demo_cache')"
   ]
  },
  {
   "cell_type": "code",
   "execution_count": 14,
   "metadata": {},
   "outputs": [
    {
     "name": "stdout",
     "output_type": "stream",
     "text": [
      "Wall time: 689 ms\n"
     ]
    }
   ],
   "source": [
    "%%time\n",
    "\n",
    "for i in range(21):\n",
    "    requests.get('http://www.google.com')"
   ]
  },
  {
   "cell_type": "code",
   "execution_count": 15,
   "metadata": {},
   "outputs": [
    {
     "name": "stdout",
     "output_type": "stream",
     "text": [
      "Wall time: 124 ms\n"
     ]
    },
    {
     "data": {
      "text/plain": [
       "<Response [200]>"
      ]
     },
     "execution_count": 15,
     "metadata": {},
     "output_type": "execute_result"
    }
   ],
   "source": [
    "%%time\n",
    "\n",
    "requests.get('http://www.google.com')\n",
    "requests.get('http://www.google.com')\n",
    "requests.get('http://www.google.com')\n",
    "requests.get('http://www.google.com')\n",
    "requests.get('http://www.google.com')\n",
    "requests.get('http://www.google.com')\n",
    "requests.get('http://www.google.com')\n",
    "requests.get('http://www.google.com')\n",
    "requests.get('http://www.google.com')\n",
    "requests.get('http://www.google.com')\n",
    "requests.get('http://www.google.com')\n",
    "requests.get('http://www.google.com')\n",
    "requests.get('http://www.google.com')\n",
    "requests.get('http://www.google.com')\n",
    "requests.get('http://www.google.com')\n",
    "requests.get('http://www.google.com')\n",
    "requests.get('http://www.google.com')\n",
    "requests.get('http://www.google.com')\n",
    "requests.get('http://www.google.com')\n",
    "requests.get('http://www.google.com')\n",
    "requests.get('http://www.google.com')"
   ]
  },
  {
   "cell_type": "code",
   "execution_count": null,
   "metadata": {},
   "outputs": [],
   "source": [
    "!pip install beautifulsoup4"
   ]
  },
  {
   "cell_type": "code",
   "execution_count": 16,
   "metadata": {},
   "outputs": [],
   "source": [
    "from bs4 import BeautifulSoup"
   ]
  },
  {
   "cell_type": "code",
   "execution_count": 17,
   "metadata": {},
   "outputs": [],
   "source": [
    "page = requests.get('https://web.archive.org/web/20121007172955/https://www.nga.gov/collection/anZ1.htm')"
   ]
  },
  {
   "cell_type": "code",
   "execution_count": 27,
   "metadata": {},
   "outputs": [
    {
     "data": {
      "text/plain": [
       "'<!DOCTYPE html PUBLIC \"-//W3C//DTD XHTML 1.0 Transitional//EN\" \"http://www.w3.org/TR/xhtml1/DTD/xhtml1-transitional.dtd\">\\n\\n<html xmlns=\"http://www.w3.org/1999/xhtml\"><!-- InstanceBegin template=\"/Templates/template-collection.dwt\" codeOutsideHTMLIsLocked=\"false\" -->\\n\\n<head><script src=\"//archive.org/includes/analytics.js?v=cf34f82\" type=\"text/javascript\"></script>\\n<script type=\"text/javascript\">window.addEventListener(\\'DOMContentLoaded\\',function(){var v=archive_analytics.values;v.service=\\'wb\\';v.server_name=\\'wwwb-app13.us.archive.org\\';v.server_ms=584;archive_analytics.send_pageview({});});</script><script type=\"text/javascript\" src=\"/_static/js/playback.bundle.js?v=BsQ6byDz\" charset=\"utf-8\"></script>\\n<script type=\"text/javascript\" src=\"/_static/js/wombat.js?v=cRqOKCOw\" charset=\"utf-8\"></script>\\n<script type=\"text/javascript\">\\n  __wm.init(\"https://web.archive.org/web\");\\n  __wm.wombat(\"http://www.nga.gov/collection/anZ1.htm\",\"20121007172955\",\"https://web.archive.org/\",\"web\",\"/_static/\",\\n\\t      \"1349630995\");\\n</script>\\n<link rel=\"stylesheet\" type=\"text/css\" href=\"/_static/css/banner-styles.css?v=NHuXCfBH\" />\\n<link rel=\"stylesheet\" type=\"text/css\" href=\"/_static/css/iconochive.css?v=qtvMKcIJ\" />\\n<!-- End Wayback Rewrite JS Include -->\\n\\n\\n<!-- InstanceBeginEditable name=\"doctitle\" -->\\n\\n<title>NGA - Artist List \\'Z\\' / Page 1 of 4</title>\\n<!-- InstanceEndEditable -->\\n\\n<!-- v 2.2 -->\\n\\n<!-- InstanceBeginEditable name=\"head\" --><!-- InstanceEndEditable -->\\n\\n<link href=\"/web/20121007172955cs_/https://www.nga.gov/Templates/nga.css\" rel=\"stylesheet\" type=\"text/css\"/>\\n\\n\\n\\n<!-- InstanceParam name=\"AuthorName\" type=\"text\" value=\"\" -->\\n\\n<!-- InstanceParam name=\"CreateDate\" type=\"text\" value=\"\" -->\\n\\n<!-- InstanceParam name=\"ModifiedDate\" type=\"text\" value=\"\" -->\\n\\n<!-- InstanceParam name=\"History\" type=\"text\" value=\"\" -->\\n\\n\\n\\n<!-- Author Name=\"\" -->\\n\\n<!-- Date Created=\"\" -->\\n\\n<!-- Date Modified=\"\" -->\\n\\n<!-- File History=\"\" -->\\n\\n\\n\\n</head>\\n\\n<body><!-- BEGIN WAYBACK TOOLBAR INSERT -->\\n<style type=\"text/css\">\\nbody {\\n  margin-top:0 !important;\\n  padding-top:0 !important;\\n  /*min-width:800px !important;*/\\n}\\n</style>\\n<script>__wm.rw(0);</script>\\n<div id=\"wm-ipp-base\" lang=\"en\" style=\"display:none;direction:ltr;\">\\n<div id=\"wm-ipp\" style=\"position:fixed;left:0;top:0;right:0;\">\\n<div id=\"wm-ipp-inside\">\\n  <div style=\"position:relative;\">\\n    <div id=\"wm-logo\" style=\"float:left;width:110px;padding-top:12px;\">\\n      <a href=\"/web/\" title=\"Wayback Machine home page\"><img src=\"/_static/images/toolbar/wayback-toolbar-logo-200.png\" srcset=\"/_static/images/toolbar/wayback-toolbar-logo-100.png, /_static/images/toolbar/wayback-toolbar-logo-150.png 1.5x, /_static/images/toolbar/wayback-toolbar-logo-200.png 2x\" alt=\"Wayback Machine\" style=\"width:100px\" border=\"0\" /></a>\\n    </div>\\n    <div class=\"r\" style=\"float:right;\">\\n      <div id=\"wm-btns\" style=\"text-align:right;height:25px;\">\\n                  <div id=\"wm-save-snapshot-success\">success</div>\\n          <div id=\"wm-save-snapshot-fail\">fail</div>\\n          <a id=\"wm-save-snapshot-open\" href=\"#\"\\n\\t     title=\"Share via My Web Archive\" >\\n            <span class=\"iconochive-web\"></span>\\n          </a>\\n          <a href=\"https://archive.org/account/login.php\"\\n             title=\"Sign In\"\\n             id=\"wm-sign-in\"\\n          >\\n            <span class=\"iconochive-person\"></span>\\n          </a>\\n          <span id=\"wm-save-snapshot-in-progress\" class=\"iconochive-web\"></span>\\n        \\t<a href=\"http://faq.web.archive.org/\" title=\"Get some help using the Wayback Machine\" style=\"top:-6px;\"><span class=\"iconochive-question\" style=\"color:rgb(87,186,244);font-size:160%;\"></span></a>\\n\\t<a id=\"wm-tb-close\" href=\"#close\" onclick=\"__wm.h(event);return false;\" style=\"top:-2px;\" title=\"Close the toolbar\"><span class=\"iconochive-remove-circle\" style=\"color:#888888;font-size:240%;\"></span></a>\\n      </div>\\n      <div id=\"wm-share\">\\n          <a href=\"/web/20121007172955/http://web.archive.org/screenshot/https://www.nga.gov/collection/anZ1.htm\"\\n             id=\"wm-screenshot\"\\n             title=\"screenshot\">\\n            <span class=\"wm-icon-screen-shot\"></span>\\n          </a>\\n\\t<a id=\"wm-share-facebook\" href=\"#\" data-url=\"https://web.archive.org/web/20121007172955/http://www.nga.gov/collection/anZ1.htm\" title=\"Share on Facebook\" style=\"margin-right:5px;\" target=\"_blank\"><span class=\"iconochive-facebook\" style=\"color:#3b5998;font-size:160%;\"></span></a>\\n\\t<a id=\"wm-share-twitter\" href=\"#\" data-url=\"https://web.archive.org/web/20121007172955/http://www.nga.gov/collection/anZ1.htm\" title=\"Share on Twitter\" style=\"margin-right:5px;\" target=\"_blank\"><span class=\"iconochive-twitter\" style=\"color:#1dcaff;font-size:160%;\"></span></a>\\n      </div>\\n    </div>\\n    <table class=\"c\" style=\"\">\\n      <tbody>\\n\\t<tr>\\n\\t  <td class=\"u\" colspan=\"2\">\\n\\t    <form target=\"_top\" method=\"get\" action=\"/web/submit\" name=\"wmtb\" id=\"wmtb\"><input type=\"text\" name=\"url\" id=\"wmtbURL\" value=\"https://www.nga.gov/collection/anZ1.htm\" onfocus=\"this.focus();this.select();\" /><input type=\"hidden\" name=\"type\" value=\"replay\" /><input type=\"hidden\" name=\"date\" value=\"20121007172955\" /><input type=\"submit\" value=\"Go\" /></form>\\n\\t  </td>\\n\\t  <td class=\"n\" rowspan=\"2\" style=\"width:110px;\">\\n\\t    <table>\\n\\t      <tbody>\\n\\t\\t<!-- NEXT/PREV MONTH NAV AND MONTH INDICATOR -->\\n\\t\\t<tr class=\"m\">\\n\\t\\t  <td class=\"b\" nowrap=\"nowrap\"><a href=\"https://web.archive.org/web/20111024134458/http://www.nga.gov/collection/anZ1.htm\" title=\"24 Oct 2011\"><strong>Oct</strong></a></td>\\n\\t\\t  <td class=\"c\" id=\"displayMonthEl\" title=\"You are here: 17:29:55 Oct 07, 2012\">OCT</td>\\n\\t\\t  <td class=\"f\" nowrap=\"nowrap\"><a href=\"https://web.archive.org/web/20190824043821/https://www.nga.gov/collection/anZ1.htm\" title=\"24 Aug 2019\"><strong>Aug</strong></a></td>\\n\\t\\t</tr>\\n\\t\\t<!-- NEXT/PREV CAPTURE NAV AND DAY OF MONTH INDICATOR -->\\n\\t\\t<tr class=\"d\">\\n\\t\\t  <td class=\"b\" nowrap=\"nowrap\"><a href=\"https://web.archive.org/web/20121002115714/http://www.nga.gov/collection/anZ1.htm\" title=\"11:57:14 Oct 02, 2012\"><img src=\"/_static/images/toolbar/wm_tb_prv_on.png\" alt=\"Previous capture\" width=\"14\" height=\"16\" border=\"0\" /></a></td>\\n\\t\\t  <td class=\"c\" id=\"displayDayEl\" style=\"width:34px;font-size:24px;white-space:nowrap;\" title=\"You are here: 17:29:55 Oct 07, 2012\">07</td>\\n\\t\\t  <td class=\"f\" nowrap=\"nowrap\"><a href=\"https://web.archive.org/web/20190824043821/https://www.nga.gov/collection/anZ1.htm\" title=\"04:38:21 Aug 24, 2019\"><img src=\"/_static/images/toolbar/wm_tb_nxt_on.png\" alt=\"Next capture\" width=\"14\" height=\"16\" border=\"0\" /></a></td>\\n\\t\\t</tr>\\n\\t\\t<!-- NEXT/PREV YEAR NAV AND YEAR INDICATOR -->\\n\\t\\t<tr class=\"y\">\\n\\t\\t  <td class=\"b\" nowrap=\"nowrap\"><a href=\"https://web.archive.org/web/20110606120842/http://www.nga.gov/collection/anZ1.htm\" title=\"06 Jun 2011\"><strong>2011</strong></a></td>\\n\\t\\t  <td class=\"c\" id=\"displayYearEl\" title=\"You are here: 17:29:55 Oct 07, 2012\">2012</td>\\n\\t\\t  <td class=\"f\" nowrap=\"nowrap\"><a href=\"https://web.archive.org/web/20190824043821/https://www.nga.gov/collection/anZ1.htm\" title=\"24 Aug 2019\"><strong>2019</strong></a></td>\\n\\t\\t</tr>\\n\\t      </tbody>\\n\\t    </table>\\n\\t  </td>\\n\\t</tr>\\n\\t<tr>\\n\\t  <td class=\"s\">\\n\\t    \\t    <div id=\"wm-nav-captures\">\\n\\t      \\t      <a class=\"t\" href=\"/web/20121007172955*/https://www.nga.gov/collection/anZ1.htm\" title=\"See a list of every capture for this URL\">36 captures</a>\\n\\t      <div class=\"r\" title=\"Timespan for captures of this URL\">05 Apr 1997 - 11 May 2020</div>\\n\\t      </div>\\n\\t  </td>\\n\\t  <td class=\"k\">\\n\\t    <a href=\"\" id=\"wm-graph-anchor\">\\n\\t      <div id=\"wm-ipp-sparkline\" title=\"Explore captures for this URL\" style=\"position: relative\">\\n\\t\\t<canvas id=\"wm-sparkline-canvas\" width=\"625\" height=\"27\" border=\"0\"></canvas>\\n\\t      </div>\\n\\t    </a>\\n\\t  </td>\\n\\t</tr>\\n      </tbody>\\n    </table>\\n    <div style=\"position:absolute;bottom:0;right:2px;text-align:right;\">\\n      <a id=\"wm-expand\" class=\"wm-btn wm-closed\" href=\"#expand\" onclick=\"__wm.ex(event);return false;\"><span id=\"wm-expand-icon\" class=\"iconochive-down-solid\"></span> <span style=\"font-size:80%\">About this capture</span></a>\\n    </div>\\n  </div>\\n    <div id=\"wm-capinfo\" style=\"border-top:1px solid #777;display:none; overflow: hidden\">\\n                    <div id=\"wm-capinfo-collected-by\">\\n    <div style=\"background-color:#666;color:#fff;font-weight:bold;text-align:center\">COLLECTED BY</div>\\n    <div style=\"padding:3px;position:relative\" id=\"wm-collected-by-content\">\\n            <div style=\"display:inline-block;vertical-align:top;width:50%;\">\\n\\t\\t\\t<span class=\"c-logo\" style=\"background-image:url(https://archive.org/services/img/webwidecrawl);\"></span>\\n\\t\\tOrganization: <a style=\"color:#33f;\" href=\"https://archive.org/details/webwidecrawl\" target=\"_new\"><span class=\"wm-title\">Internet Archive</span></a>\\n\\t\\t<div style=\"max-height:75px;overflow:hidden;position:relative;\">\\n\\t  <div style=\"position:absolute;top:0;left:0;width:100%;height:75px;background:linear-gradient(to bottom,rgba(255,255,255,0) 0%,rgba(255,255,255,0) 90%,rgba(255,255,255,255) 100%);\"></div>\\n\\t  The Internet Archive discovers and captures web pages through many different web crawls.\\n\\nAt any given time several distinct crawls are running, some for months, and some every day or longer.\\n\\nView the web archive through the <a href=\"http://archive.org/web/web.php\">Wayback Machine</a>.\\n\\t</div>\\n\\t      </div>\\n      <div style=\"display:inline-block;vertical-align:top;width:49%;\">\\n\\t\\t\\t<span class=\"c-logo\" style=\"background-image:url(https://archive.org/services/img/EndOfTerm2012WebCrawls)\"></span>\\n\\t\\t<div>Collection: <a style=\"color:#33f;\" href=\"https://archive.org/details/EndOfTerm2012WebCrawls\" target=\"_new\"><span class=\"wm-title\">End of Term 2012 Web Crawls</span></a></div>\\n\\t\\t<div style=\"max-height:75px;overflow:hidden;position:relative;\">\\n\\t  <div style=\"position:absolute;top:0;left:0;width:100%;height:75px;background:linear-gradient(to bottom,rgba(255,255,255,0) 0%,rgba(255,255,255,0) 90%,rgba(255,255,255,255) 100%);\"></div>\\n\\t  This collection contains web crawls performed on the US Federal Executive, Legislative & Judicial branches of government in 2012-2013.\\n\\t</div>\\n\\t      </div>\\n    </div>\\n    </div>\\n    <div id=\"wm-capinfo-timestamps\">\\n    <div style=\"background-color:#666;color:#fff;font-weight:bold;text-align:center\" title=\"Timestamps for the elements of this page\">TIMESTAMPS</div>\\n    <div>\\n      <div id=\"wm-capresources\" style=\"margin:0 5px 5px 5px;max-height:250px;overflow-y:scroll !important\"></div>\\n      <div id=\"wm-capresources-loading\" style=\"text-align:left;margin:0 20px 5px 5px;display:none\"><img src=\"/_static/images/loading.gif\" alt=\"loading\" /></div>\\n    </div>\\n    </div>\\n  </div></div></div></div><div id=\"donato\" style=\"position:relative;width:100%;\">\\n  <div id=\"donato-base\">\\n    <iframe id=\"donato-if\" src=\"https://archive.org/includes/donate.php?as_page=1&amp;transpiled=0&amp;referer=https%3A//web.archive.org/web/20121007172955/https%3A//www.nga.gov/collection/anZ1.htm\"\\n\\t    scrolling=\"no\" frameborder=\"0\" style=\"width:100%; height:100%\">\\n    </iframe>\\n  </div>\\n</div><script type=\"text/javascript\">\\n__wm.bt(625,27,25,2,\"web\",\"https://www.nga.gov/collection/anZ1.htm\",\"20121007172955\",1996,\"/_static/\",[\"/_static/css/banner-styles.css?v=NHuXCfBH\",\"/_static/css/iconochive.css?v=qtvMKcIJ\"]);\\n  __wm.rw(1);\\n</script>\\n<!-- END WAYBACK TOOLBAR INSERT -->\\n\\n<div align=\"center\">\\n<table border=\"0\" cellpadding=\"0\" cellspacing=\"0\">\\n\\t<tr>\\n  \\t<td width=\"175\" align=\"right\" valign=\"top\">\\n<div style=\"border-right: 1px solid #466D6C; margin-right: 8px;\">\\n<a href=\"/web/20121007172955/https://www.nga.gov/home.htm\"><img src=\"/web/20121007172955im_/https://www.nga.gov/images/eagle.gif\" width=\"74\" height=\"72\" border=\"0\" alt=\"HOME\" style=\"margin-top: 15px; margin-right: 12px; margin-bottom: 35px;\"/></a><br/>\\n<div style=\"padding-right: 8px;\"><!-- #BeginLibraryItem \"/Library/sidebar-top.lbi\" --><ul id=\"sideNav-top\">\\n<li><a href=\"/web/20121007172955/https://www.nga.gov/highlights/index.shtm\">What\\'s New</a></li>\\n<li><a href=\"https://web.archive.org/web/20121007172955/http://subscribe.nga.gov/subscription_form_ngart.cfm\">Newsletters</a></li>\\n<li><a href=\"/web/20121007172955/https://www.nga.gov/programs/calendar/\">Calendar</a></li>\\n<li><a href=\"/web/20121007172955/https://www.nga.gov/collection/acquisitioninfo.shtm\">Recent Acquisitions</a></li>\\n<li><a href=\"/web/20121007172955/https://www.nga.gov/podcasts/index.shtm\">Videos &amp; Podcasts</a></li>\\n<li><a href=\"/web/20121007172955/https://www.nga.gov/ginfo/aboutnga.shtm\">About the Gallery</a></li>\\n<li class=\"call-out\"><a href=\"/web/20121007172955/https://www.nga.gov/exhibitions/shockinfo.shtm\">Shock of the News</a></li>\\n<li class=\"call-out\"><a href=\"/web/20121007172955/https://www.nga.gov/exhibitions/bellowsinfo.shtm\">George Bellows</a></li>\\n</ul>\\n<!-- #EndLibraryItem --><!-- #BeginLibraryItem \"/Library/sidebar-bottom.lbi\" --><ul id=\"globalNav\">\\n<li><a href=\"/web/20121007172955/https://www.nga.gov/collection/index.shtm\">The Collection</a></li>\\n<li><a href=\"/web/20121007172955/https://www.nga.gov/exhibitions/index.shtm\">Exhibitions</a></li>\\n<li><a href=\"/web/20121007172955/https://www.nga.gov/ginfo/index.shtm\">Plan a Visit</a></li>\\n<li><a href=\"/web/20121007172955/https://www.nga.gov/programs/index.shtm\">Programs &amp; Events</a></li>\\n<li><a href=\"/web/20121007172955/https://www.nga.gov/onlinetours/index.shtm\">Online Tours</a></li>\\n<li><a href=\"/web/20121007172955/https://www.nga.gov/education/index.shtm\">Education</a></li>\\n<li><a href=\"/web/20121007172955/https://www.nga.gov/resources/index.shtm\">Resources</a></li>\\n<li><a href=\"https://web.archive.org/web/20121007172955/http://shop.nga.gov/\">Gallery Shop</a></li>\\n<li><a href=\"/web/20121007172955/https://www.nga.gov/support/index.shtm\">Support the Gallery</a></li>\\n<li><a href=\"https://web.archive.org/web/20121007172955/https://images.nga.gov/en/page/show_home_page.html\">NGA Images</a></li>\\n<li><a href=\"/web/20121007172955/https://www.nga.gov/kids/kids.htm\">NGA<span class=\"kids\">kids</span></a></li>\\n</ul><!-- #EndLibraryItem --><form action=\"/web/20121007172955/https://www.nga.gov/cgi-bin/htsearch\" method=\"get\" style=\"float: inherit; clear: both;\">\\n<input value=\"and\" name=\"method\" type=\"hidden\"/><input value=\"Long\" name=\"format\" type=\"hidden\"/><input value=\"score\" name=\"sort\" type=\"hidden\"/>\\n<input name=\"words\" type=\"text\" class=\"searchField\" onfocus=\"if (this.value.indexOf(\\'Search the Site\\') == 0) this.value = \\'\\';\" value=\"Search the Site\" size=\"14\" style=\"margin-bottom:3px;\"/>\\n<input type=\"image\" src=\"/web/20121007172955im_/https://www.nga.gov/images/new_go_btn.gif\"/>\\n<input name=\"restrict\" type=\"hidden\"/>\\n<input value=\"\" name=\"exclude\" type=\"hidden\"/>\\n</form>\\n</div>\\n</div>\\n</td>\\n  <td width=\"675\" valign=\"top\">\\n<div class=\"content\">\\n<img width=\"400\" height=\"44\" border=\"0\" src=\"/web/20121007172955im_/https://www.nga.gov/images/collections_test.gif\" alt=\"National Gallery of Art - THE COLLECTION\" style=\"margin-top: 28px; margin-bottom: 40px; text-align: left; float: left;\"/><div style=\"clear: both;\"></div>\\n  <div class=\"BodyText\">\\n\\n\\n<!-- InstanceBeginEditable name=\"BodyText\" -->\\n\\n<h3>Artist names beginning with Z</h3><table>\\n<tr valign=\"top\"><td><a href=\"/web/20121007172955/https://www.nga.gov/cgi-bin/tsearch?artistid=11630\">Zabaglia, Niccola</a></td><td>Italian, 1664 - 1750</td></tr>\\n\\n<tr valign=\"top\"><td><a href=\"/web/20121007172955/https://www.nga.gov/cgi-bin/tsearch?artistid=34202\">Zaccone, Fabian</a></td><td>American, 1910 - 1992</td></tr>\\n\\n<tr valign=\"top\"><td><a href=\"/web/20121007172955/https://www.nga.gov/cgi-bin/tsearch?artistid=3475\">Zadkine, Ossip</a></td><td>French, 1890 - 1967</td></tr>\\n\\n<tr valign=\"top\"><td><a href=\"/web/20121007172955/https://www.nga.gov/cgi-bin/tsearch?artistid=25135\">Zaech, Bernhard</a></td><td>German, active c. 1650</td></tr>\\n\\n<tr valign=\"top\"><td><a href=\"/web/20121007172955/https://www.nga.gov/cgi-bin/tsearch?artistid=2298\">Zagar, Jacob</a></td><td>Flemish, c. 1530 - after 1580</td></tr>\\n\\n<tr valign=\"top\"><td><a href=\"/web/20121007172955/https://www.nga.gov/cgi-bin/tsearch?artistid=23988\">Zagroba, Idalia</a></td><td>Polish, born 1967</td></tr>\\n\\n<tr valign=\"top\"><td><a href=\"/web/20121007172955/https://www.nga.gov/cgi-bin/tsearch?artistid=8232\">Zaidenberg, A.</a></td><td>American, active c. 1935</td></tr>\\n\\n<tr valign=\"top\"><td><a href=\"/web/20121007172955/https://www.nga.gov/cgi-bin/tsearch?artistid=34154\">Zaidenberg, Arthur</a></td><td>American, 1903 - 1990</td></tr>\\n\\n<tr valign=\"top\"><td><a href=\"/web/20121007172955/https://www.nga.gov/cgi-bin/tsearch?artistid=4910\">Zaisinger, Matthäus</a></td><td>German, active c. 1500</td></tr>\\n\\n<tr valign=\"top\"><td><a href=\"/web/20121007172955/https://www.nga.gov/cgi-bin/tsearch?artistid=3450\">Zajac, Jack</a></td><td>American, born 1929</td></tr>\\n\\n<tr valign=\"top\"><td><a href=\"/web/20121007172955/https://www.nga.gov/cgi-bin/tsearch?artistid=1986\">Zak, Eugène</a></td><td>Polish, 1884 - 1926</td></tr>\\n\\n<tr valign=\"top\"><td><a href=\"/web/20121007172955/https://www.nga.gov/cgi-bin/tsearch?artistid=3451\">Zakharov, Gurii Fillipovich</a></td><td>Russian, born 1926</td></tr>\\n\\n<tr valign=\"top\"><td><a href=\"/web/20121007172955/https://www.nga.gov/cgi-bin/tsearch?artistid=20099\">Zakowortny, Igor</a></td><td></td></tr>\\n\\n<tr valign=\"top\"><td><a href=\"/web/20121007172955/https://www.nga.gov/cgi-bin/tsearch?artistid=3452\">Zalce, Alfredo</a></td><td>Mexican, born 1908</td></tr>\\n\\n<tr valign=\"top\"><td><a href=\"/web/20121007172955/https://www.nga.gov/cgi-bin/tsearch?artistid=34309\">Zalopany, Michele</a></td><td>American, born 1955</td></tr>\\n\\n<tr valign=\"top\"><td><a href=\"/web/20121007172955/https://www.nga.gov/cgi-bin/tsearch?artistid=27191\">Zammiello, Craig</a></td><td></td></tr>\\n\\n<tr valign=\"top\"><td><a href=\"/web/20121007172955/https://www.nga.gov/cgi-bin/tsearch?artistid=5846\">Zammitt, Norman</a></td><td>American, born 1931</td></tr>\\n\\n<tr valign=\"top\"><td><a href=\"/web/20121007172955/https://www.nga.gov/cgi-bin/tsearch?artistid=3941\">Zampieri, Domenico</a></td><td>Italian, 1581 - 1641</td></tr>\\n\\n<tr valign=\"top\"><td><a href=\"/web/20121007172955/https://www.nga.gov/cgi-bin/tsearch?artistid=3941\">Zampieri, called Domenichino, Domenico</a></td><td>Italian, 1581 - 1641</td></tr>\\n\\n<tr valign=\"top\"><td><a href=\"/web/20121007172955/https://www.nga.gov/cgi-bin/tsearch?artistid=3453\">Zanartú, Enrique Antunez</a></td><td>Chilean, born 1921</td></tr>\\n\\n<tr valign=\"top\"><td><a href=\"/web/20121007172955/https://www.nga.gov/cgi-bin/tsearch?artistid=35173\">Zanchi, Antonio</a></td><td>Italian, 1631 - 1722</td></tr>\\n\\n<tr valign=\"top\"><td><a href=\"/web/20121007172955/https://www.nga.gov/cgi-bin/tsearch?artistid=11133\">Zanetti, Anton Maria</a></td><td>Italian, 1679/1680 - 1767</td></tr>\\n\\n<tr valign=\"top\"><td><a href=\"/web/20121007172955/https://www.nga.gov/cgi-bin/tsearch?artistid=3455\">Zanetti Borzino, Leopoldina</a></td><td>Italian, 1826 - 1902</td></tr>\\n\\n<tr valign=\"top\"><td><a href=\"/web/20121007172955/https://www.nga.gov/cgi-bin/tsearch?artistid=3454\">Zanetti I, Antonio Maria, conte</a></td><td>Italian, 1680 - 1757</td></tr>\\n\\n<tr valign=\"top\"><td><a href=\"/web/20121007172955/https://www.nga.gov/cgi-bin/tsearch?artistid=961\">Zanguidi, Jacopo</a></td><td>Italian, 1544 - 1573/1574</td></tr>\\n\\n<tr valign=\"top\"><td><a href=\"/web/20121007172955/https://www.nga.gov/cgi-bin/tsearch?artistid=11597\">Zanini, Giuseppe</a></td><td>Italian, c. 1599 - 1631</td></tr>\\n\\n<tr valign=\"top\"><td><a href=\"/web/20121007172955/https://www.nga.gov/cgi-bin/tsearch?artistid=11597\">Zanini-Viola, Giuseppe</a></td><td>Italian, c. 1599 - 1631</td></tr>\\n\\n<tr valign=\"top\"><td><a href=\"/web/20121007172955/https://www.nga.gov/cgi-bin/tsearch?artistid=11631\">Zanotti, Giampietro</a></td><td>Italian, 1674 - 1765</td></tr>\\n\\n<tr valign=\"top\"><td><a href=\"/web/20121007172955/https://www.nga.gov/cgi-bin/tsearch?artistid=3427\">Zao Wou-Ki</a></td><td>French, born 1921</td></tr>\\n\\n</table>\\n<br><br>\\n<table class=\"AlphaNav\"><tr><td></td><td align=\"center\">Page 1 - Artists 1 thru 29 of 115<br/></td><td></td></tr>\\n<tr>\\n<td></td>\\n<td align=\"center\">\\n&#183; <b>Zab-Zao</b> &#183;<a href=\"/web/20121007172955/https://www.nga.gov/collection/anZ2.htm\">Zas-Zie</a> <a href=\"/web/20121007172955/https://www.nga.gov/collection/anZ3.htm\">Zie-Zor</a> </td>\\n<td align=\"center\">&raquo; <br/><a href=\"/web/20121007172955/https://www.nga.gov/collection/anZ4.htm\"><strong>next<br/>page</strong></a></td>\\n</tr>\\n</table>\\n<!-- InstanceEndEditable -->\\n\\n</div> <!--close bodytext div -->\\n</div> <!-- close content div -->\\n  </td>\\n  </tr>\\n<tr>\\n<td></td>\\n  <td colspan=\"2\" class=\"noToolbar\">\\n  <div style=\"margin-top: 15px;\">\\n\\n\\n<p style=\"padding: 50px 0 0 10px; font-size: 90%; text-align: left;\"><!-- #BeginLibraryItem \"/Library/toolbar_new.lbi\" --> <a href=\"/web/20121007172955/https://www.nga.gov/help/index.shtm\">help</a> | <a href=\"/web/20121007172955/https://www.nga.gov/search/index.shtm\">search</a> | <a href=\"/web/20121007172955/https://www.nga.gov/copyright/toc.shtm\">site map</a> | <a href=\"/web/20121007172955/https://www.nga.gov/xio/phone.shtm\">contact us</a> | <a href=\"/web/20121007172955/https://www.nga.gov/xio/privacy.shtm\">privacy</a> | <a href=\"/web/20121007172955/https://www.nga.gov/copyright/index.shtm\">terms of use</a> | <a href=\"/web/20121007172955/https://www.nga.gov/press/index.shtm\">press</a> | <a href=\"https://web.archive.org/web/20121007172955/http://images.nga.gov/\">NGA Images</a> | <a href=\"/web/20121007172955/https://www.nga.gov/home.htm\">home</a> | <a href=\"https://web.archive.org/web/20121007172955/http://www.facebook.com/nationalgalleryofart\"><img src=\"/web/20121007172955im_/https://www.nga.gov/images/icon_facebook.gif\" width=\"18\" height=\"18\" border=\"0\" style=\"vertical-align: text-top; margin-top: -1px;\" alt=\"Go to our page on Facebook\"/></a> <a href=\"https://web.archive.org/web/20121007172955/https://twitter.com/#!/@ngadc\"><img src=\"/web/20121007172955im_/https://www.nga.gov/images/icon_twitter.gif\" width=\"20\" height=\"18\" border=\"0\" style=\"vertical-align: text-top; margin-top: -1px;\" alt=\"Go to our page on Twitter\"/></a><!-- #EndLibraryItem --></p>\\n\\n<p style=\"padding: 0 0 0 10px; font-size: 90%; text-align: left;\"><!-- #BeginLibraryItem \"/Library/copyright_new.lbi\" --><a href=\"/web/20121007172955/https://www.nga.gov/copyright/index.shtm\">Copyright &copy;\\n      <script language=\"JavaScript\">\\nfunction y2k(number) { return (number < 1000) ? number + 1900 : number; }\\nvar today = new Date();\\nvar year  = y2k(today.getYear());\\ndocument.write(year);\\n      </script>\\n      <noscript>\\n2008\\n      </noscript>\\nNational Gallery of Art, Washington, DC</a><!-- #EndLibraryItem --></div>\\n   \\n\\n</td>\\n</tr>\\n\\n\\n</table>\\n</div>\\n<!-- Start Web Analytic Code -->\\n<script type=\"text/javascript\">\\n\\n  var _gaq = _gaq || [];\\n  _gaq.push([\\'_setAccount\\', \\'UA-31577529-1\\']);\\n  _gaq.push([\\'_setDomainName\\', \\'nga.gov\\']);\\n  _gaq.push([\\'_trackPageview\\']);\\n\\n  (function() {\\n    var ga = document.createElement(\\'script\\'); ga.type = \\'text/javascript\\'; ga.async = true;\\n    ga.src = (\\'https:\\' == document.location.protocol ? \\'https://web.archive.org/web/20121007172955/https://ssl\\' : \\'https://web.archive.org/web/20121007172955/http://www\\') + \\'.google-analytics.com/ga.js\\';\\n    var s = document.getElementsByTagName(\\'script\\')[0]; s.parentNode.insertBefore(ga, s);\\n  })();\\n\\n</script>\\n<!-- End Web Analytic Code -->\\n\\n</body>\\n\\n<!-- InstanceEnd --></html>\\n<!--\\n     FILE ARCHIVED ON 17:29:55 Oct 07, 2012 AND RETRIEVED FROM THE\\n     INTERNET ARCHIVE ON 22:58:31 Nov 02, 2020.\\n     JAVASCRIPT APPENDED BY WAYBACK MACHINE, COPYRIGHT INTERNET ARCHIVE.\\n\\n     ALL OTHER CONTENT MAY ALSO BE PROTECTED BY COPYRIGHT (17 U.S.C.\\n     SECTION 108(a)(3)).\\n-->\\n<!--\\nplayback timings (ms):\\n  esindex: 0.015\\n  load_resource: 246.35\\n  CDXLines.iter: 24.274 (3)\\n  RedisCDXSource: 5.027\\n  PetaboxLoader3.datanode: 177.393 (4)\\n  exclusion.robots: 0.335\\n  captures_list: 322.6\\n  LoadShardBlock: 288.635 (3)\\n  exclusion.robots.policy: 0.319\\n  PetaboxLoader3.resolve: 193.336 (3)\\n-->'"
      ]
     },
     "execution_count": 27,
     "metadata": {},
     "output_type": "execute_result"
    }
   ],
   "source": [
    "page.text"
   ]
  },
  {
   "cell_type": "code",
   "execution_count": 20,
   "metadata": {},
   "outputs": [],
   "source": [
    "soup = BeautifulSoup(page.text, 'html.parser')"
   ]
  },
  {
   "cell_type": "code",
   "execution_count": 21,
   "metadata": {},
   "outputs": [],
   "source": [
    "artist_name_list = soup.find(class_='BodyText')"
   ]
  },
  {
   "cell_type": "code",
   "execution_count": 23,
   "metadata": {},
   "outputs": [
    {
     "data": {
      "text/plain": [
       "<div class=\"BodyText\">\n",
       "<!-- InstanceBeginEditable name=\"BodyText\" -->\n",
       "<h3>Artist names beginning with Z</h3><table>\n",
       "<tr valign=\"top\"><td><a href=\"/web/20121007172955/https://www.nga.gov/cgi-bin/tsearch?artistid=11630\">Zabaglia, Niccola</a></td><td>Italian, 1664 - 1750</td></tr>\n",
       "<tr valign=\"top\"><td><a href=\"/web/20121007172955/https://www.nga.gov/cgi-bin/tsearch?artistid=34202\">Zaccone, Fabian</a></td><td>American, 1910 - 1992</td></tr>\n",
       "<tr valign=\"top\"><td><a href=\"/web/20121007172955/https://www.nga.gov/cgi-bin/tsearch?artistid=3475\">Zadkine, Ossip</a></td><td>French, 1890 - 1967</td></tr>\n",
       "<tr valign=\"top\"><td><a href=\"/web/20121007172955/https://www.nga.gov/cgi-bin/tsearch?artistid=25135\">Zaech, Bernhard</a></td><td>German, active c. 1650</td></tr>\n",
       "<tr valign=\"top\"><td><a href=\"/web/20121007172955/https://www.nga.gov/cgi-bin/tsearch?artistid=2298\">Zagar, Jacob</a></td><td>Flemish, c. 1530 - after 1580</td></tr>\n",
       "<tr valign=\"top\"><td><a href=\"/web/20121007172955/https://www.nga.gov/cgi-bin/tsearch?artistid=23988\">Zagroba, Idalia</a></td><td>Polish, born 1967</td></tr>\n",
       "<tr valign=\"top\"><td><a href=\"/web/20121007172955/https://www.nga.gov/cgi-bin/tsearch?artistid=8232\">Zaidenberg, A.</a></td><td>American, active c. 1935</td></tr>\n",
       "<tr valign=\"top\"><td><a href=\"/web/20121007172955/https://www.nga.gov/cgi-bin/tsearch?artistid=34154\">Zaidenberg, Arthur</a></td><td>American, 1903 - 1990</td></tr>\n",
       "<tr valign=\"top\"><td><a href=\"/web/20121007172955/https://www.nga.gov/cgi-bin/tsearch?artistid=4910\">Zaisinger, Matthäus</a></td><td>German, active c. 1500</td></tr>\n",
       "<tr valign=\"top\"><td><a href=\"/web/20121007172955/https://www.nga.gov/cgi-bin/tsearch?artistid=3450\">Zajac, Jack</a></td><td>American, born 1929</td></tr>\n",
       "<tr valign=\"top\"><td><a href=\"/web/20121007172955/https://www.nga.gov/cgi-bin/tsearch?artistid=1986\">Zak, Eugène</a></td><td>Polish, 1884 - 1926</td></tr>\n",
       "<tr valign=\"top\"><td><a href=\"/web/20121007172955/https://www.nga.gov/cgi-bin/tsearch?artistid=3451\">Zakharov, Gurii Fillipovich</a></td><td>Russian, born 1926</td></tr>\n",
       "<tr valign=\"top\"><td><a href=\"/web/20121007172955/https://www.nga.gov/cgi-bin/tsearch?artistid=20099\">Zakowortny, Igor</a></td><td></td></tr>\n",
       "<tr valign=\"top\"><td><a href=\"/web/20121007172955/https://www.nga.gov/cgi-bin/tsearch?artistid=3452\">Zalce, Alfredo</a></td><td>Mexican, born 1908</td></tr>\n",
       "<tr valign=\"top\"><td><a href=\"/web/20121007172955/https://www.nga.gov/cgi-bin/tsearch?artistid=34309\">Zalopany, Michele</a></td><td>American, born 1955</td></tr>\n",
       "<tr valign=\"top\"><td><a href=\"/web/20121007172955/https://www.nga.gov/cgi-bin/tsearch?artistid=27191\">Zammiello, Craig</a></td><td></td></tr>\n",
       "<tr valign=\"top\"><td><a href=\"/web/20121007172955/https://www.nga.gov/cgi-bin/tsearch?artistid=5846\">Zammitt, Norman</a></td><td>American, born 1931</td></tr>\n",
       "<tr valign=\"top\"><td><a href=\"/web/20121007172955/https://www.nga.gov/cgi-bin/tsearch?artistid=3941\">Zampieri, Domenico</a></td><td>Italian, 1581 - 1641</td></tr>\n",
       "<tr valign=\"top\"><td><a href=\"/web/20121007172955/https://www.nga.gov/cgi-bin/tsearch?artistid=3941\">Zampieri, called Domenichino, Domenico</a></td><td>Italian, 1581 - 1641</td></tr>\n",
       "<tr valign=\"top\"><td><a href=\"/web/20121007172955/https://www.nga.gov/cgi-bin/tsearch?artistid=3453\">Zanartú, Enrique Antunez</a></td><td>Chilean, born 1921</td></tr>\n",
       "<tr valign=\"top\"><td><a href=\"/web/20121007172955/https://www.nga.gov/cgi-bin/tsearch?artistid=35173\">Zanchi, Antonio</a></td><td>Italian, 1631 - 1722</td></tr>\n",
       "<tr valign=\"top\"><td><a href=\"/web/20121007172955/https://www.nga.gov/cgi-bin/tsearch?artistid=11133\">Zanetti, Anton Maria</a></td><td>Italian, 1679/1680 - 1767</td></tr>\n",
       "<tr valign=\"top\"><td><a href=\"/web/20121007172955/https://www.nga.gov/cgi-bin/tsearch?artistid=3455\">Zanetti Borzino, Leopoldina</a></td><td>Italian, 1826 - 1902</td></tr>\n",
       "<tr valign=\"top\"><td><a href=\"/web/20121007172955/https://www.nga.gov/cgi-bin/tsearch?artistid=3454\">Zanetti I, Antonio Maria, conte</a></td><td>Italian, 1680 - 1757</td></tr>\n",
       "<tr valign=\"top\"><td><a href=\"/web/20121007172955/https://www.nga.gov/cgi-bin/tsearch?artistid=961\">Zanguidi, Jacopo</a></td><td>Italian, 1544 - 1573/1574</td></tr>\n",
       "<tr valign=\"top\"><td><a href=\"/web/20121007172955/https://www.nga.gov/cgi-bin/tsearch?artistid=11597\">Zanini, Giuseppe</a></td><td>Italian, c. 1599 - 1631</td></tr>\n",
       "<tr valign=\"top\"><td><a href=\"/web/20121007172955/https://www.nga.gov/cgi-bin/tsearch?artistid=11597\">Zanini-Viola, Giuseppe</a></td><td>Italian, c. 1599 - 1631</td></tr>\n",
       "<tr valign=\"top\"><td><a href=\"/web/20121007172955/https://www.nga.gov/cgi-bin/tsearch?artistid=11631\">Zanotti, Giampietro</a></td><td>Italian, 1674 - 1765</td></tr>\n",
       "<tr valign=\"top\"><td><a href=\"/web/20121007172955/https://www.nga.gov/cgi-bin/tsearch?artistid=3427\">Zao Wou-Ki</a></td><td>French, born 1921</td></tr>\n",
       "</table>\n",
       "<br/><br/>\n",
       "<table class=\"AlphaNav\"><tr><td></td><td align=\"center\">Page 1 - Artists 1 thru 29 of 115<br/></td><td></td></tr>\n",
       "<tr>\n",
       "<td></td>\n",
       "<td align=\"center\">\n",
       "· <b>Zab-Zao</b> ·<a href=\"/web/20121007172955/https://www.nga.gov/collection/anZ2.htm\">Zas-Zie</a> <a href=\"/web/20121007172955/https://www.nga.gov/collection/anZ3.htm\">Zie-Zor</a> </td>\n",
       "<td align=\"center\">» <br><a href=\"/web/20121007172955/https://www.nga.gov/collection/anZ4.htm\"><strong>next<br/>page</strong></a></br></td>\n",
       "</tr>\n",
       "</table>\n",
       "<!-- InstanceEndEditable -->\n",
       "</div>"
      ]
     },
     "execution_count": 23,
     "metadata": {},
     "output_type": "execute_result"
    }
   ],
   "source": [
    "artist_name_list"
   ]
  },
  {
   "cell_type": "code",
   "execution_count": 24,
   "metadata": {},
   "outputs": [],
   "source": [
    "artist_name_list_items = artist_name_list.find_all('a')"
   ]
  },
  {
   "cell_type": "code",
   "execution_count": 29,
   "metadata": {},
   "outputs": [
    {
     "data": {
      "text/plain": [
       "[<a href=\"/web/20121007172955/https://www.nga.gov/cgi-bin/tsearch?artistid=11630\">Zabaglia, Niccola</a>,\n",
       " <a href=\"/web/20121007172955/https://www.nga.gov/cgi-bin/tsearch?artistid=34202\">Zaccone, Fabian</a>,\n",
       " <a href=\"/web/20121007172955/https://www.nga.gov/cgi-bin/tsearch?artistid=3475\">Zadkine, Ossip</a>,\n",
       " <a href=\"/web/20121007172955/https://www.nga.gov/cgi-bin/tsearch?artistid=25135\">Zaech, Bernhard</a>,\n",
       " <a href=\"/web/20121007172955/https://www.nga.gov/cgi-bin/tsearch?artistid=2298\">Zagar, Jacob</a>,\n",
       " <a href=\"/web/20121007172955/https://www.nga.gov/cgi-bin/tsearch?artistid=23988\">Zagroba, Idalia</a>,\n",
       " <a href=\"/web/20121007172955/https://www.nga.gov/cgi-bin/tsearch?artistid=8232\">Zaidenberg, A.</a>,\n",
       " <a href=\"/web/20121007172955/https://www.nga.gov/cgi-bin/tsearch?artistid=34154\">Zaidenberg, Arthur</a>,\n",
       " <a href=\"/web/20121007172955/https://www.nga.gov/cgi-bin/tsearch?artistid=4910\">Zaisinger, Matthäus</a>,\n",
       " <a href=\"/web/20121007172955/https://www.nga.gov/cgi-bin/tsearch?artistid=3450\">Zajac, Jack</a>,\n",
       " <a href=\"/web/20121007172955/https://www.nga.gov/cgi-bin/tsearch?artistid=1986\">Zak, Eugène</a>,\n",
       " <a href=\"/web/20121007172955/https://www.nga.gov/cgi-bin/tsearch?artistid=3451\">Zakharov, Gurii Fillipovich</a>,\n",
       " <a href=\"/web/20121007172955/https://www.nga.gov/cgi-bin/tsearch?artistid=20099\">Zakowortny, Igor</a>,\n",
       " <a href=\"/web/20121007172955/https://www.nga.gov/cgi-bin/tsearch?artistid=3452\">Zalce, Alfredo</a>,\n",
       " <a href=\"/web/20121007172955/https://www.nga.gov/cgi-bin/tsearch?artistid=34309\">Zalopany, Michele</a>,\n",
       " <a href=\"/web/20121007172955/https://www.nga.gov/cgi-bin/tsearch?artistid=27191\">Zammiello, Craig</a>,\n",
       " <a href=\"/web/20121007172955/https://www.nga.gov/cgi-bin/tsearch?artistid=5846\">Zammitt, Norman</a>,\n",
       " <a href=\"/web/20121007172955/https://www.nga.gov/cgi-bin/tsearch?artistid=3941\">Zampieri, Domenico</a>,\n",
       " <a href=\"/web/20121007172955/https://www.nga.gov/cgi-bin/tsearch?artistid=3941\">Zampieri, called Domenichino, Domenico</a>,\n",
       " <a href=\"/web/20121007172955/https://www.nga.gov/cgi-bin/tsearch?artistid=3453\">Zanartú, Enrique Antunez</a>,\n",
       " <a href=\"/web/20121007172955/https://www.nga.gov/cgi-bin/tsearch?artistid=35173\">Zanchi, Antonio</a>,\n",
       " <a href=\"/web/20121007172955/https://www.nga.gov/cgi-bin/tsearch?artistid=11133\">Zanetti, Anton Maria</a>,\n",
       " <a href=\"/web/20121007172955/https://www.nga.gov/cgi-bin/tsearch?artistid=3455\">Zanetti Borzino, Leopoldina</a>,\n",
       " <a href=\"/web/20121007172955/https://www.nga.gov/cgi-bin/tsearch?artistid=3454\">Zanetti I, Antonio Maria, conte</a>,\n",
       " <a href=\"/web/20121007172955/https://www.nga.gov/cgi-bin/tsearch?artistid=961\">Zanguidi, Jacopo</a>,\n",
       " <a href=\"/web/20121007172955/https://www.nga.gov/cgi-bin/tsearch?artistid=11597\">Zanini, Giuseppe</a>,\n",
       " <a href=\"/web/20121007172955/https://www.nga.gov/cgi-bin/tsearch?artistid=11597\">Zanini-Viola, Giuseppe</a>,\n",
       " <a href=\"/web/20121007172955/https://www.nga.gov/cgi-bin/tsearch?artistid=11631\">Zanotti, Giampietro</a>,\n",
       " <a href=\"/web/20121007172955/https://www.nga.gov/cgi-bin/tsearch?artistid=3427\">Zao Wou-Ki</a>,\n",
       " <a href=\"/web/20121007172955/https://www.nga.gov/collection/anZ2.htm\">Zas-Zie</a>,\n",
       " <a href=\"/web/20121007172955/https://www.nga.gov/collection/anZ3.htm\">Zie-Zor</a>,\n",
       " <a href=\"/web/20121007172955/https://www.nga.gov/collection/anZ4.htm\"><strong>next<br/>page</strong></a>]"
      ]
     },
     "execution_count": 29,
     "metadata": {},
     "output_type": "execute_result"
    }
   ],
   "source": [
    "artist_name_list_items"
   ]
  },
  {
   "cell_type": "code",
   "execution_count": 31,
   "metadata": {},
   "outputs": [
    {
     "name": "stdout",
     "output_type": "stream",
     "text": [
      "<a href=\"/web/20121007172955/https://www.nga.gov/cgi-bin/tsearch?artistid=11630\">\n",
      " Zabaglia, Niccola\n",
      "</a>\n",
      "<a href=\"/web/20121007172955/https://www.nga.gov/cgi-bin/tsearch?artistid=34202\">\n",
      " Zaccone, Fabian\n",
      "</a>\n",
      "<a href=\"/web/20121007172955/https://www.nga.gov/cgi-bin/tsearch?artistid=3475\">\n",
      " Zadkine, Ossip\n",
      "</a>\n",
      "<a href=\"/web/20121007172955/https://www.nga.gov/cgi-bin/tsearch?artistid=25135\">\n",
      " Zaech, Bernhard\n",
      "</a>\n",
      "<a href=\"/web/20121007172955/https://www.nga.gov/cgi-bin/tsearch?artistid=2298\">\n",
      " Zagar, Jacob\n",
      "</a>\n",
      "<a href=\"/web/20121007172955/https://www.nga.gov/cgi-bin/tsearch?artistid=23988\">\n",
      " Zagroba, Idalia\n",
      "</a>\n",
      "<a href=\"/web/20121007172955/https://www.nga.gov/cgi-bin/tsearch?artistid=8232\">\n",
      " Zaidenberg, A.\n",
      "</a>\n",
      "<a href=\"/web/20121007172955/https://www.nga.gov/cgi-bin/tsearch?artistid=34154\">\n",
      " Zaidenberg, Arthur\n",
      "</a>\n",
      "<a href=\"/web/20121007172955/https://www.nga.gov/cgi-bin/tsearch?artistid=4910\">\n",
      " Zaisinger, Matthäus\n",
      "</a>\n",
      "<a href=\"/web/20121007172955/https://www.nga.gov/cgi-bin/tsearch?artistid=3450\">\n",
      " Zajac, Jack\n",
      "</a>\n",
      "<a href=\"/web/20121007172955/https://www.nga.gov/cgi-bin/tsearch?artistid=1986\">\n",
      " Zak, Eugène\n",
      "</a>\n",
      "<a href=\"/web/20121007172955/https://www.nga.gov/cgi-bin/tsearch?artistid=3451\">\n",
      " Zakharov, Gurii Fillipovich\n",
      "</a>\n",
      "<a href=\"/web/20121007172955/https://www.nga.gov/cgi-bin/tsearch?artistid=20099\">\n",
      " Zakowortny, Igor\n",
      "</a>\n",
      "<a href=\"/web/20121007172955/https://www.nga.gov/cgi-bin/tsearch?artistid=3452\">\n",
      " Zalce, Alfredo\n",
      "</a>\n",
      "<a href=\"/web/20121007172955/https://www.nga.gov/cgi-bin/tsearch?artistid=34309\">\n",
      " Zalopany, Michele\n",
      "</a>\n",
      "<a href=\"/web/20121007172955/https://www.nga.gov/cgi-bin/tsearch?artistid=27191\">\n",
      " Zammiello, Craig\n",
      "</a>\n",
      "<a href=\"/web/20121007172955/https://www.nga.gov/cgi-bin/tsearch?artistid=5846\">\n",
      " Zammitt, Norman\n",
      "</a>\n",
      "<a href=\"/web/20121007172955/https://www.nga.gov/cgi-bin/tsearch?artistid=3941\">\n",
      " Zampieri, Domenico\n",
      "</a>\n",
      "<a href=\"/web/20121007172955/https://www.nga.gov/cgi-bin/tsearch?artistid=3941\">\n",
      " Zampieri, called Domenichino, Domenico\n",
      "</a>\n",
      "<a href=\"/web/20121007172955/https://www.nga.gov/cgi-bin/tsearch?artistid=3453\">\n",
      " Zanartú, Enrique Antunez\n",
      "</a>\n",
      "<a href=\"/web/20121007172955/https://www.nga.gov/cgi-bin/tsearch?artistid=35173\">\n",
      " Zanchi, Antonio\n",
      "</a>\n",
      "<a href=\"/web/20121007172955/https://www.nga.gov/cgi-bin/tsearch?artistid=11133\">\n",
      " Zanetti, Anton Maria\n",
      "</a>\n",
      "<a href=\"/web/20121007172955/https://www.nga.gov/cgi-bin/tsearch?artistid=3455\">\n",
      " Zanetti Borzino, Leopoldina\n",
      "</a>\n",
      "<a href=\"/web/20121007172955/https://www.nga.gov/cgi-bin/tsearch?artistid=3454\">\n",
      " Zanetti I, Antonio Maria, conte\n",
      "</a>\n",
      "<a href=\"/web/20121007172955/https://www.nga.gov/cgi-bin/tsearch?artistid=961\">\n",
      " Zanguidi, Jacopo\n",
      "</a>\n",
      "<a href=\"/web/20121007172955/https://www.nga.gov/cgi-bin/tsearch?artistid=11597\">\n",
      " Zanini, Giuseppe\n",
      "</a>\n",
      "<a href=\"/web/20121007172955/https://www.nga.gov/cgi-bin/tsearch?artistid=11597\">\n",
      " Zanini-Viola, Giuseppe\n",
      "</a>\n",
      "<a href=\"/web/20121007172955/https://www.nga.gov/cgi-bin/tsearch?artistid=11631\">\n",
      " Zanotti, Giampietro\n",
      "</a>\n",
      "<a href=\"/web/20121007172955/https://www.nga.gov/cgi-bin/tsearch?artistid=3427\">\n",
      " Zao Wou-Ki\n",
      "</a>\n",
      "<a href=\"/web/20121007172955/https://www.nga.gov/collection/anZ2.htm\">\n",
      " Zas-Zie\n",
      "</a>\n",
      "\n",
      "<a href=\"/web/20121007172955/https://www.nga.gov/collection/anZ3.htm\">\n",
      " Zie-Zor\n",
      "</a>\n",
      "\n",
      "<a href=\"/web/20121007172955/https://www.nga.gov/collection/anZ4.htm\">\n",
      " <strong>\n",
      "  next\n",
      "  <br/>\n",
      "  page\n",
      " </strong>\n",
      "</a>\n"
     ]
    }
   ],
   "source": [
    "for artist_name in artist_name_list_items:\n",
    "    print(artist_name.prettify())"
   ]
  },
  {
   "cell_type": "code",
   "execution_count": 32,
   "metadata": {},
   "outputs": [
    {
     "name": "stdout",
     "output_type": "stream",
     "text": [
      "<a href=\"/web/20121007172955/https://www.nga.gov/cgi-bin/tsearch?artistid=11630\">\n",
      " Zabaglia, Niccola\n",
      "</a>\n",
      "<a href=\"/web/20121007172955/https://www.nga.gov/cgi-bin/tsearch?artistid=34202\">\n",
      " Zaccone, Fabian\n",
      "</a>\n",
      "<a href=\"/web/20121007172955/https://www.nga.gov/cgi-bin/tsearch?artistid=3475\">\n",
      " Zadkine, Ossip\n",
      "</a>\n",
      "<a href=\"/web/20121007172955/https://www.nga.gov/cgi-bin/tsearch?artistid=25135\">\n",
      " Zaech, Bernhard\n",
      "</a>\n",
      "<a href=\"/web/20121007172955/https://www.nga.gov/cgi-bin/tsearch?artistid=2298\">\n",
      " Zagar, Jacob\n",
      "</a>\n",
      "<a href=\"/web/20121007172955/https://www.nga.gov/cgi-bin/tsearch?artistid=23988\">\n",
      " Zagroba, Idalia\n",
      "</a>\n",
      "<a href=\"/web/20121007172955/https://www.nga.gov/cgi-bin/tsearch?artistid=8232\">\n",
      " Zaidenberg, A.\n",
      "</a>\n",
      "<a href=\"/web/20121007172955/https://www.nga.gov/cgi-bin/tsearch?artistid=34154\">\n",
      " Zaidenberg, Arthur\n",
      "</a>\n",
      "<a href=\"/web/20121007172955/https://www.nga.gov/cgi-bin/tsearch?artistid=4910\">\n",
      " Zaisinger, Matthäus\n",
      "</a>\n",
      "<a href=\"/web/20121007172955/https://www.nga.gov/cgi-bin/tsearch?artistid=3450\">\n",
      " Zajac, Jack\n",
      "</a>\n",
      "<a href=\"/web/20121007172955/https://www.nga.gov/cgi-bin/tsearch?artistid=1986\">\n",
      " Zak, Eugène\n",
      "</a>\n",
      "<a href=\"/web/20121007172955/https://www.nga.gov/cgi-bin/tsearch?artistid=3451\">\n",
      " Zakharov, Gurii Fillipovich\n",
      "</a>\n",
      "<a href=\"/web/20121007172955/https://www.nga.gov/cgi-bin/tsearch?artistid=20099\">\n",
      " Zakowortny, Igor\n",
      "</a>\n",
      "<a href=\"/web/20121007172955/https://www.nga.gov/cgi-bin/tsearch?artistid=3452\">\n",
      " Zalce, Alfredo\n",
      "</a>\n",
      "<a href=\"/web/20121007172955/https://www.nga.gov/cgi-bin/tsearch?artistid=34309\">\n",
      " Zalopany, Michele\n",
      "</a>\n",
      "<a href=\"/web/20121007172955/https://www.nga.gov/cgi-bin/tsearch?artistid=27191\">\n",
      " Zammiello, Craig\n",
      "</a>\n",
      "<a href=\"/web/20121007172955/https://www.nga.gov/cgi-bin/tsearch?artistid=5846\">\n",
      " Zammitt, Norman\n",
      "</a>\n",
      "<a href=\"/web/20121007172955/https://www.nga.gov/cgi-bin/tsearch?artistid=3941\">\n",
      " Zampieri, Domenico\n",
      "</a>\n",
      "<a href=\"/web/20121007172955/https://www.nga.gov/cgi-bin/tsearch?artistid=3941\">\n",
      " Zampieri, called Domenichino, Domenico\n",
      "</a>\n",
      "<a href=\"/web/20121007172955/https://www.nga.gov/cgi-bin/tsearch?artistid=3453\">\n",
      " Zanartú, Enrique Antunez\n",
      "</a>\n",
      "<a href=\"/web/20121007172955/https://www.nga.gov/cgi-bin/tsearch?artistid=35173\">\n",
      " Zanchi, Antonio\n",
      "</a>\n",
      "<a href=\"/web/20121007172955/https://www.nga.gov/cgi-bin/tsearch?artistid=11133\">\n",
      " Zanetti, Anton Maria\n",
      "</a>\n",
      "<a href=\"/web/20121007172955/https://www.nga.gov/cgi-bin/tsearch?artistid=3455\">\n",
      " Zanetti Borzino, Leopoldina\n",
      "</a>\n",
      "<a href=\"/web/20121007172955/https://www.nga.gov/cgi-bin/tsearch?artistid=3454\">\n",
      " Zanetti I, Antonio Maria, conte\n",
      "</a>\n",
      "<a href=\"/web/20121007172955/https://www.nga.gov/cgi-bin/tsearch?artistid=961\">\n",
      " Zanguidi, Jacopo\n",
      "</a>\n",
      "<a href=\"/web/20121007172955/https://www.nga.gov/cgi-bin/tsearch?artistid=11597\">\n",
      " Zanini, Giuseppe\n",
      "</a>\n",
      "<a href=\"/web/20121007172955/https://www.nga.gov/cgi-bin/tsearch?artistid=11597\">\n",
      " Zanini-Viola, Giuseppe\n",
      "</a>\n",
      "<a href=\"/web/20121007172955/https://www.nga.gov/cgi-bin/tsearch?artistid=11631\">\n",
      " Zanotti, Giampietro\n",
      "</a>\n",
      "<a href=\"/web/20121007172955/https://www.nga.gov/cgi-bin/tsearch?artistid=3427\">\n",
      " Zao Wou-Ki\n",
      "</a>\n"
     ]
    }
   ],
   "source": [
    "import requests\n",
    "from bs4 import BeautifulSoup\n",
    "\n",
    "\n",
    "page = requests.get('https://web.archive.org/web/20121007172955/https://www.nga.gov/collection/anZ1.htm')\n",
    "\n",
    "soup = BeautifulSoup(page.text, 'html.parser')\n",
    "\n",
    "# Remove bottom links\n",
    "last_links = soup.find(class_='AlphaNav')\n",
    "last_links.decompose()\n",
    "\n",
    "artist_name_list = soup.find(class_='BodyText')\n",
    "artist_name_list_items = artist_name_list.find_all('a')\n",
    "\n",
    "for artist_name in artist_name_list_items:\n",
    "    print(artist_name.prettify())"
   ]
  },
  {
   "cell_type": "code",
   "execution_count": 33,
   "metadata": {},
   "outputs": [
    {
     "name": "stdout",
     "output_type": "stream",
     "text": [
      "Zabaglia, Niccola\n",
      "Zaccone, Fabian\n",
      "Zadkine, Ossip\n",
      "Zaech, Bernhard\n",
      "Zagar, Jacob\n",
      "Zagroba, Idalia\n",
      "Zaidenberg, A.\n",
      "Zaidenberg, Arthur\n",
      "Zaisinger, Matthäus\n",
      "Zajac, Jack\n",
      "Zak, Eugène\n",
      "Zakharov, Gurii Fillipovich\n",
      "Zakowortny, Igor\n",
      "Zalce, Alfredo\n",
      "Zalopany, Michele\n",
      "Zammiello, Craig\n",
      "Zammitt, Norman\n",
      "Zampieri, Domenico\n",
      "Zampieri, called Domenichino, Domenico\n",
      "Zanartú, Enrique Antunez\n",
      "Zanchi, Antonio\n",
      "Zanetti, Anton Maria\n",
      "Zanetti Borzino, Leopoldina\n",
      "Zanetti I, Antonio Maria, conte\n",
      "Zanguidi, Jacopo\n",
      "Zanini, Giuseppe\n",
      "Zanini-Viola, Giuseppe\n",
      "Zanotti, Giampietro\n",
      "Zao Wou-Ki\n"
     ]
    }
   ],
   "source": [
    "import requests\n",
    "from bs4 import BeautifulSoup\n",
    "\n",
    "\n",
    "page = requests.get('https://web.archive.org/web/20121007172955/https://www.nga.gov/collection/anZ1.htm')\n",
    "\n",
    "soup = BeautifulSoup(page.text, 'html.parser')\n",
    "\n",
    "last_links = soup.find(class_='AlphaNav')\n",
    "last_links.decompose()\n",
    "\n",
    "artist_name_list = soup.find(class_='BodyText')\n",
    "artist_name_list_items = artist_name_list.find_all('a')\n",
    "\n",
    "# Use .contents to pull out the <a> tag’s children\n",
    "for artist_name in artist_name_list_items:\n",
    "    names = artist_name.contents[0]\n",
    "    print(names)"
   ]
  },
  {
   "cell_type": "code",
   "execution_count": 39,
   "metadata": {},
   "outputs": [
    {
     "data": {
      "text/plain": [
       "'Omolewa, Adaramola'"
      ]
     },
     "execution_count": 39,
     "metadata": {},
     "output_type": "execute_result"
    }
   ],
   "source": [
    "name = ['Omolewa, Adaramola']\n",
    "name[0]"
   ]
  },
  {
   "cell_type": "code",
   "execution_count": 42,
   "metadata": {},
   "outputs": [
    {
     "name": "stdout",
     "output_type": "stream",
     "text": [
      "/web/20121007172955/https://www.nga.gov/cgi-bin/tsearch?artistid=11630\n",
      "/web/20121007172955/https://www.nga.gov/cgi-bin/tsearch?artistid=34202\n",
      "/web/20121007172955/https://www.nga.gov/cgi-bin/tsearch?artistid=3475\n",
      "/web/20121007172955/https://www.nga.gov/cgi-bin/tsearch?artistid=25135\n",
      "/web/20121007172955/https://www.nga.gov/cgi-bin/tsearch?artistid=2298\n",
      "/web/20121007172955/https://www.nga.gov/cgi-bin/tsearch?artistid=23988\n",
      "/web/20121007172955/https://www.nga.gov/cgi-bin/tsearch?artistid=8232\n",
      "/web/20121007172955/https://www.nga.gov/cgi-bin/tsearch?artistid=34154\n",
      "/web/20121007172955/https://www.nga.gov/cgi-bin/tsearch?artistid=4910\n",
      "/web/20121007172955/https://www.nga.gov/cgi-bin/tsearch?artistid=3450\n",
      "/web/20121007172955/https://www.nga.gov/cgi-bin/tsearch?artistid=1986\n",
      "/web/20121007172955/https://www.nga.gov/cgi-bin/tsearch?artistid=3451\n",
      "/web/20121007172955/https://www.nga.gov/cgi-bin/tsearch?artistid=20099\n",
      "/web/20121007172955/https://www.nga.gov/cgi-bin/tsearch?artistid=3452\n",
      "/web/20121007172955/https://www.nga.gov/cgi-bin/tsearch?artistid=34309\n",
      "/web/20121007172955/https://www.nga.gov/cgi-bin/tsearch?artistid=27191\n",
      "/web/20121007172955/https://www.nga.gov/cgi-bin/tsearch?artistid=5846\n",
      "/web/20121007172955/https://www.nga.gov/cgi-bin/tsearch?artistid=3941\n",
      "/web/20121007172955/https://www.nga.gov/cgi-bin/tsearch?artistid=3941\n",
      "/web/20121007172955/https://www.nga.gov/cgi-bin/tsearch?artistid=3453\n",
      "/web/20121007172955/https://www.nga.gov/cgi-bin/tsearch?artistid=35173\n",
      "/web/20121007172955/https://www.nga.gov/cgi-bin/tsearch?artistid=11133\n",
      "/web/20121007172955/https://www.nga.gov/cgi-bin/tsearch?artistid=3455\n",
      "/web/20121007172955/https://www.nga.gov/cgi-bin/tsearch?artistid=3454\n",
      "/web/20121007172955/https://www.nga.gov/cgi-bin/tsearch?artistid=961\n",
      "/web/20121007172955/https://www.nga.gov/cgi-bin/tsearch?artistid=11597\n",
      "/web/20121007172955/https://www.nga.gov/cgi-bin/tsearch?artistid=11597\n",
      "/web/20121007172955/https://www.nga.gov/cgi-bin/tsearch?artistid=11631\n",
      "/web/20121007172955/https://www.nga.gov/cgi-bin/tsearch?artistid=3427\n"
     ]
    }
   ],
   "source": [
    "# Use .contents to pull out the <a> tag’s children\n",
    "for artist_name in artist_name_list_items:\n",
    "    names = artist_name.get('href')\n",
    "    print(names)"
   ]
  },
  {
   "cell_type": "code",
   "execution_count": 35,
   "metadata": {},
   "outputs": [
    {
     "data": {
      "text/plain": [
       "[<a href=\"/web/20121007172955/https://www.nga.gov/cgi-bin/tsearch?artistid=11630\">Zabaglia, Niccola</a>,\n",
       " <a href=\"/web/20121007172955/https://www.nga.gov/cgi-bin/tsearch?artistid=34202\">Zaccone, Fabian</a>,\n",
       " <a href=\"/web/20121007172955/https://www.nga.gov/cgi-bin/tsearch?artistid=3475\">Zadkine, Ossip</a>,\n",
       " <a href=\"/web/20121007172955/https://www.nga.gov/cgi-bin/tsearch?artistid=25135\">Zaech, Bernhard</a>,\n",
       " <a href=\"/web/20121007172955/https://www.nga.gov/cgi-bin/tsearch?artistid=2298\">Zagar, Jacob</a>,\n",
       " <a href=\"/web/20121007172955/https://www.nga.gov/cgi-bin/tsearch?artistid=23988\">Zagroba, Idalia</a>,\n",
       " <a href=\"/web/20121007172955/https://www.nga.gov/cgi-bin/tsearch?artistid=8232\">Zaidenberg, A.</a>,\n",
       " <a href=\"/web/20121007172955/https://www.nga.gov/cgi-bin/tsearch?artistid=34154\">Zaidenberg, Arthur</a>,\n",
       " <a href=\"/web/20121007172955/https://www.nga.gov/cgi-bin/tsearch?artistid=4910\">Zaisinger, Matthäus</a>,\n",
       " <a href=\"/web/20121007172955/https://www.nga.gov/cgi-bin/tsearch?artistid=3450\">Zajac, Jack</a>,\n",
       " <a href=\"/web/20121007172955/https://www.nga.gov/cgi-bin/tsearch?artistid=1986\">Zak, Eugène</a>,\n",
       " <a href=\"/web/20121007172955/https://www.nga.gov/cgi-bin/tsearch?artistid=3451\">Zakharov, Gurii Fillipovich</a>,\n",
       " <a href=\"/web/20121007172955/https://www.nga.gov/cgi-bin/tsearch?artistid=20099\">Zakowortny, Igor</a>,\n",
       " <a href=\"/web/20121007172955/https://www.nga.gov/cgi-bin/tsearch?artistid=3452\">Zalce, Alfredo</a>,\n",
       " <a href=\"/web/20121007172955/https://www.nga.gov/cgi-bin/tsearch?artistid=34309\">Zalopany, Michele</a>,\n",
       " <a href=\"/web/20121007172955/https://www.nga.gov/cgi-bin/tsearch?artistid=27191\">Zammiello, Craig</a>,\n",
       " <a href=\"/web/20121007172955/https://www.nga.gov/cgi-bin/tsearch?artistid=5846\">Zammitt, Norman</a>,\n",
       " <a href=\"/web/20121007172955/https://www.nga.gov/cgi-bin/tsearch?artistid=3941\">Zampieri, Domenico</a>,\n",
       " <a href=\"/web/20121007172955/https://www.nga.gov/cgi-bin/tsearch?artistid=3941\">Zampieri, called Domenichino, Domenico</a>,\n",
       " <a href=\"/web/20121007172955/https://www.nga.gov/cgi-bin/tsearch?artistid=3453\">Zanartú, Enrique Antunez</a>,\n",
       " <a href=\"/web/20121007172955/https://www.nga.gov/cgi-bin/tsearch?artistid=35173\">Zanchi, Antonio</a>,\n",
       " <a href=\"/web/20121007172955/https://www.nga.gov/cgi-bin/tsearch?artistid=11133\">Zanetti, Anton Maria</a>,\n",
       " <a href=\"/web/20121007172955/https://www.nga.gov/cgi-bin/tsearch?artistid=3455\">Zanetti Borzino, Leopoldina</a>,\n",
       " <a href=\"/web/20121007172955/https://www.nga.gov/cgi-bin/tsearch?artistid=3454\">Zanetti I, Antonio Maria, conte</a>,\n",
       " <a href=\"/web/20121007172955/https://www.nga.gov/cgi-bin/tsearch?artistid=961\">Zanguidi, Jacopo</a>,\n",
       " <a href=\"/web/20121007172955/https://www.nga.gov/cgi-bin/tsearch?artistid=11597\">Zanini, Giuseppe</a>,\n",
       " <a href=\"/web/20121007172955/https://www.nga.gov/cgi-bin/tsearch?artistid=11597\">Zanini-Viola, Giuseppe</a>,\n",
       " <a href=\"/web/20121007172955/https://www.nga.gov/cgi-bin/tsearch?artistid=11631\">Zanotti, Giampietro</a>,\n",
       " <a href=\"/web/20121007172955/https://www.nga.gov/cgi-bin/tsearch?artistid=3427\">Zao Wou-Ki</a>]"
      ]
     },
     "execution_count": 35,
     "metadata": {},
     "output_type": "execute_result"
    }
   ],
   "source": [
    "artist_name_list_items"
   ]
  },
  {
   "cell_type": "code",
   "execution_count": 37,
   "metadata": {},
   "outputs": [],
   "source": []
  },
  {
   "cell_type": "code",
   "execution_count": 34,
   "metadata": {},
   "outputs": [
    {
     "name": "stdout",
     "output_type": "stream",
     "text": [
      "Zabaglia, Niccola\n",
      "https://web.archive.org/web/20121007172955/https://www.nga.gov/cgi-bin/tsearch?artistid=11630\n",
      "Zaccone, Fabian\n",
      "https://web.archive.org/web/20121007172955/https://www.nga.gov/cgi-bin/tsearch?artistid=34202\n",
      "Zadkine, Ossip\n",
      "https://web.archive.org/web/20121007172955/https://www.nga.gov/cgi-bin/tsearch?artistid=3475\n",
      "Zaech, Bernhard\n",
      "https://web.archive.org/web/20121007172955/https://www.nga.gov/cgi-bin/tsearch?artistid=25135\n",
      "Zagar, Jacob\n",
      "https://web.archive.org/web/20121007172955/https://www.nga.gov/cgi-bin/tsearch?artistid=2298\n",
      "Zagroba, Idalia\n",
      "https://web.archive.org/web/20121007172955/https://www.nga.gov/cgi-bin/tsearch?artistid=23988\n",
      "Zaidenberg, A.\n",
      "https://web.archive.org/web/20121007172955/https://www.nga.gov/cgi-bin/tsearch?artistid=8232\n",
      "Zaidenberg, Arthur\n",
      "https://web.archive.org/web/20121007172955/https://www.nga.gov/cgi-bin/tsearch?artistid=34154\n",
      "Zaisinger, Matthäus\n",
      "https://web.archive.org/web/20121007172955/https://www.nga.gov/cgi-bin/tsearch?artistid=4910\n",
      "Zajac, Jack\n",
      "https://web.archive.org/web/20121007172955/https://www.nga.gov/cgi-bin/tsearch?artistid=3450\n",
      "Zak, Eugène\n",
      "https://web.archive.org/web/20121007172955/https://www.nga.gov/cgi-bin/tsearch?artistid=1986\n",
      "Zakharov, Gurii Fillipovich\n",
      "https://web.archive.org/web/20121007172955/https://www.nga.gov/cgi-bin/tsearch?artistid=3451\n",
      "Zakowortny, Igor\n",
      "https://web.archive.org/web/20121007172955/https://www.nga.gov/cgi-bin/tsearch?artistid=20099\n",
      "Zalce, Alfredo\n",
      "https://web.archive.org/web/20121007172955/https://www.nga.gov/cgi-bin/tsearch?artistid=3452\n",
      "Zalopany, Michele\n",
      "https://web.archive.org/web/20121007172955/https://www.nga.gov/cgi-bin/tsearch?artistid=34309\n",
      "Zammiello, Craig\n",
      "https://web.archive.org/web/20121007172955/https://www.nga.gov/cgi-bin/tsearch?artistid=27191\n",
      "Zammitt, Norman\n",
      "https://web.archive.org/web/20121007172955/https://www.nga.gov/cgi-bin/tsearch?artistid=5846\n",
      "Zampieri, Domenico\n",
      "https://web.archive.org/web/20121007172955/https://www.nga.gov/cgi-bin/tsearch?artistid=3941\n",
      "Zampieri, called Domenichino, Domenico\n",
      "https://web.archive.org/web/20121007172955/https://www.nga.gov/cgi-bin/tsearch?artistid=3941\n",
      "Zanartú, Enrique Antunez\n",
      "https://web.archive.org/web/20121007172955/https://www.nga.gov/cgi-bin/tsearch?artistid=3453\n",
      "Zanchi, Antonio\n",
      "https://web.archive.org/web/20121007172955/https://www.nga.gov/cgi-bin/tsearch?artistid=35173\n",
      "Zanetti, Anton Maria\n",
      "https://web.archive.org/web/20121007172955/https://www.nga.gov/cgi-bin/tsearch?artistid=11133\n",
      "Zanetti Borzino, Leopoldina\n",
      "https://web.archive.org/web/20121007172955/https://www.nga.gov/cgi-bin/tsearch?artistid=3455\n",
      "Zanetti I, Antonio Maria, conte\n",
      "https://web.archive.org/web/20121007172955/https://www.nga.gov/cgi-bin/tsearch?artistid=3454\n",
      "Zanguidi, Jacopo\n",
      "https://web.archive.org/web/20121007172955/https://www.nga.gov/cgi-bin/tsearch?artistid=961\n",
      "Zanini, Giuseppe\n",
      "https://web.archive.org/web/20121007172955/https://www.nga.gov/cgi-bin/tsearch?artistid=11597\n",
      "Zanini-Viola, Giuseppe\n",
      "https://web.archive.org/web/20121007172955/https://www.nga.gov/cgi-bin/tsearch?artistid=11597\n",
      "Zanotti, Giampietro\n",
      "https://web.archive.org/web/20121007172955/https://www.nga.gov/cgi-bin/tsearch?artistid=11631\n",
      "Zao Wou-Ki\n",
      "https://web.archive.org/web/20121007172955/https://www.nga.gov/cgi-bin/tsearch?artistid=3427\n"
     ]
    }
   ],
   "source": [
    "for artist_name in artist_name_list_items:\n",
    "    names = artist_name.contents[0]\n",
    "    links = 'https://web.archive.org' + artist_name.get('href')\n",
    "    print(names)\n",
    "    print(links)"
   ]
  },
  {
   "cell_type": "code",
   "execution_count": 44,
   "metadata": {},
   "outputs": [],
   "source": [
    "ArtistNames = []\n",
    "ArtistLink = []\n",
    "for artist_name in artist_name_list_items:\n",
    "    names = artist_name.contents[0]\n",
    "    links = 'https://web.archive.org' + artist_name.get('href')\n",
    "    ArtistNames.append(names)\n",
    "    ArtistLink.append(links)"
   ]
  },
  {
   "cell_type": "code",
   "execution_count": 47,
   "metadata": {},
   "outputs": [],
   "source": [
    "import pandas as pd"
   ]
  },
  {
   "cell_type": "code",
   "execution_count": 48,
   "metadata": {},
   "outputs": [],
   "source": [
    "df = pd.DataFrame({'ArtistNames': ArtistNames, 'ArtistLink': ArtistLink})"
   ]
  },
  {
   "cell_type": "code",
   "execution_count": 50,
   "metadata": {},
   "outputs": [],
   "source": [
    "name_dict = {'Names': ['Ihuoma', 'Omolewa'], 'Price': [1000, 3000]}"
   ]
  },
  {
   "cell_type": "code",
   "execution_count": 51,
   "metadata": {},
   "outputs": [
    {
     "data": {
      "text/html": [
       "<div>\n",
       "<style scoped>\n",
       "    .dataframe tbody tr th:only-of-type {\n",
       "        vertical-align: middle;\n",
       "    }\n",
       "\n",
       "    .dataframe tbody tr th {\n",
       "        vertical-align: top;\n",
       "    }\n",
       "\n",
       "    .dataframe thead th {\n",
       "        text-align: right;\n",
       "    }\n",
       "</style>\n",
       "<table border=\"1\" class=\"dataframe\">\n",
       "  <thead>\n",
       "    <tr style=\"text-align: right;\">\n",
       "      <th></th>\n",
       "      <th>Names</th>\n",
       "      <th>Price</th>\n",
       "    </tr>\n",
       "  </thead>\n",
       "  <tbody>\n",
       "    <tr>\n",
       "      <th>0</th>\n",
       "      <td>Ihuoma</td>\n",
       "      <td>1000</td>\n",
       "    </tr>\n",
       "    <tr>\n",
       "      <th>1</th>\n",
       "      <td>Omolewa</td>\n",
       "      <td>3000</td>\n",
       "    </tr>\n",
       "  </tbody>\n",
       "</table>\n",
       "</div>"
      ],
      "text/plain": [
       "     Names  Price\n",
       "0   Ihuoma   1000\n",
       "1  Omolewa   3000"
      ]
     },
     "execution_count": 51,
     "metadata": {},
     "output_type": "execute_result"
    }
   ],
   "source": [
    "pd.DataFrame(name_dict)"
   ]
  },
  {
   "cell_type": "code",
   "execution_count": 49,
   "metadata": {},
   "outputs": [
    {
     "data": {
      "text/html": [
       "<div>\n",
       "<style scoped>\n",
       "    .dataframe tbody tr th:only-of-type {\n",
       "        vertical-align: middle;\n",
       "    }\n",
       "\n",
       "    .dataframe tbody tr th {\n",
       "        vertical-align: top;\n",
       "    }\n",
       "\n",
       "    .dataframe thead th {\n",
       "        text-align: right;\n",
       "    }\n",
       "</style>\n",
       "<table border=\"1\" class=\"dataframe\">\n",
       "  <thead>\n",
       "    <tr style=\"text-align: right;\">\n",
       "      <th></th>\n",
       "      <th>ArtistNames</th>\n",
       "      <th>ArtistLink</th>\n",
       "    </tr>\n",
       "  </thead>\n",
       "  <tbody>\n",
       "    <tr>\n",
       "      <th>0</th>\n",
       "      <td>Zabaglia, Niccola</td>\n",
       "      <td>https://web.archive.org/web/20121007172955/htt...</td>\n",
       "    </tr>\n",
       "    <tr>\n",
       "      <th>1</th>\n",
       "      <td>Zaccone, Fabian</td>\n",
       "      <td>https://web.archive.org/web/20121007172955/htt...</td>\n",
       "    </tr>\n",
       "    <tr>\n",
       "      <th>2</th>\n",
       "      <td>Zadkine, Ossip</td>\n",
       "      <td>https://web.archive.org/web/20121007172955/htt...</td>\n",
       "    </tr>\n",
       "    <tr>\n",
       "      <th>3</th>\n",
       "      <td>Zaech, Bernhard</td>\n",
       "      <td>https://web.archive.org/web/20121007172955/htt...</td>\n",
       "    </tr>\n",
       "    <tr>\n",
       "      <th>4</th>\n",
       "      <td>Zagar, Jacob</td>\n",
       "      <td>https://web.archive.org/web/20121007172955/htt...</td>\n",
       "    </tr>\n",
       "  </tbody>\n",
       "</table>\n",
       "</div>"
      ],
      "text/plain": [
       "         ArtistNames                                         ArtistLink\n",
       "0  Zabaglia, Niccola  https://web.archive.org/web/20121007172955/htt...\n",
       "1    Zaccone, Fabian  https://web.archive.org/web/20121007172955/htt...\n",
       "2     Zadkine, Ossip  https://web.archive.org/web/20121007172955/htt...\n",
       "3    Zaech, Bernhard  https://web.archive.org/web/20121007172955/htt...\n",
       "4       Zagar, Jacob  https://web.archive.org/web/20121007172955/htt..."
      ]
     },
     "execution_count": 49,
     "metadata": {},
     "output_type": "execute_result"
    }
   ],
   "source": [
    "df.head()"
   ]
  },
  {
   "cell_type": "code",
   "execution_count": null,
   "metadata": {},
   "outputs": [],
   "source": []
  },
  {
   "cell_type": "code",
   "execution_count": 52,
   "metadata": {},
   "outputs": [],
   "source": [
    "pages = []\n",
    "for i in range(1, 5):\n",
    "    url = 'https://web.archive.org/web/20121007172955/https://www.nga.gov/collection/anZ' + str(i) + '.htm'\n",
    "    pages.append(url)"
   ]
  },
  {
   "cell_type": "code",
   "execution_count": 53,
   "metadata": {},
   "outputs": [
    {
     "data": {
      "text/plain": [
       "['https://web.archive.org/web/20121007172955/https://www.nga.gov/collection/anZ1.htm',\n",
       " 'https://web.archive.org/web/20121007172955/https://www.nga.gov/collection/anZ2.htm',\n",
       " 'https://web.archive.org/web/20121007172955/https://www.nga.gov/collection/anZ3.htm',\n",
       " 'https://web.archive.org/web/20121007172955/https://www.nga.gov/collection/anZ4.htm']"
      ]
     },
     "execution_count": 53,
     "metadata": {},
     "output_type": "execute_result"
    }
   ],
   "source": [
    "pages"
   ]
  },
  {
   "cell_type": "code",
   "execution_count": 57,
   "metadata": {},
   "outputs": [],
   "source": [
    "import requests\n",
    "import csv\n",
    "from bs4 import BeautifulSoup\n",
    "\n",
    "\n",
    "page = requests.get('https://web.archive.org/web/20121007172955/http://www.nga.gov/collection/anZ1.htm')\n",
    "\n",
    "soup = BeautifulSoup(page.text, 'html.parser')\n",
    "\n",
    "last_links = soup.find(class_='AlphaNav')\n",
    "last_links.decompose()\n",
    "\n",
    "# Create a file to write to, add headers row\n",
    "f = csv.writer(open('z-artist-names1.csv', 'w'))\n",
    "f.writerow(['Name', 'Link'])\n",
    "\n",
    "artist_name_list = soup.find(class_='BodyText')\n",
    "artist_name_list_items = artist_name_list.find_all('a')\n",
    "\n",
    "for artist_name in artist_name_list_items:\n",
    "    names = artist_name.contents[0]\n",
    "    links = 'https://web.archive.org' + artist_name.get('href')\n",
    "\n",
    "\n",
    "    # Add each artist’s name and associated link to a row\n",
    "    f.writerow([names, links])"
   ]
  },
  {
   "cell_type": "code",
   "execution_count": 58,
   "metadata": {},
   "outputs": [],
   "source": [
    "import requests\n",
    "import csv\n",
    "from bs4 import BeautifulSoup\n",
    "\n",
    "\n",
    "#f = csv.writer(open('z-artist-names.csv', 'w'))\n",
    "#f.writerow(['Name', 'Link'])\n",
    "\n",
    "pages = []\n",
    "\n",
    "for i in range(1, 5):\n",
    "    url = 'https://web.archive.org/web/20121007172955/https://www.nga.gov/collection/anZ' + str(i) + '.htm'\n",
    "    pages.append(url)\n",
    "\n",
    "\n",
    "for item in pages:\n",
    "    page = requests.get(item)\n",
    "    soup = BeautifulSoup(page.text, 'html.parser')\n",
    "\n",
    "    last_links = soup.find(class_='AlphaNav')\n",
    "    last_links.decompose()\n",
    "\n",
    "    artist_name_list = soup.find(class_='BodyText')\n",
    "    artist_name_list_items = artist_name_list.find_all('a')\n",
    "    \n",
    "    ArtistNames = []\n",
    "    ArtistLink = []\n",
    "    \n",
    "    for artist_name in artist_name_list_items:\n",
    "        names = artist_name.contents[0]\n",
    "        links = 'https://web.archive.org' + artist_name.get('href')\n",
    "        ArtistNames.append(names)\n",
    "        ArtistLink.append(links)\n",
    "        #f.writerow([names, links])\n",
    "        \n",
    "    df = pd.DataFrame({'ArtistNames': ArtistNames, 'ArtistLink': ArtistLink})"
   ]
  },
  {
   "cell_type": "code",
   "execution_count": 59,
   "metadata": {},
   "outputs": [
    {
     "data": {
      "text/html": [
       "<div>\n",
       "<style scoped>\n",
       "    .dataframe tbody tr th:only-of-type {\n",
       "        vertical-align: middle;\n",
       "    }\n",
       "\n",
       "    .dataframe tbody tr th {\n",
       "        vertical-align: top;\n",
       "    }\n",
       "\n",
       "    .dataframe thead th {\n",
       "        text-align: right;\n",
       "    }\n",
       "</style>\n",
       "<table border=\"1\" class=\"dataframe\">\n",
       "  <thead>\n",
       "    <tr style=\"text-align: right;\">\n",
       "      <th></th>\n",
       "      <th>ArtistNames</th>\n",
       "      <th>ArtistLink</th>\n",
       "    </tr>\n",
       "  </thead>\n",
       "  <tbody>\n",
       "    <tr>\n",
       "      <th>0</th>\n",
       "      <td>Zorzo da Castelfranco</td>\n",
       "      <td>https://web.archive.org/web/20121010201041/htt...</td>\n",
       "    </tr>\n",
       "    <tr>\n",
       "      <th>1</th>\n",
       "      <td>Zox, Larry</td>\n",
       "      <td>https://web.archive.org/web/20121010201041/htt...</td>\n",
       "    </tr>\n",
       "    <tr>\n",
       "      <th>2</th>\n",
       "      <td>Zsissly</td>\n",
       "      <td>https://web.archive.org/web/20121010201041/htt...</td>\n",
       "    </tr>\n",
       "    <tr>\n",
       "      <th>3</th>\n",
       "      <td>Zuccarelli, Francesco</td>\n",
       "      <td>https://web.archive.org/web/20121010201041/htt...</td>\n",
       "    </tr>\n",
       "    <tr>\n",
       "      <th>4</th>\n",
       "      <td>Zuccarello, Anthony</td>\n",
       "      <td>https://web.archive.org/web/20121010201041/htt...</td>\n",
       "    </tr>\n",
       "  </tbody>\n",
       "</table>\n",
       "</div>"
      ],
      "text/plain": [
       "             ArtistNames                                         ArtistLink\n",
       "0  Zorzo da Castelfranco  https://web.archive.org/web/20121010201041/htt...\n",
       "1             Zox, Larry  https://web.archive.org/web/20121010201041/htt...\n",
       "2                Zsissly  https://web.archive.org/web/20121010201041/htt...\n",
       "3  Zuccarelli, Francesco  https://web.archive.org/web/20121010201041/htt...\n",
       "4    Zuccarello, Anthony  https://web.archive.org/web/20121010201041/htt..."
      ]
     },
     "execution_count": 59,
     "metadata": {},
     "output_type": "execute_result"
    }
   ],
   "source": [
    "df.head()"
   ]
  },
  {
   "cell_type": "code",
   "execution_count": 60,
   "metadata": {},
   "outputs": [
    {
     "data": {
      "text/plain": [
       "(29, 2)"
      ]
     },
     "execution_count": 60,
     "metadata": {},
     "output_type": "execute_result"
    }
   ],
   "source": [
    "df.shape"
   ]
  },
  {
   "cell_type": "code",
   "execution_count": 62,
   "metadata": {},
   "outputs": [],
   "source": [
    "df.to_csv('web_scraping.scv')"
   ]
  },
  {
   "cell_type": "code",
   "execution_count": null,
   "metadata": {},
   "outputs": [],
   "source": []
  }
 ],
 "metadata": {
  "kernelspec": {
   "display_name": "Python 3",
   "language": "python",
   "name": "python3"
  },
  "language_info": {
   "codemirror_mode": {
    "name": "ipython",
    "version": 3
   },
   "file_extension": ".py",
   "mimetype": "text/x-python",
   "name": "python",
   "nbconvert_exporter": "python",
   "pygments_lexer": "ipython3",
   "version": "3.7.6"
  }
 },
 "nbformat": 4,
 "nbformat_minor": 4
}
